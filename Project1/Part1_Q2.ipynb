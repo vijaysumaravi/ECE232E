{
 "cells": [
  {
   "cell_type": "code",
   "execution_count": 2,
   "metadata": {},
   "outputs": [
    {
     "name": "stderr",
     "output_type": "stream",
     "text": [
      "Updating HTML index of packages in '.Library'\n",
      "Making 'packages.html' ... done\n",
      "Updating HTML index of packages in '.Library'\n",
      "Making 'packages.html' ... done\n",
      "Updating HTML index of packages in '.Library'\n",
      "Making 'packages.html' ... done\n",
      "\n",
      "Attaching package: ‘igraph’\n",
      "\n",
      "The following objects are masked from ‘package:stats’:\n",
      "\n",
      "    decompose, spectrum\n",
      "\n",
      "The following object is masked from ‘package:base’:\n",
      "\n",
      "    union\n",
      "\n",
      "\n",
      "Attaching package: ‘pracma’\n",
      "\n",
      "The following objects are masked from ‘package:Matrix’:\n",
      "\n",
      "    expm, lu, tril, triu\n",
      "\n"
     ]
    }
   ],
   "source": [
    "# # Install Necessary Packages\n",
    "install.packages(\"igraph\")\n",
    "install.packages(\"Matrix\")\n",
    "install.packages(\"pracma\")\n",
    "\n",
    "# Load Packages \n",
    "library('igraph')\n",
    "library('Matrix')\n",
    "library('pracma')"
   ]
  },
  {
   "cell_type": "code",
   "execution_count": 4,
   "metadata": {},
   "outputs": [
    {
     "name": "stdout",
     "output_type": "stream",
     "text": [
      "[1] \"Is the graph always connected : TRUE\"\n"
     ]
    },
    {
     "data": {
      "text/html": [
       "<strong>png:</strong> 2"
      ],
      "text/latex": [
       "\\textbf{png:} 2"
      ],
      "text/markdown": [
       "**png:** 2"
      ],
      "text/plain": [
       "png \n",
       "  2 "
      ]
     },
     "metadata": {},
     "output_type": "display_data"
    }
   ],
   "source": [
    "### 2a) Undirected Network with Preferential attachment.\n",
    "\n",
    "#Generate an undirected network with preferential attachment.\n",
    "n = 1000\n",
    "m = 1\n",
    "g <- barabasi.game(n,m, directed=F);\n",
    "print(sprintf(\"Is the graph always connected : %s\",is.connected(g)))\n",
    "# g <- set.graph.attribute(g, \"layout\", layout.fruchterman.reingold(g))\n",
    "png(sprintf(\"plots/part1/question2/q2a.png\"))\n",
    "plot(g, vertex.label=\"\", vertex.size=2, main=sprintf(\"Undirected Network with preferential attachment (n=%d, m=%d)\",n,m))\n",
    "dev.off()"
   ]
  },
  {
   "cell_type": "code",
   "execution_count": 7,
   "metadata": {
    "scrolled": false
   },
   "outputs": [
    {
     "name": "stdout",
     "output_type": "stream",
     "text": [
      "\n",
      "Modularity is  0.934286137989844"
     ]
    },
    {
     "data": {
      "text/html": [
       "<strong>png:</strong> 2"
      ],
      "text/latex": [
       "\\textbf{png:} 2"
      ],
      "text/markdown": [
       "**png:** 2"
      ],
      "text/plain": [
       "png \n",
       "  2 "
      ]
     },
     "metadata": {},
     "output_type": "display_data"
    }
   ],
   "source": [
    "# 2b) Find Community Structure and Modularity.\n",
    "\n",
    "# Find the community structure\n",
    "g_comm = cluster_fast_greedy(g)\n",
    "#print(paste(\"Community is: \", g_comm))\n",
    "\n",
    "# Find the size of community\n",
    "community_size = sizes(g_comm)\n",
    "#cat(paste(\"Community Size is:\", community_size))\n",
    " \n",
    "# Find modularity\n",
    "g_modularity = modularity(g_comm)\n",
    "cat(paste(\"\\nModularity is \", g_modularity))\n",
    "\n",
    "# Plot graph with communities\n",
    "png(sprintf(\"plots/part1/question2/q2b.png\"))\n",
    "plot(g_comm, g, main=sprintf(\"Community Structure (n=%d, m=%d)\",n,m),vertex.size=2, vertex.label=NA)\n",
    "dev.off()"
   ]
  },
  {
   "cell_type": "code",
   "execution_count": 9,
   "metadata": {},
   "outputs": [
    {
     "name": "stdout",
     "output_type": "stream",
     "text": [
      "[1] \"Is the graph always connected : TRUE\"\n"
     ]
    },
    {
     "data": {
      "text/html": [
       "<strong>png:</strong> 2"
      ],
      "text/latex": [
       "\\textbf{png:} 2"
      ],
      "text/markdown": [
       "**png:** 2"
      ],
      "text/plain": [
       "png \n",
       "  2 "
      ]
     },
     "metadata": {},
     "output_type": "display_data"
    },
    {
     "name": "stdout",
     "output_type": "stream",
     "text": [
      "\n",
      "Modularity is  0.978358131842797"
     ]
    },
    {
     "data": {
      "text/html": [
       "<strong>png:</strong> 2"
      ],
      "text/latex": [
       "\\textbf{png:} 2"
      ],
      "text/markdown": [
       "**png:** 2"
      ],
      "text/plain": [
       "png \n",
       "  2 "
      ]
     },
     "metadata": {},
     "output_type": "display_data"
    }
   ],
   "source": [
    "# 2c) Undirected Network with Preferential attachment.\n",
    "\n",
    "#Generate an undirected network with preferential attachment.\n",
    "n = 10000\n",
    "m = 1\n",
    "g <- barabasi.game(n,m, directed=F);\n",
    "print(sprintf(\"Is the graph always connected : %s\",is.connected(g)))\n",
    "# g <- set.graph.attribute(g, \"layout\", layout.fruchterman.reingold(g))\n",
    "png(sprintf(\"plots/part1/question2/q2c_network.png\"))\n",
    "plot(g, vertex.label=\"\", vertex.size=2, main=sprintf(\"Undirected Network with preferential attachment (n=%d, m=%d)\",n,m))\n",
    "dev.off()\n",
    "\n",
    "# Find the community structure\n",
    "g_comm = cluster_fast_greedy(g)\n",
    "# print(paste(\"Community is: \", g_comm))\n",
    "\n",
    "# Find the size of community\n",
    "community_size = sizes(g_comm)\n",
    "# cat(paste(\"Community Size is:\", community_size))\n",
    " \n",
    "# Find modularity\n",
    "g_modularity = modularity(g_comm)\n",
    "cat(paste(\"\\nModularity is \", g_modularity))\n",
    "\n",
    "# Plot graph with communities\n",
    "png(sprintf(\"plots/part1/question2/q2c_community_structure.png\"))\n",
    "plot(g_comm, g, main=sprintf(\"Community Structure (n=%d, m=%d)\",n,m),vertex.size=2, vertex.label=NA)\n",
    "dev.off()"
   ]
  },
  {
   "cell_type": "code",
   "execution_count": 10,
   "metadata": {
    "scrolled": false
   },
   "outputs": [
    {
     "name": "stdout",
     "output_type": "stream",
     "text": [
      "For n =  1000\n",
      "Call:\n",
      "lm(formula = y ~ x)\n",
      "\n",
      "Coefficients:\n",
      "(Intercept)            x  \n",
      "     0.6869      -2.4369  \n",
      "\n",
      "For n =  10000\n",
      "Call:\n",
      "lm(formula = y ~ x)\n",
      "\n",
      "Coefficients:\n",
      "(Intercept)            x  \n",
      "     0.7856      -2.7255  \n",
      "\n"
     ]
    }
   ],
   "source": [
    "#2d) Plot degree distribution in log-log scale. \n",
    "\n",
    "n_array = c(1000,10000)\n",
    "m=1\n",
    "for (n in n_array) {\n",
    "    g = barabasi.game(n=n,m=m, directed=F)\n",
    "    deg_distribution = degree.distribution(g)\n",
    "    # take log \n",
    "    idx = which(deg_distribution != 0, arr.ind=TRUE) #remove 0s\n",
    "    x = log(seq(1:length(deg_distribution)))[idx]\n",
    "    y = log(deg_distribution)[idx]\n",
    "    \n",
    "    cat(paste(\"For n = \", n))\n",
    "    \n",
    "    # Solve linear Equation:\n",
    "    relation = lm(y ~ x)\n",
    "    print(relation)\n",
    "    png(sprintf(\"plots/part1/question2/q2d_logplot_n_%d.png\",n))\n",
    "    plot(x,y,abline(relation,col=\"red\"),main=sprintf(\"Degree distribution of the network for n=%d (log-log plot)\",n),xlab=\"log(Degree)\",ylab=\"log(Probability)\")\n",
    "    dev.off()\n",
    "    png(sprintf(\"plots/part1/question2/q2d_hist_n_%d.png\",n))\n",
    "    hist(degree(g),col=rgb(0.1,0.5,1,.6),main=sprintf(\"Degree distribution of the network for n=%d (Histogram)\",n),xlab=\"Degree\",ylab=\"Frequency\" )\n",
    "    dev.off()\n",
    "}\n",
    "\n"
   ]
  },
  {
   "cell_type": "code",
   "execution_count": 13,
   "metadata": {
    "scrolled": false
   },
   "outputs": [
    {
     "name": "stdout",
     "output_type": "stream",
     "text": [
      "\n",
      " results for n= 1000\n",
      "Call:\n",
      "lm(formula = log_distribution ~ log_degree)\n",
      "\n",
      "Coefficients:\n",
      "(Intercept)   log_degree  \n",
      "     -1.022       -1.229  \n",
      "\n",
      "\n",
      " results for n= 10000\n",
      "Call:\n",
      "lm(formula = log_distribution ~ log_degree)\n",
      "\n",
      "Coefficients:\n",
      "(Intercept)   log_degree  \n",
      "    -0.7553      -1.4900  \n",
      "\n"
     ]
    }
   ],
   "source": [
    "#2e) log degree distribution of random jth neighbour \n",
    "\n",
    "n_array = c(1000,10000)\n",
    "m = 1\n",
    "iteration_times = 10000\n",
    "for (n in n_array) {\n",
    "    \n",
    "    g = barabasi.game(n=n, m=m, directed=FALSE)\n",
    "    degree_neighbors = c()\n",
    "    for (i in seq(1:iteration_times)) # Reapeat 10000 times\n",
    "    {\n",
    "        node_i = sample(n, 1) # Get a random number\n",
    "        neighbors_node_i = neighbors(g, node_i)\n",
    "        if (length(neighbors_node_i) == 1)\n",
    "        {\n",
    "            node_j = neighbors_node_i\n",
    "        }\n",
    "        else\n",
    "        {\n",
    "            node_j = sample(neighbors_node_i, 1)\n",
    "        }\n",
    "        degree_neighbors = c(degree_neighbors, degree(g, node_j))\n",
    "    }\n",
    "    cat(paste(\"\\n results for n=\",n))\n",
    "    png(sprintf(\"plots/part1/question2/q2e_hist_n_%d.png\",n))\n",
    "    h = hist(degree_neighbors, breaks=seq(0, max(degree_neighbors)), freq=FALSE, main =sprintf(\"Histogram of degree distribution (n=%d)\",n), xlab=\"Degree\")\n",
    "    #h = hist(degree_neighbors, main =sprintf(\"Histogram of degree distribution for jth node with n=%d\",n), xlab=\"Degree\", ylab=\"Frequency\")\n",
    "    dev.off()\n",
    "    plot_x = tail(h$breaks, length(h$breaks) - 1) # Remove 0\n",
    "    plot_y = h$density\n",
    "    idx = which(plot_y != 0, arr.ind=TRUE)\n",
    "    log_degree = log(seq(1:length(plot_y)))[idx]\n",
    "    log_distribution = log(plot_y)[idx]\n",
    "    relation = lm(log_distribution ~ log_degree)\n",
    "    print(relation)\n",
    "    \n",
    "    png(sprintf(\"plots/part1/question2/q2e_logplot_n_%d.png\",n))\n",
    "    plot(log_degree, log_distribution,abline(relation,col=\"red\"), main=sprintf(\"Degree distribution of the jth node for n=%d m=%d (log-log plot)\",n,m), xlab=\"log(Degree)\", ylab=\"log(Density)\")\n",
    "    dev.off()\n",
    "}\n"
   ]
  },
  {
   "cell_type": "code",
   "execution_count": 14,
   "metadata": {},
   "outputs": [
    {
     "data": {
      "text/html": [
       "<strong>png:</strong> 2"
      ],
      "text/latex": [
       "\\textbf{png:} 2"
      ],
      "text/markdown": [
       "**png:** 2"
      ],
      "text/plain": [
       "png \n",
       "  2 "
      ]
     },
     "metadata": {},
     "output_type": "display_data"
    }
   ],
   "source": [
    "#2f) Age of nodes\n",
    "\n",
    "n = 1000\n",
    "m = 1\n",
    "iteration_times =1000\n",
    "degrees.sum = vector(mode = \"numeric\", length = iteration_times)\n",
    "for (i in 1:iteration_times){\n",
    "    g = barabasi.game(n=n,m = m, directed=F)\n",
    "    degrees.sum = degrees.sum + degree(g)\n",
    "}\n",
    "\n",
    "png(sprintf(\"plots/part1/question2/q2f.png\"))\n",
    "plot(seq(1:iteration_times),rev(degrees.sum/iteration_times) ,main=sprintf(\"Age of Nodes vs Expected Degree (n=%d m=%d)\",n,m),xlab=\"Age of Nodes\",ylab=\"Expected Degree\",type=\"l\")\n",
    "dev.off()"
   ]
  },
  {
   "cell_type": "code",
   "execution_count": 15,
   "metadata": {
    "scrolled": false
   },
   "outputs": [
    {
     "name": "stdout",
     "output_type": "stream",
     "text": [
      "[1] \"2a, 2b, 2c\"\n",
      "\n",
      "n=  1000\n",
      "m=  2\n",
      "[1] \"Is the graph always connected : TRUE\"\n",
      "\n",
      "Modularity is  0.527829425660773\n",
      "n=  10000\n",
      "m=  2\n",
      "[1] \"Is the graph always connected : TRUE\"\n",
      "\n",
      "Modularity is  0.530985359910811[1] \"2d\"\n",
      "\n",
      "n=  1000\n",
      "m=  2\n",
      "\n",
      "Call:\n",
      "lm(formula = y ~ x)\n",
      "\n",
      "Coefficients:\n",
      "(Intercept)            x  \n",
      "      1.209       -2.354  \n",
      "\n",
      "\n",
      "n=  10000\n",
      "m=  2\n",
      "\n",
      "Call:\n",
      "lm(formula = y ~ x)\n",
      "\n",
      "Coefficients:\n",
      "(Intercept)            x  \n",
      "      1.019       -2.452  \n",
      "\n",
      "[1] \"2e\"\n",
      "\n",
      "n=  1000\n",
      "m=  2\n",
      "\n",
      "Call:\n",
      "lm(formula = log_distribution ~ log_degree)\n",
      "\n",
      "Coefficients:\n",
      "(Intercept)   log_degree  \n",
      "    -0.9971      -1.1291  \n",
      "\n",
      "\n",
      "n=  10000\n",
      "m=  2\n",
      "\n",
      "Call:\n",
      "lm(formula = log_distribution ~ log_degree)\n",
      "\n",
      "Coefficients:\n",
      "(Intercept)   log_degree  \n",
      "    -0.8447      -1.3433  \n",
      "\n",
      "[1] \"2f\"\n",
      "\n",
      "n=  1000\n",
      "m=  2[1] \"2a, 2b, 2c\"\n",
      "\n",
      "n=  1000\n",
      "m=  5\n",
      "[1] \"Is the graph always connected : TRUE\"\n",
      "\n",
      "Modularity is  0.281452119648816\n",
      "n=  10000\n",
      "m=  5\n",
      "[1] \"Is the graph always connected : TRUE\"\n",
      "\n",
      "Modularity is  0.27887342555672[1] \"2d\"\n",
      "\n",
      "n=  1000\n",
      "m=  5\n",
      "\n",
      "Call:\n",
      "lm(formula = y ~ x)\n",
      "\n",
      "Coefficients:\n",
      "(Intercept)            x  \n",
      "      1.243       -1.972  \n",
      "\n",
      "\n",
      "n=  10000\n",
      "m=  5\n",
      "\n",
      "Call:\n",
      "lm(formula = y ~ x)\n",
      "\n",
      "Coefficients:\n",
      "(Intercept)            x  \n",
      "      1.371       -2.195  \n",
      "\n",
      "[1] \"2e\"\n",
      "\n",
      "n=  1000\n",
      "m=  5\n",
      "\n",
      "Call:\n",
      "lm(formula = log_distribution ~ log_degree)\n",
      "\n",
      "Coefficients:\n",
      "(Intercept)   log_degree  \n",
      "    -1.1439      -0.9575  \n",
      "\n",
      "\n",
      "n=  10000\n",
      "m=  5\n",
      "\n",
      "Call:\n",
      "lm(formula = log_distribution ~ log_degree)\n",
      "\n",
      "Coefficients:\n",
      "(Intercept)   log_degree  \n",
      "     -0.935       -1.205  \n",
      "\n",
      "[1] \"2f\"\n",
      "\n",
      "n=  1000\n",
      "m=  5"
     ]
    }
   ],
   "source": [
    "#2g) Repeat 2a-2f for m=2, m=5\n",
    "\n",
    "m_array = c(2,5)\n",
    "n_array = c(1000,10000)\n",
    "\n",
    "for (m in m_array) {\n",
    "    \n",
    "    print(\"2a, 2b, 2c\")\n",
    "    for (n in n_array){\n",
    "        cat(paste(\"\\nn= \", n))\n",
    "        cat(paste(\"\\nm= \", m))\n",
    "        g <- barabasi.game(n =n,m = m, directed=F);\n",
    "        cat(\"\\n\")\n",
    "        print(sprintf(\"Is the graph always connected : %s\",is.connected(g)))\n",
    "        png(sprintf(\"plots/part1/question2/q2g_partabc_network_n%d_m%d.png\",n,m))\n",
    "        plot(g, vertex.label=\"\", vertex.size=2, main=sprintf(\"Undirected Network with preferential attachment(n=%d m=%d)\",n,m))\n",
    "        dev.off()\n",
    "        g_comm = cluster_fast_greedy(g)\n",
    "        community_size = sizes(g_comm)\n",
    "        g_modularity = modularity(g_comm)\n",
    "        cat(paste(\"\\nModularity is \", g_modularity))\n",
    "        png(sprintf(\"plots/part1/question2/q2g_partabc_commstruct_n%d_m%d.png\",n,m))\n",
    "        plot(g_comm, g, main=sprintf(\"Community Structure (n=%d m=%d)\",n,m),vertex.size=2, vertex.label=NA)\n",
    "        dev.off()\n",
    "    }\n",
    "    \n",
    "    print(\"2d\")\n",
    "    for (n in n_array) {\n",
    "        cat(paste(\"\\nn= \", n))\n",
    "        cat(paste(\"\\nm= \", m))\n",
    "        g = barabasi.game(n=n,m=m, directed=F)\n",
    "        deg_distribution = degree.distribution(g)\n",
    "        idx = which(deg_distribution != 0, arr.ind=TRUE) \n",
    "        x = log(seq(1:length(deg_distribution)))[idx]\n",
    "        y = log(deg_distribution)[idx]\n",
    "        relation = lm(y ~ x)\n",
    "        cat(\"\\n\")\n",
    "        print(relation)\n",
    "        png(sprintf(\"plots/part1/question2/q2g_partd_logplot_n%d_m%d.png\",n,m))\n",
    "        plot(x,y,abline(relation,col=\"red\"),main=sprintf(\"Degree distribution of the network for n=%d, m=%d (log-log plot)\",n,m),xlab=\"log(Degree)\",ylab=\"log(Probability)\")\n",
    "        dev.off()\n",
    "        png(sprintf(\"plots/part1/question2/q2g_partd_hist_n%d_m%d.png\",n,m))\n",
    "        hist(degree(g),col=rgb(0.1,0.5,1,.6),main=sprintf(\"Degree distribution of the network for n=%d, m=%d (Histogram)\",n,m),xlab=\"Degree\",ylab=\"Frequency\" )\n",
    "        dev.off()\n",
    "    }\n",
    "    \n",
    "    print(\"2e\")\n",
    "    iteration_times = 10000\n",
    "    for (n in n_array) {\n",
    "        cat(paste(\"\\nn= \", n))\n",
    "        cat(paste(\"\\nm= \", m))\n",
    "        g = barabasi.game(n=n, m=m, directed=FALSE)\n",
    "        degree_neighbors = c()\n",
    "        for (i in seq(1:iteration_times)){\n",
    "            node_i = sample(n, 1) \n",
    "            neighbors_node_i = neighbors(g, node_i)\n",
    "            if (length(neighbors_node_i) == 1)\n",
    "            {\n",
    "                node_j = neighbors_node_i\n",
    "            }\n",
    "            else\n",
    "            {\n",
    "                node_j = sample(neighbors_node_i, 1)\n",
    "            }\n",
    "            degree_neighbors = c(degree_neighbors, degree(g, node_j))\n",
    "        }\n",
    "        png(sprintf(\"plots/part1/question2/q2g_parte_hist_parte_n%d_m%d.png\",n,m))\n",
    "        h = hist(degree_neighbors, breaks=seq(0, max(degree_neighbors)), freq=FALSE, main =\"Histogram of degree distribution\", xlab=\"Degree\")\n",
    "        dev.off()\n",
    "        plot_x = tail(h$breaks, length(h$breaks) - 1)\n",
    "        plot_y = h$density\n",
    "        idx = which(plot_y != 0, arr.ind=TRUE)\n",
    "        log_degree = log(seq(1:length(plot_y)))[idx]\n",
    "        log_distribution = log(plot_y)[idx]\n",
    "        relation = lm(log_distribution ~ log_degree)\n",
    "        cat(\"\\n\")\n",
    "        print(relation)\n",
    "        png(sprintf(\"plots/part1/question2/q2g_parte_logplot_n%d_m%d.png\",n,m))\n",
    "        plot(log_degree, log_distribution,abline(relation,col=\"red\"), main=sprintf(\"Degree distribution of the jth node for n=%d m=%d (log-log plot)\",n,m), xlab=\"log(Degree)\", ylab=\"log(Density)\")\n",
    "        dev.off()\n",
    "    }\n",
    "    \n",
    "    print(\"2f\")\n",
    "    n = 1000\n",
    "    cat(paste(\"\\nn= \", n))\n",
    "    cat(paste(\"\\nm= \", m))\n",
    "    iteration_times =1000\n",
    "    degrees.sum = vector(mode = \"numeric\", length = iteration_times)\n",
    "    for (i in 1:iteration_times){\n",
    "        g = barabasi.game(n=n,m = m, directed=F)\n",
    "        degrees.sum = degrees.sum + degree(g)\n",
    "    }\n",
    "    png(sprintf(\"plots/part1/question2/q2g_partf_age_m%d.png\",m))\n",
    "    plot(seq(1:iteration_times),rev(degrees.sum/iteration_times) ,main=sprintf(\"Age of Nodes vs Expected Degree (n=%d m=%d)\",n,m),xlab=\"Age of Nodes\",ylab=\"Expected Degree\",type=\"l\")\n",
    "    dev.off()\n",
    "}\n",
    "    \n",
    "\n",
    "    "
   ]
  },
  {
   "cell_type": "code",
   "execution_count": 16,
   "metadata": {
    "scrolled": false
   },
   "outputs": [
    {
     "name": "stdout",
     "output_type": "stream",
     "text": [
      "\n",
      "Modularity of Original Network is  0.93380968556144"
     ]
    },
    {
     "data": {
      "text/html": [
       "<strong>png:</strong> 2"
      ],
      "text/latex": [
       "\\textbf{png:} 2"
      ],
      "text/markdown": [
       "**png:** 2"
      ],
      "text/plain": [
       "png \n",
       "  2 "
      ]
     },
     "metadata": {},
     "output_type": "display_data"
    },
    {
     "data": {
      "text/html": [
       "<strong>png:</strong> 2"
      ],
      "text/latex": [
       "\\textbf{png:} 2"
      ],
      "text/markdown": [
       "**png:** 2"
      ],
      "text/plain": [
       "png \n",
       "  2 "
      ]
     },
     "metadata": {},
     "output_type": "display_data"
    },
    {
     "name": "stdout",
     "output_type": "stream",
     "text": [
      "\n",
      "Modularity of New Network is  0.832903474044617"
     ]
    },
    {
     "data": {
      "text/html": [
       "<strong>png:</strong> 2"
      ],
      "text/latex": [
       "\\textbf{png:} 2"
      ],
      "text/markdown": [
       "**png:** 2"
      ],
      "text/plain": [
       "png \n",
       "  2 "
      ]
     },
     "metadata": {},
     "output_type": "display_data"
    },
    {
     "data": {
      "text/html": [
       "<strong>png:</strong> 2"
      ],
      "text/latex": [
       "\\textbf{png:} 2"
      ],
      "text/markdown": [
       "**png:** 2"
      ],
      "text/plain": [
       "png \n",
       "  2 "
      ]
     },
     "metadata": {},
     "output_type": "display_data"
    }
   ],
   "source": [
    "#2h) Stub matching\n",
    "\n",
    "n = 1000\n",
    "m = 1\n",
    "g1 = barabasi.game(n=n, m=m, directed=FALSE)\n",
    "degree1 = degree(g1)\n",
    "g_comm1 = fastgreedy.community(g1)\n",
    "modularity_g1 = modularity(g_comm1)\n",
    "cat(paste(\"\\nModularity of Original Network is \", modularity_g1))\n",
    "\n",
    "png(sprintf(\"plots/part1/question2/q2h_original_network.png\"))\n",
    "plot(g1,vertex.size=2, vertex.label=NA,main=\"Original undirected Network with Preferential Attachment\")\n",
    "dev.off()\n",
    "\n",
    "png(sprintf(\"plots/part1/question2/q2h_original_commstruct.png\"))\n",
    "plot(g_comm1, g1, vertex.size=2, vertex.label=NA,main=\"Community Structure of Original Network\")\n",
    "dev.off()\n",
    "\n",
    "g2 = sample_degseq(degree1, method=\"simple.no.multiple\") # Generate graph with same degree sequence \n",
    "g_comm2 = fastgreedy.community(g2)\n",
    "modularity_g2 = modularity(g_comm2)\n",
    "cat(paste(\"\\nModularity of New Network is \", modularity_g2))\n",
    "\n",
    "png(sprintf(\"plots/part1/question2/q2h_new_network.png\"))\n",
    "plot(g2,vertex.size=2, vertex.label=NA,main=\"New network with the same Degree Sequence\")\n",
    "dev.off()\n",
    "\n",
    "png(sprintf(\"plots/part1/question2/q2h_new_commstruct.png\"))\n",
    "plot(g_comm2, g2, vertex.size=2, vertex.label=NA,main=\"Community Structure of new Network\")\n",
    "dev.off()"
   ]
  }
 ],
 "metadata": {
  "kernelspec": {
   "display_name": "R",
   "language": "R",
   "name": "ir"
  },
  "language_info": {
   "codemirror_mode": "r",
   "file_extension": ".r",
   "mimetype": "text/x-r-source",
   "name": "R",
   "pygments_lexer": "r",
   "version": "3.6.1"
  }
 },
 "nbformat": 4,
 "nbformat_minor": 2
}
