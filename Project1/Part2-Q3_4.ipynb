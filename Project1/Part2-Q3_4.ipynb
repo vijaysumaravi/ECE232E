{
 "cells": [
  {
   "cell_type": "code",
   "execution_count": 1,
   "metadata": {},
   "outputs": [
    {
     "name": "stderr",
     "output_type": "stream",
     "text": [
      "Warning message:\n",
      "\"package 'igraph' was built under R version 3.6.3\"\n",
      "Attaching package: 'igraph'\n",
      "\n",
      "The following objects are masked from 'package:stats':\n",
      "\n",
      "    decompose, spectrum\n",
      "\n",
      "The following object is masked from 'package:base':\n",
      "\n",
      "    union\n",
      "\n",
      "Warning message:\n",
      "\"package 'gsubfn' was built under R version 3.6.3\"Loading required package: proto\n",
      "Warning message:\n",
      "\"package 'proto' was built under R version 3.6.3\""
     ]
    }
   ],
   "source": [
    "library(igraph)\n",
    "# install.packages(\"gsubfn\")\n",
    "library(gsubfn) #allows unpacking multiple return values from functions without using a dummy variable (but needs a fresh R session to work, intitially)"
   ]
  },
  {
   "cell_type": "code",
   "execution_count": 2,
   "metadata": {},
   "outputs": [
    {
     "name": "stderr",
     "output_type": "stream",
     "text": [
      "\n",
      "Attaching package: 'resample'\n",
      "\n",
      "The following object is masked from 'package:gsubfn':\n",
      "\n",
      "    cat0\n",
      "\n"
     ]
    }
   ],
   "source": [
    "#install.packages(\"resample\")\n",
    "library('resample')"
   ]
  },
  {
   "cell_type": "code",
   "execution_count": 3,
   "metadata": {},
   "outputs": [
    {
     "name": "stderr",
     "output_type": "stream",
     "text": [
      "Warning message:\n",
      "\"package 'pracma' was built under R version 3.6.3\"\n",
      "Attaching package: 'pracma'\n",
      "\n",
      "The following objects are masked from 'package:Matrix':\n",
      "\n",
      "    expm, lu, tril, triu\n",
      "\n"
     ]
    }
   ],
   "source": [
    "library('Matrix')\n",
    "library('pracma')"
   ]
  },
  {
   "cell_type": "code",
   "execution_count": 4,
   "metadata": {},
   "outputs": [],
   "source": [
    "printf <- function(...) cat(sprintf(...))"
   ]
  },
  {
   "cell_type": "code",
   "execution_count": 5,
   "metadata": {},
   "outputs": [],
   "source": [
    "logspace <- function( d1, d2, n) exp(log(10)*seq(d1, d2, length.out=n))"
   ]
  },
  {
   "cell_type": "markdown",
   "metadata": {},
   "source": [
    "# Part 2"
   ]
  },
  {
   "cell_type": "markdown",
   "metadata": {},
   "source": [
    "## Q3"
   ]
  },
  {
   "cell_type": "code",
   "execution_count": 6,
   "metadata": {},
   "outputs": [],
   "source": [
    "create_transition_matrix = function (g){\n",
    "    \n",
    "    # WARNING: make sure your graph is connected (you might input GCC of your graph)\n",
    "    \n",
    "    if(!is_connected(g)){\n",
    "        print(\"Not connected\")\n",
    "    }\n",
    "    \n",
    "    vs = V(g)\n",
    "    n = vcount(g)\n",
    "    adj = as_adjacency_matrix(g)\n",
    "    adj[diag(rowSums(adj) == 0)] = 1  # handle if the user is using the function for networks with isolated nodes by creating self-edges\n",
    "    z = matrix(rowSums(adj, , 1))\n",
    "    \n",
    "    transition_matrix = adj / repmat(z, 1, n)  # normalize to get probabilities\n",
    "    \n",
    "    return(transition_matrix)\n",
    "}"
   ]
  },
  {
   "cell_type": "code",
   "execution_count": 7,
   "metadata": {},
   "outputs": [],
   "source": [
    "random_walk_custom = function (g, num_steps, start_node, transition_matrix = NULL, teleportation=0.0, teleport_visit_mode=\"equal\"){\n",
    "    if(is.null(transition_matrix))\n",
    "        transition_matrix = create_transition_matrix(g)\n",
    "        \n",
    "    v = start_node\n",
    "    vert_seq = array(NA, length(num_steps))\n",
    "    \n",
    "    switch(teleport_visit_mode, \n",
    "    \"equal\"={\n",
    "        visit_probs=array(1/vcount(g), vcount(g))\n",
    "    },\n",
    "    \"pg\"={\n",
    "        pg_ranks=page_rank(g, directed=T)$vector\n",
    "        visit_probs=pg_ranks/sum(pg_ranks)   \n",
    "    },\n",
    "    \"pg_median\"={\n",
    "        pg_ranks=page_rank(g, directed=T)$vector\n",
    "        df = data.frame(\"idx\"=1:vcount(g), \"val\"=pg_ranks)\n",
    "        df=df[order(df$val),]\n",
    "        visit_probs=array(0, vcount(g))\n",
    "        mid=vcount(g) %/% 2\n",
    "        visit_probs[df$idx[mid:mid+1]]=0.5\n",
    "    },\n",
    "    {\n",
    "       visit_probs=array(1/vcount(g), vcount(g))\n",
    "    }\n",
    "    )\n",
    "    \n",
    "    \n",
    "    \n",
    "    \n",
    "    for(i in 1:num_steps){\n",
    "        #fprintf('Step %d: %d\\n', i, v)  # COMMENT THIS\n",
    "        if(runif(1)<teleportation){\n",
    "            v = sample(1:vcount(g), 1, prob = visit_probs)   \n",
    "        }\n",
    "        else{\n",
    "            PMF = transition_matrix[v, ]\n",
    "            v = sample(1:vcount(g), 1, prob = PMF)   \n",
    "        }     \n",
    "        vert_seq[i] = v\n",
    "    }\n",
    "    \n",
    "    return(vert_seq)\n",
    "}"
   ]
  },
  {
   "cell_type": "code",
   "execution_count": 8,
   "metadata": {},
   "outputs": [],
   "source": [
    "perform_random_walk_custom = function(g, steps, iters, teleportation=0.0, teleport_visit_mode=\"equal\"){\n",
    "    n_node_visits=array(0, vcount(g))\n",
    "    n_steady_state = ceiling(log(vcount(g)))\n",
    "    for(i in 1:iters){\n",
    "        start_vert = sample(1:vcount(g), 1)\n",
    "        vert_seq = random_walk_custom(g, steps, start_vert, teleportation=teleportation, teleport_visit_mode=teleport_visit_mode)\n",
    "        for (j in 1:length(vert_seq)) {\n",
    "            if (j > n_steady_state) {\n",
    "                n_node_visits[vert_seq[j]] = n_node_visits[vert_seq[j]] + 1\n",
    "            }\n",
    "        }\n",
    "    }\n",
    "    return (n_node_visits / ((steps-n_steady_state) * iters))\n",
    "}"
   ]
  },
  {
   "cell_type": "markdown",
   "metadata": {},
   "source": [
    "#### (a)"
   ]
  },
  {
   "cell_type": "code",
   "execution_count": 9,
   "metadata": {},
   "outputs": [],
   "source": [
    "g1 <- sample_pa(n=1000, m=4, directed=T)\n",
    "g2 <- sample_pa(n=1000, m=4, directed=T)"
   ]
  },
  {
   "cell_type": "code",
   "execution_count": 10,
   "metadata": {},
   "outputs": [],
   "source": [
    "g2p <- permute(g2, sample(vcount(g2)))"
   ]
  },
  {
   "cell_type": "code",
   "execution_count": 11,
   "metadata": {},
   "outputs": [],
   "source": [
    "g11 = add_edges(g1, c(t(as_edgelist(g2p))))"
   ]
  },
  {
   "cell_type": "code",
   "execution_count": 12,
   "metadata": {},
   "outputs": [
    {
     "name": "stdout",
     "output_type": "stream",
     "text": [
      "[1] 7980\n"
     ]
    }
   ],
   "source": [
    "print(ecount(g11))"
   ]
  },
  {
   "cell_type": "code",
   "execution_count": 13,
   "metadata": {},
   "outputs": [],
   "source": [
    "set.seed(1)"
   ]
  },
  {
   "cell_type": "code",
   "execution_count": 14,
   "metadata": {},
   "outputs": [],
   "source": [
    "iters=100\n",
    "steps=1000"
   ]
  },
  {
   "cell_type": "code",
   "execution_count": 15,
   "metadata": {},
   "outputs": [],
   "source": [
    "node_visits_probs=perform_random_walk_custom(g11, steps, iters)"
   ]
  },
  {
   "cell_type": "code",
   "execution_count": 21,
   "metadata": {},
   "outputs": [
    {
     "data": {
      "image/png": "[encoded data removed]",
      "text/plain": [
       "plot without title"
      ]
     },
     "metadata": {},
     "output_type": "display_data"
    }
   ],
   "source": [
    "plot(node_visits_probs, type=\"b\", xlab='Node index', ylab='Probability of visiting')"
   ]
  },
  {
   "cell_type": "code",
   "execution_count": 19,
   "metadata": {},
   "outputs": [
    {
     "data": {
      "text/html": [
       "<strong>png:</strong> 2"
      ],
      "text/latex": [
       "\\textbf{png:} 2"
      ],
      "text/markdown": [
       "**png:** 2"
      ],
      "text/plain": [
       "png \n",
       "  2 "
      ]
     },
     "metadata": {},
     "output_type": "display_data"
    }
   ],
   "source": [
    "png(sprintf(\"plots/p1q2_3_a_1.png\"))\n",
    "plot(node_visits_probs, type=\"b\", xlab='Node index', ylab='Probability of visiting')\n",
    "dev.off()"
   ]
  },
  {
   "cell_type": "code",
   "execution_count": 22,
   "metadata": {},
   "outputs": [
    {
     "data": {
      "image/png": "[encoded data removed]",
      "text/plain": [
       "plot without title"
      ]
     },
     "metadata": {},
     "output_type": "display_data"
    }
   ],
   "source": [
    "plot(degree(g11),col=\"red\")"
   ]
  },
  {
   "cell_type": "code",
   "execution_count": 24,
   "metadata": {},
   "outputs": [
    {
     "data": {
      "image/png": "[encoded data removed]",
      "text/plain": [
       "plot without title"
      ]
     },
     "metadata": {},
     "output_type": "display_data"
    }
   ],
   "source": [
    "plot(degree(g11), node_visits_probs, xlab='Degree', ylab='Probability of visiting')"
   ]
  },
  {
   "cell_type": "code",
   "execution_count": 50,
   "metadata": {},
   "outputs": [],
   "source": [
    "fit_line = function(x, y, log=FALSE){\n",
    "    if(log){\n",
    "        slope <- getElement(lm(log(y) ~ log(x))$coefficients[2], \"log(x)\")\n",
    "        intercept <- getElement(lm(log(y) ~ log(x))$coefficients[1], \"(Intercept)\")\n",
    "    }\n",
    "    else{\n",
    "        slope <- getElement(lm(y ~ x)$coefficients[2], \"x\")\n",
    "        intercept <- getElement(lm(y ~ x)$coefficients[1], \"(Intercept)\")\n",
    "    }\n",
    "    return (list(slope, intercept))\n",
    "}"
   ]
  },
  {
   "cell_type": "code",
   "execution_count": 52,
   "metadata": {},
   "outputs": [
    {
     "name": "stdout",
     "output_type": "stream",
     "text": [
      "[1] 0.0001713408\n",
      "[1] 0.9045546\n"
     ]
    },
    {
     "data": {
      "image/png": "[encoded data removed]",
      "text/plain": [
       "Plot with title \"gamma=0.0002\""
      ]
     },
     "metadata": {},
     "output_type": "display_data"
    }
   ],
   "source": [
    "list[slope, d] <- fit_line(degree(g11), node_visits_probs)\n",
    "print(slope)\n",
    "plot(degree(g11), node_visits_probs, xlab='Degree', ylab='Probability of visiting',main=sprintf(\"gamma=%.4f\", slope))\n",
    "abline(lm(node_visits_probs ~ degree(g11)), col=\"red\")\n",
    "print(cor(degree(g11), node_visits_probs))"
   ]
  },
  {
   "cell_type": "code",
   "execution_count": 26,
   "metadata": {},
   "outputs": [
    {
     "data": {
      "text/html": [
       "<strong>png:</strong> 2"
      ],
      "text/latex": [
       "\\textbf{png:} 2"
      ],
      "text/markdown": [
       "**png:** 2"
      ],
      "text/plain": [
       "png \n",
       "  2 "
      ]
     },
     "metadata": {},
     "output_type": "display_data"
    }
   ],
   "source": [
    "png(sprintf(\"plots/p1q2_3_a_2.png\"))\n",
    "plot(degree(g11), node_visits_probs, xlab='Degree', ylab='Probability of visiting')\n",
    "dev.off()"
   ]
  },
  {
   "cell_type": "markdown",
   "metadata": {},
   "source": [
    "#### (b)"
   ]
  },
  {
   "cell_type": "code",
   "execution_count": 30,
   "metadata": {},
   "outputs": [],
   "source": [
    "iters=100\n",
    "steps=1000\n",
    "alpha=0.15"
   ]
  },
  {
   "cell_type": "code",
   "execution_count": 31,
   "metadata": {},
   "outputs": [],
   "source": [
    "node_visits_probs_equal=perform_random_walk_custom(g11, steps, iters, teleportation=alpha, teleport_visit_mode=\"equal\")"
   ]
  },
  {
   "cell_type": "code",
   "execution_count": 32,
   "metadata": {},
   "outputs": [
    {
     "data": {
      "image/png": "[encoded data removed]",
      "text/plain": [
       "plot without title"
      ]
     },
     "metadata": {},
     "output_type": "display_data"
    }
   ],
   "source": [
    "plot(node_visits_probs_equal, type=\"b\", xlab='Node index', ylab='Probability of visiting')"
   ]
  },
  {
   "cell_type": "code",
   "execution_count": 33,
   "metadata": {},
   "outputs": [
    {
     "data": {
      "text/html": [
       "<strong>png:</strong> 2"
      ],
      "text/latex": [
       "\\textbf{png:} 2"
      ],
      "text/markdown": [
       "**png:** 2"
      ],
      "text/plain": [
       "png \n",
       "  2 "
      ]
     },
     "metadata": {},
     "output_type": "display_data"
    }
   ],
   "source": [
    "png(sprintf(\"plots/p1q2_3_b_1.png\"))\n",
    "plot(node_visits_probs_equal, type=\"b\", xlab='Node index', ylab='Probability of visiting')\n",
    "dev.off()"
   ]
  },
  {
   "cell_type": "code",
   "execution_count": 35,
   "metadata": {},
   "outputs": [
    {
     "data": {
      "image/png": "[encoded data removed]",
      "text/plain": [
       "plot without title"
      ]
     },
     "metadata": {},
     "output_type": "display_data"
    }
   ],
   "source": [
    "plot(degree(g11), node_visits_probs_equal, xlab='Degree', ylab='Probability of visiting')"
   ]
  },
  {
   "cell_type": "code",
   "execution_count": 53,
   "metadata": {},
   "outputs": [
    {
     "name": "stdout",
     "output_type": "stream",
     "text": [
      "[1] 0.0001397091\n",
      "[1] 0.9288324\n"
     ]
    },
    {
     "data": {
      "image/png": "[encoded data removed]",
      "text/plain": [
       "Plot with title \"gamma=0.0001\""
      ]
     },
     "metadata": {},
     "output_type": "display_data"
    }
   ],
   "source": [
    "list[slope_equal, d] <- fit_line(degree(g11), node_visits_probs_equal)\n",
    "print(slope_equal)\n",
    "plot(degree(g11), node_visits_probs_equal, xlab='Degree', ylab='Probability of visiting',main=sprintf(\"gamma=%.4f\", slope_equal))\n",
    "abline(lm(node_visits_probs_equal ~ degree(g11)), col=\"red\")\n",
    "print(cor(degree(g11), node_visits_probs_equal))"
   ]
  },
  {
   "cell_type": "code",
   "execution_count": 36,
   "metadata": {},
   "outputs": [
    {
     "data": {
      "text/html": [
       "<strong>png:</strong> 2"
      ],
      "text/latex": [
       "\\textbf{png:} 2"
      ],
      "text/markdown": [
       "**png:** 2"
      ],
      "text/plain": [
       "png \n",
       "  2 "
      ]
     },
     "metadata": {},
     "output_type": "display_data"
    }
   ],
   "source": [
    "png(sprintf(\"plots/p1q2_3_b_2.png\"))\n",
    "plot(degree(g11), node_visits_probs_equal, xlab='Degree', ylab='Probability of visiting')\n",
    "dev.off()"
   ]
  },
  {
   "cell_type": "markdown",
   "metadata": {},
   "source": [
    "## Q4"
   ]
  },
  {
   "cell_type": "markdown",
   "metadata": {},
   "source": [
    "#### (a)"
   ]
  },
  {
   "cell_type": "code",
   "execution_count": 37,
   "metadata": {},
   "outputs": [],
   "source": [
    "node_visits_probs_pg=perform_random_walk_custom(g11, steps, iters, teleportation=alpha, teleport_visit_mode=\"pg\")"
   ]
  },
  {
   "cell_type": "code",
   "execution_count": 38,
   "metadata": {},
   "outputs": [
    {
     "data": {
      "image/png": "[encoded data removed]",
      "text/plain": [
       "plot without title"
      ]
     },
     "metadata": {},
     "output_type": "display_data"
    }
   ],
   "source": [
    "plot(node_visits_probs_pg, type=\"b\", xlab='Node index', ylab='Probability of visiting')"
   ]
  },
  {
   "cell_type": "code",
   "execution_count": 39,
   "metadata": {},
   "outputs": [
    {
     "data": {
      "text/html": [
       "<strong>png:</strong> 2"
      ],
      "text/latex": [
       "\\textbf{png:} 2"
      ],
      "text/markdown": [
       "**png:** 2"
      ],
      "text/plain": [
       "png \n",
       "  2 "
      ]
     },
     "metadata": {},
     "output_type": "display_data"
    }
   ],
   "source": [
    "png(sprintf(\"plots/p1q2_4_a_1.png\"))\n",
    "plot(node_visits_probs_pg, type=\"b\", xlab='Node index', ylab='Probability of visiting')\n",
    "dev.off()"
   ]
  },
  {
   "cell_type": "code",
   "execution_count": 40,
   "metadata": {},
   "outputs": [
    {
     "data": {
      "image/png": "[encoded data removed]",
      "text/plain": [
       "plot without title"
      ]
     },
     "metadata": {},
     "output_type": "display_data"
    }
   ],
   "source": [
    "plot(degree(g11), node_visits_probs_pg, xlab='Degree', ylab='Probability of visiting')"
   ]
  },
  {
   "cell_type": "code",
   "execution_count": 54,
   "metadata": {},
   "outputs": [
    {
     "name": "stdout",
     "output_type": "stream",
     "text": [
      "[1] 0.0001660616\n",
      "[1] 0.9107512\n"
     ]
    },
    {
     "data": {
      "image/png": "[encoded data removed]",
      "text/plain": [
       "Plot with title \"gamma=0.0002\""
      ]
     },
     "metadata": {},
     "output_type": "display_data"
    }
   ],
   "source": [
    "list[slope_pg, d] <- fit_line(degree(g11), node_visits_probs_pg)\n",
    "print(slope_pg)\n",
    "plot(degree(g11), node_visits_probs_pg, xlab='Degree', ylab='Probability of visiting',main=sprintf(\"gamma=%.4f\", slope_pg))\n",
    "abline(lm(node_visits_probs_pg ~ degree(g11)), col=\"red\")\n",
    "print(cor(degree(g11), node_visits_probs_pg))"
   ]
  },
  {
   "cell_type": "code",
   "execution_count": 41,
   "metadata": {},
   "outputs": [
    {
     "data": {
      "text/html": [
       "<strong>png:</strong> 2"
      ],
      "text/latex": [
       "\\textbf{png:} 2"
      ],
      "text/markdown": [
       "**png:** 2"
      ],
      "text/plain": [
       "png \n",
       "  2 "
      ]
     },
     "metadata": {},
     "output_type": "display_data"
    }
   ],
   "source": [
    "png(sprintf(\"plots/p1q2_4_a_2.png\"))\n",
    "plot(degree(g11), node_visits_probs_pg, xlab='Degree', ylab='Probability of visiting')\n",
    "dev.off()"
   ]
  },
  {
   "cell_type": "markdown",
   "metadata": {},
   "source": [
    "#### (b)"
   ]
  },
  {
   "cell_type": "code",
   "execution_count": 42,
   "metadata": {},
   "outputs": [],
   "source": [
    "n_node_visits_pg_median=perform_random_walk_custom(g11, steps, iters, teleportation=alpha, teleport_visit_mode=\"pg_median\")"
   ]
  },
  {
   "cell_type": "code",
   "execution_count": 43,
   "metadata": {},
   "outputs": [
    {
     "data": {
      "image/png": "[encoded data removed]",
      "text/plain": [
       "plot without title"
      ]
     },
     "metadata": {},
     "output_type": "display_data"
    }
   ],
   "source": [
    "plot(n_node_visits_pg_median, type=\"b\", xlab='Node index', ylab='Probability of visiting')"
   ]
  },
  {
   "cell_type": "code",
   "execution_count": 44,
   "metadata": {},
   "outputs": [
    {
     "data": {
      "text/html": [
       "<strong>png:</strong> 2"
      ],
      "text/latex": [
       "\\textbf{png:} 2"
      ],
      "text/markdown": [
       "**png:** 2"
      ],
      "text/plain": [
       "png \n",
       "  2 "
      ]
     },
     "metadata": {},
     "output_type": "display_data"
    }
   ],
   "source": [
    "png(sprintf(\"plots/p1q2_4_b_1.png\"))\n",
    "plot(n_node_visits_pg_median, type=\"b\", xlab='Node index', ylab='Probability of visiting')\n",
    "dev.off()"
   ]
  },
  {
   "cell_type": "code",
   "execution_count": 45,
   "metadata": {},
   "outputs": [
    {
     "data": {
      "image/png": "[encoded data removed]",
      "text/plain": [
       "plot without title"
      ]
     },
     "metadata": {},
     "output_type": "display_data"
    }
   ],
   "source": [
    "plot(degree(g11), n_node_visits_pg_median, xlab='Degree', ylab='Probability of visiting')"
   ]
  },
  {
   "cell_type": "code",
   "execution_count": 55,
   "metadata": {},
   "outputs": [
    {
     "name": "stdout",
     "output_type": "stream",
     "text": [
      "[1] 0.0001461807\n",
      "[1] 0.6448008\n"
     ]
    },
    {
     "data": {
      "image/png": "[encoded data removed]",
      "text/plain": [
       "Plot with title \"gamma=0.0001\""
      ]
     },
     "metadata": {},
     "output_type": "display_data"
    }
   ],
   "source": [
    "list[slope_pg_median, d] <- fit_line(degree(g11), n_node_visits_pg_median)\n",
    "print(slope_pg_median)\n",
    "plot(degree(g11), n_node_visits_pg_median, xlab='Degree', ylab='Probability of visiting',main=sprintf(\"gamma=%.4f\", slope_pg_median))\n",
    "abline(lm(n_node_visits_pg_median ~ degree(g11)), col=\"red\")\n",
    "print(cor(degree(g11), n_node_visits_pg_median))"
   ]
  },
  {
   "cell_type": "code",
   "execution_count": 46,
   "metadata": {},
   "outputs": [
    {
     "data": {
      "text/html": [
       "<strong>png:</strong> 2"
      ],
      "text/latex": [
       "\\textbf{png:} 2"
      ],
      "text/markdown": [
       "**png:** 2"
      ],
      "text/plain": [
       "png \n",
       "  2 "
      ]
     },
     "metadata": {},
     "output_type": "display_data"
    }
   ],
   "source": [
    "png(sprintf(\"plots/p1q2_4_b_2.png\"))\n",
    "plot(degree(g11), n_node_visits_pg_median, xlab='Degree', ylab='Probability of visiting')\n",
    "dev.off()"
   ]
  },
  {
   "cell_type": "code",
   "execution_count": 77,
   "metadata": {},
   "outputs": [
    {
     "data": {
      "image/png": "[encoded data removed]",
      "text/plain": [
       "plot without title"
      ]
     },
     "metadata": {},
     "output_type": "display_data"
    }
   ],
   "source": [
    "pageranks = page_rank(g11)$vector\n",
    "plot(sort(pageranks), col=\"blue\", type='l',lwd=5, ylim=c(0,0.16), xlab='Node index (PageRank order)', ylab='Probability of visiting')\n",
    "lines(n_node_visits_pg_median[order(pageranks)], col=\"red\", type='b')\n",
    "legend(\"topright\", legend = c(\"Original PageRank\", \"Random walk PageRank\"), col = c(\"red\", \"blue\"), bty = \"n\", lty=1:2, cex=1)"
   ]
  },
  {
   "cell_type": "code",
   "execution_count": 78,
   "metadata": {},
   "outputs": [
    {
     "data": {
      "text/html": [
       "<strong>png:</strong> 2"
      ],
      "text/latex": [
       "\\textbf{png:} 2"
      ],
      "text/markdown": [
       "**png:** 2"
      ],
      "text/plain": [
       "png \n",
       "  2 "
      ]
     },
     "metadata": {},
     "output_type": "display_data"
    }
   ],
   "source": [
    "png(sprintf(\"plots/p1q2_4_b_3.png\"))\n",
    "plot(sort(pageranks), col=\"blue\", type='l',lwd=5, ylim=c(0,0.16), xlab='Node index (PageRank order)', ylab='Probability of visiting')\n",
    "lines(n_node_visits_pg_median[order(pageranks)], col=\"red\", type='b')\n",
    "legend(\"topright\", legend = c(\"Original PageRank\", \"Random walk PageRank\"), col = c(\"red\", \"blue\"), bty = \"n\", lty=1:2, cex=1)\n",
    "dev.off()"
   ]
  }
 ],
 "metadata": {
  "kernelspec": {
   "display_name": "R",
   "language": "R",
   "name": "ir"
  },
  "language_info": {
   "codemirror_mode": "r",
   "file_extension": ".r",
   "mimetype": "text/x-r-source",
   "name": "R",
   "pygments_lexer": "r",
   "version": "3.6.1"
  }
 },
 "nbformat": 4,
 "nbformat_minor": 4
}
