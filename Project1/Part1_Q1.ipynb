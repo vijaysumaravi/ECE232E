{
 "cells": [
  {
   "cell_type": "markdown",
   "metadata": {},
   "source": [
    "####  Part 1 - Generating Random Networks\n",
    "\n",
    "####  Question 1 - Create random networks using Erdos-Renyi (ER) model"
   ]
  },
  {
   "cell_type": "code",
   "execution_count": 17,
   "metadata": {},
   "outputs": [],
   "source": [
    "# # Install Necessary Packages\n",
    "# install.packages(\"igraph\")\n",
    "# install.packages(\"Matrix\")\n",
    "# install.packages(\"pracma\")\n",
    "\n",
    "# Load Packages \n",
    "library('igraph')\n",
    "library('Matrix')\n",
    "library('pracma')"
   ]
  },
  {
   "cell_type": "markdown",
   "metadata": {},
   "source": [
    "<font color='blue'> a) Create undirected random networks with n = 1000 nodes, and the probability p for drawing an edge between two arbitrary vertices 0.003, 0.004, 0.01, 0.05, and 0.1. Plot the degree distributions. What distribution is observed? Explain why. Also, report the mean and variance of the degree distributions and compare them to the theoretical values. </font>"
   ]
  },
  {
   "cell_type": "code",
   "execution_count": 19,
   "metadata": {
    "scrolled": false
   },
   "outputs": [
    {
     "name": "stdout",
     "output_type": "stream",
     "text": [
      "[1] \"p=0.003: mean=3.002, Variance=3.167\"\n",
      "[1] \"p=0.004: mean=4.156, Variance=4.370\"\n",
      "[1] \"p=0.010: mean=10.162, Variance=9.964\"\n",
      "[1] \"p=0.050: mean=49.750, Variance=50.574\"\n",
      "[1] \"p=0.100: mean=99.766, Variance=92.786\"\n"
     ]
    }
   ],
   "source": [
    "\n",
    "p_array = c(0.003,0.004,0.01,0.05,0.1)\n",
    "n = 1000\n",
    "for (p in p_array)\n",
    "{\n",
    "    g <- erdos.renyi.game(n, p, type=\"gnp\", directed=F);\n",
    "    png(sprintf(\"plots/part1/question1/q1a_dist_p_%5.3f.png\",p))\n",
    "    plot(degree.distribution(g), main=sprintf(\"Degree distribution of the network with p=%5.3f\",p),ylab=\"Probability\",xlab=\"Degree\")\n",
    "    lines(degree.distribution(g))\n",
    "    dev.off()\n",
    "    png(sprintf(\"plots/part1/question1/q1a_hist_p_%5.3f.png\",p))\n",
    "    hist(degree(g), col=rgb(0.1,0.5,1,.6), xlab=\"Degree\",ylab=\"Frequency\", main=paste(\"Histogram for p=\",p))\n",
    "    dev.off()\n",
    "    print(sprintf(\"p=%5.3f: mean=%5.3f, Variance=%5.3f\", p, mean(degree(g)), var(degree(g))))\n",
    "}"
   ]
  },
  {
   "cell_type": "markdown",
   "metadata": {},
   "source": [
    "<font color='blue'> b) For each p and n = 1000, answer the following questions: Are all random realizations of the ER network connected? Numerically estimate the probability that a generated network is connected. For one instance of the networks with that p, find the giant connected component (GCC) if not connected. What is the diameter of the GCC?</font>"
   ]
  },
  {
   "cell_type": "code",
   "execution_count": 17,
   "metadata": {
    "scrolled": false
   },
   "outputs": [
    {
     "name": "stdout",
     "output_type": "stream",
     "text": [
      "[1] \"Results for p = 0.003\"\n",
      "[1] \"Probability that the network is connected is: 0.000\"\n",
      "[1] \"Is the graph connected: FALSE\"\n",
      "[1] \"Number of nodes of the GCC: 932\"\n",
      "[1] \"Number of Edges of the GCC: 1496\"\n",
      "[1] \"Diameter of the GCC: 17.000\"\n",
      "\n",
      "[1] \"Results for p = 0.004\"\n",
      "[1] \"Probability that the network is connected is: 0.000\"\n",
      "[1] \"Is the graph connected: FALSE\"\n",
      "[1] \"Number of nodes of the GCC: 982\"\n",
      "[1] \"Number of Edges of the GCC: 2046\"\n",
      "[1] \"Diameter of the GCC: 11.000\"\n",
      "\n",
      "[1] \"Results for p = 0.010\"\n",
      "[1] \"Probability that the network is connected is: 0.955\"\n",
      "[1] \"Is the graph connected: TRUE\"\n",
      "[1] \"Number of nodes of the GCC: 1000\"\n",
      "[1] \"Number of Edges of the GCC: 4955\"\n",
      "[1] \"Diameter of the GCC: 6.000\"\n",
      "\n",
      "[1] \"Results for p = 0.050\"\n",
      "[1] \"Probability that the network is connected is: 1.000\"\n",
      "[1] \"Is the graph connected: TRUE\"\n",
      "[1] \"Number of nodes of the GCC: 1000\"\n",
      "[1] \"Number of Edges of the GCC: 24737\"\n",
      "[1] \"Diameter of the GCC: 3.000\"\n",
      "\n",
      "[1] \"Results for p = 0.100\"\n",
      "[1] \"Probability that the network is connected is: 1.000\"\n",
      "[1] \"Is the graph connected: TRUE\"\n",
      "[1] \"Number of nodes of the GCC: 1000\"\n",
      "[1] \"Number of Edges of the GCC: 50010\"\n",
      "[1] \"Diameter of the GCC: 3.000\"\n",
      "\n"
     ]
    }
   ],
   "source": [
    "\n",
    "for (p in p_array){\n",
    "    count <- 0 \n",
    "    for (i in seq(1,1000,1)){\n",
    "        g <- erdos.renyi.game(n, p, type=\"gnp\", directed = F)\n",
    "        if (is.connected(g)){\n",
    "            count <- count + 1\n",
    "        }\n",
    "    }\n",
    "    print(sprintf(\"Results for p = %5.3f\",p))\n",
    "    print(sprintf(\"Probability that the network is connected is: %5.3f\",count/1000))\n",
    "    \n",
    "    # GCC\n",
    "    g.components <- clusters(g)\n",
    "    \n",
    "    # Get the largest component\n",
    "    ix <- which.max(g.components$csize)\n",
    "    \n",
    "    # Get the subgraph corresponding to the giant component\n",
    "    g.giant <- induced.subgraph(g, which(g.components$membership == ix))\n",
    "    \n",
    "    print(sprintf(\"Is the graph connected: %s\", is.connected(g)))\n",
    "    print(sprintf(\"Number of nodes of the GCC: %d\", vcount(g.giant)))\n",
    "    print(sprintf(\"Number of Edges of the GCC: %d\", ecount(g.giant)))\n",
    "    print(sprintf(\"Diameter of the GCC: %5.3f\",diameter(g.giant)))\n",
    "    cat(\"\\n\")\n",
    "}"
   ]
  },
  {
   "cell_type": "markdown",
   "metadata": {},
   "source": [
    "<font color='blue'> c) It turns out that the normalized GCC size (i.e., the size of the GCC as a fraction of\n",
    "the total network size) is a highly nonlinear function of p, with interesting propertiesvoccurring for values where p = O(1/n) and p = O((ln n)/n). For n = 1000, sweep over values of p from 0 to a pmax that makes the network almost surely connected and create 100 random networks for each p. pmax should be roughly determined by yourself. Then scatter plot the normalized GCC sizes vs p. Plot a line of the average normalized GCC sizes for each p along with the scatter plot.\n",
    "    \n",
    "i. Empirically estimate the value of p where a giant connected component starts to emerge (define your criterion of “emergence”)? Do they match with theoretical values mentioned or derived in lectures?\n",
    "\n",
    "ii. Empirically estimate the value of p where the giant connected component takes up over 99% of the nodes in almost every experiment.</font>"
   ]
  },
  {
   "cell_type": "code",
   "execution_count": 19,
   "metadata": {},
   "outputs": [
    {
     "data": {
      "text/html": [
       "<strong>png:</strong> 2"
      ],
      "text/latex": [
       "\\textbf{png:} 2"
      ],
      "text/markdown": [
       "**png:** 2"
      ],
      "text/plain": [
       "png \n",
       "  2 "
      ]
     },
     "metadata": {},
     "output_type": "display_data"
    }
   ],
   "source": [
    "#1c: Normalized GCC\n",
    "# Scatter plot normalized GCC for 100 random networks for each p. \n",
    "\n",
    "p_min = 0\n",
    "p_max = 0.01\n",
    "p_step = 0.0001\n",
    "p_array = seq(p_min,p_max,p_step)\n",
    "n = 1000\n",
    "num_networks = 100\n",
    "i = 0\n",
    "\n",
    "rand_networks = seq(1,num_networks)\n",
    "len_gcc = length(p_array)*length(rand_networks)\n",
    "gcc.sizes = vector(mode=\"numeric\", length=len_gcc)\n",
    "p_plot = rep(p_array, times=1, each=num_networks) # Create 100 networks for each p\n",
    "\n",
    "\n",
    "for (p in p_array){\n",
    "    # generate 100 random netwoks \n",
    "    for (x in rand_networks ){\n",
    "        i = i+1\n",
    "        g = erdos.renyi.game(n, p, type=\"gnp\")\n",
    "        # GCC\n",
    "        g.components = clusters(g)\n",
    "        # Get the largest component\n",
    "        ix = which.max(g.components$csize)\n",
    "        # Get the subgraph corresponding to the giant component\n",
    "        g.giant = induced.subgraph(g, which(g.components$membership == ix))\n",
    "        gcc.sizes[i] = length(V(g.giant))\n",
    "        \n",
    "    }\n",
    "}\n",
    "png(sprintf(\"plots/part1/question1/q1c_normalizedGCC.png\"), width = 1000, height = 600)\n",
    "# options(repr.plot.width=10, repr.plot.height=5)\n",
    "plot(p_plot,gcc.sizes/n,main=\"Normalized GCC size vs. p\",xlab=\"p\",ylab=\"normalized GCC size\")\n",
    "axis(side=1, at=seq(0,0.01,by=0.001))\n",
    "lines(gcc.sizes)\n",
    "# box()\n",
    "dev.off()"
   ]
  },
  {
   "cell_type": "code",
   "execution_count": 20,
   "metadata": {},
   "outputs": [
    {
     "data": {
      "text/html": [
       "<strong>png:</strong> 2"
      ],
      "text/latex": [
       "\\textbf{png:} 2"
      ],
      "text/markdown": [
       "**png:** 2"
      ],
      "text/plain": [
       "png \n",
       "  2 "
      ]
     },
     "metadata": {},
     "output_type": "display_data"
    }
   ],
   "source": [
    "#1c: Mean Normalized GCC\n",
    "p_min = 0\n",
    "p_max = 0.02\n",
    "p_step = 0.0001\n",
    "p_array = seq(p_min,p_max,p_step)\n",
    "n = 1000\n",
    "num_networks = 100\n",
    "i = 0\n",
    "len_gcc = length(p_array)\n",
    "\n",
    "rand_networks = seq(1,num_networks)\n",
    "gcc.sizes = vector(mode=\"numeric\", length=len_gcc)\n",
    "\n",
    "for (p in p_array){\n",
    "    i = i+1\n",
    "    # generate 100 random netwoks \n",
    "    gcc.size.sum = 0\n",
    "    for (x in rand_networks ){\n",
    "        \n",
    "        g = erdos.renyi.game(n, p, type=\"gnp\")\n",
    "        # GCC\n",
    "        g.components = clusters(g)\n",
    "        # Get the largest component\n",
    "        ix = which.max(g.components$csize)\n",
    "        # Get the subgraph corresponding to the giant component\n",
    "        g.giant = induced.subgraph(g, which(g.components$membership == ix))\n",
    "        \n",
    "        gcc.size.sum = gcc.size.sum + length(V(g.giant))\n",
    "    }\n",
    "    \n",
    "    # find mean value of GCC Size.                           \n",
    "    gcc.sizes[i] = gcc.size.sum/num_networks\n",
    "\n",
    "}\n",
    "\n",
    "png(sprintf(\"plots/part1/question1/q1c_AverageNormalizedGCC.png\"), width = 1000, height = 600)\n",
    "plot(p_array,gcc.sizes/n,main=\"Average normalized GCC size vs. p\",xlab=\"p\",ylab=\"Average normalized GCC size\", type=\"l\")\n",
    "dev.off()"
   ]
  },
  {
   "cell_type": "code",
   "execution_count": 21,
   "metadata": {},
   "outputs": [
    {
     "name": "stdout",
     "output_type": "stream",
     "text": [
      "[1] \"Theoretical p Value at which GCC emerges: 0.001\"\n",
      "[1] \"Theoretical p Value at which GCC takes over 99% of nodes: 0.006908\"\n"
     ]
    }
   ],
   "source": [
    "print(sprintf(\"Theoretical p Value at which GCC emerges: %5.3f\",1/1000))\n",
    "print(sprintf(\"Theoretical p Value at which GCC takes over 99%% of nodes: %8f\",log(1000, base = exp(1))/1000))"
   ]
  },
  {
   "cell_type": "markdown",
   "metadata": {},
   "source": [
    "<font color='blue'> d) i.Define the average degree of nodes c = n × p = 0.5. Sweep over the number of nodes, n, ranging from 100 to 10000. Plot the expected size of the GCC of ER networks with n nodes and edge-formation probabilities p = c/n, as a function of n. What trend is observed?\n",
    "    \n",
    "ii. Repeat the same for c = 1.\n",
    "\n",
    "iii. Repeat the same for values of c = 1.1,1.2,1.3, and show the results for these\n",
    "three values in a single plot.\n",
    "\n",
    "iv. What is the relation between the expected GCC size and n in each case?\n",
    "\n",
    "</font>"
   ]
  },
  {
   "cell_type": "code",
   "execution_count": 30,
   "metadata": {},
   "outputs": [
    {
     "data": {
      "text/html": [
       "<strong>png:</strong> 2"
      ],
      "text/latex": [
       "\\textbf{png:} 2"
      ],
      "text/markdown": [
       "**png:** 2"
      ],
      "text/plain": [
       "png \n",
       "  2 "
      ]
     },
     "metadata": {},
     "output_type": "display_data"
    }
   ],
   "source": [
    "#1d: Degree of nodes - c\n",
    "#i) c  = 0.5\n",
    "\n",
    "c = 0.5\n",
    "n_start = 100\n",
    "n_end = 10000\n",
    "n_step = 100\n",
    "range_n = seq(n_start,n_end,n_step)\n",
    "gcc.sizes = vector(mode=\"numeric\", length=length(range_n))\n",
    "i = 0\n",
    "num_networks = 50\n",
    "rand_networks = seq(1,num_networks)\n",
    "\n",
    "for (n in range_n){\n",
    "    i = i+1 \n",
    "    p = c/n \n",
    "    gcc.size.sum = 0 \n",
    "    \n",
    "    # average over 50 random networks\n",
    "    for( a in rand_networks){\n",
    "        g = erdos.renyi.game(n, p, type=\"gnp\")\n",
    "        # GCC\n",
    "        g.components = clusters(g)\n",
    "        ## Get the largest component\n",
    "        ix = which.max(g.components$csize)\n",
    "        # Get the subgraph corresponding to the giant component\n",
    "        g.giant = induced.subgraph(g, which(g.components$membership == ix))\n",
    "        \n",
    "        gcc.size.sum = gcc.size.sum+vcount(g.giant)\n",
    "        \n",
    "    }\n",
    "    \n",
    "    # add to vector\n",
    "    gcc.sizes[i] = (gcc.size.sum/num_networks)\n",
    "\n",
    "}\n",
    "\n",
    "png(sprintf(\"plots/part1/question1/q1d_expectedGCC_c_%5.3f.png\",c))\n",
    "plot(range_n,gcc.sizes,main= paste(\"Expected Size of GCC vs. n for c =\",c),xlab=\"n\",ylab=\"Expected Size of GCC\")\n",
    "lines(lowess(range_n,gcc.sizes), col=\"red\")\n",
    "dev.off()"
   ]
  },
  {
   "cell_type": "code",
   "execution_count": 31,
   "metadata": {},
   "outputs": [
    {
     "data": {
      "text/html": [
       "<strong>png:</strong> 2"
      ],
      "text/latex": [
       "\\textbf{png:} 2"
      ],
      "text/markdown": [
       "**png:** 2"
      ],
      "text/plain": [
       "png \n",
       "  2 "
      ]
     },
     "metadata": {},
     "output_type": "display_data"
    }
   ],
   "source": [
    "#1d: Degree of nodes - c\n",
    "#ii) c  = 1\n",
    "\n",
    "c = 1\n",
    "n_start = 100\n",
    "n_end = 10000\n",
    "n_step = 100\n",
    "range_n = seq(n_start,n_end,n_step)\n",
    "gcc.sizes = vector(mode=\"numeric\", length=length(range_n))\n",
    "i = 0\n",
    "num_networks = 50\n",
    "rand_networks = seq(1,num_networks)\n",
    "\n",
    "for (n in range_n){\n",
    "    i = i+1 \n",
    "    p = c/n \n",
    "    gcc.size.sum = 0 \n",
    "    \n",
    "    # average over 50 random networks\n",
    "    for( a in rand_networks){\n",
    "        g = erdos.renyi.game(n, p, type=\"gnp\")\n",
    "        # GCC\n",
    "        g.components = clusters(g)\n",
    "        ## Get the largest component\n",
    "        ix = which.max(g.components$csize)\n",
    "        # Get the subgraph corresponding to the giant component\n",
    "        g.giant = induced.subgraph(g, which(g.components$membership == ix))\n",
    "        \n",
    "        gcc.size.sum = gcc.size.sum+vcount(g.giant)\n",
    "        \n",
    "    }\n",
    "    \n",
    "    # add to vector\n",
    "    gcc.sizes[i] = (gcc.size.sum/num_networks)\n",
    "\n",
    "}\n",
    "png(sprintf(\"plots/part1/question1/q1d_expectedGCC_c_%5.3f.png\",c))\n",
    "plot(range_n,gcc.sizes,main= paste(\"Expected Size of GCC vs. n for c =\",c),xlab=\"n\",ylab=\"Expected Size of GCC\")\n",
    "lines(lowess(range_n,gcc.sizes), col=\"red\")\n",
    "dev.off()"
   ]
  },
  {
   "cell_type": "code",
   "execution_count": 32,
   "metadata": {},
   "outputs": [
    {
     "data": {
      "text/html": [
       "<strong>png:</strong> 2"
      ],
      "text/latex": [
       "\\textbf{png:} 2"
      ],
      "text/markdown": [
       "**png:** 2"
      ],
      "text/plain": [
       "png \n",
       "  2 "
      ]
     },
     "metadata": {},
     "output_type": "display_data"
    }
   ],
   "source": [
    "#1d: Degree of nodes - c\n",
    "#iii) c  = 1.1,1.2,1.3\n",
    "\n",
    "n_start = 100\n",
    "n_end = 10000\n",
    "n_step = 100\n",
    "range_n = seq(n_start,n_end,n_step)\n",
    "gcc.sizes = vector(mode=\"numeric\", length=length(range_n))\n",
    "num_networks = 50\n",
    "rand_networks = seq(1,num_networks)\n",
    "\n",
    "c = 1.1\n",
    "i = 0\n",
    "for (n in range_n){\n",
    "    i = i+1 \n",
    "    p = c/n \n",
    "    gcc.size.sum = 0 \n",
    "    \n",
    "    # average over 50 random networks\n",
    "    for( a in rand_networks){\n",
    "        g = erdos.renyi.game(n, p, type=\"gnp\")\n",
    "        # GCC\n",
    "        g.components = clusters(g)\n",
    "        ## Get the largest component\n",
    "        ix = which.max(g.components$csize)\n",
    "        # Get the subgraph corresponding to the giant component\n",
    "        g.giant = induced.subgraph(g, which(g.components$membership == ix))\n",
    "        \n",
    "        gcc.size.sum = gcc.size.sum+vcount(g.giant)\n",
    "        \n",
    "    }\n",
    "    \n",
    "    # add to vector\n",
    "    gcc.sizes[i] = (gcc.size.sum/num_networks)\n",
    "\n",
    "}\n",
    "png(sprintf(\"plots/part1/question1/q1d_expectedGCC_c_%5.3f.png\",c))\n",
    "plot(range_n,gcc.sizes,col='red',main= \"Expected Size of GCC vs. n (for different Degree of nodes c)\",xlab=\"n\",ylab=\"Expected Size of GCC\")\n",
    "\n",
    "\n",
    "c = 1.2\n",
    "i = 0\n",
    "for (n in range_n){\n",
    "    i = i+1 \n",
    "    p = c/n \n",
    "    gcc.size.sum = 0 \n",
    "    \n",
    "    # average over 50 random networks\n",
    "    for( a in rand_networks){\n",
    "        g = erdos.renyi.game(n, p, type=\"gnp\")\n",
    "        # GCC\n",
    "        g.components = clusters(g)\n",
    "        ## Get the largest component\n",
    "        ix = which.max(g.components$csize)\n",
    "        # Get the subgraph corresponding to the giant component\n",
    "        g.giant = induced.subgraph(g, which(g.components$membership == ix))\n",
    "        \n",
    "        gcc.size.sum = gcc.size.sum+vcount(g.giant)\n",
    "        \n",
    "    }\n",
    "    \n",
    "    # add to vector\n",
    "    gcc.sizes[i] = (gcc.size.sum/num_networks)\n",
    "\n",
    "}\n",
    "\n",
    "points(range_n,gcc.sizes,col='blue')\n",
    "\n",
    "\n",
    "c = 1.3\n",
    "i = 0\n",
    "for (n in range_n){\n",
    "    i = i+1 \n",
    "    p = c/n \n",
    "    gcc.size.sum = 0 \n",
    "    \n",
    "    # average over 50 random networks\n",
    "    for( a in rand_networks){\n",
    "        g = erdos.renyi.game(n, p, type=\"gnp\")\n",
    "        # GCC\n",
    "        g.components = clusters(g)\n",
    "        ## Get the largest component\n",
    "        ix = which.max(g.components$csize)\n",
    "        # Get the subgraph corresponding to the giant component\n",
    "        g.giant = induced.subgraph(g, which(g.components$membership == ix))\n",
    "        \n",
    "        gcc.size.sum = gcc.size.sum+vcount(g.giant)\n",
    "        \n",
    "    }\n",
    "    \n",
    "    # add to vector\n",
    "    gcc.sizes[i] = (gcc.size.sum/num_networks)\n",
    "\n",
    "}\n",
    "\n",
    "points(range_n,gcc.sizes,col='black')\n",
    "legend(100, 1000, legend=c(\"c = 1.1\", \"c = 1.2\",\"c = 1.3\"),\n",
    "       col=c(\"red\", \"blue\",\"black\"), lty=1:2, cex=0.8)\n",
    "dev.off()"
   ]
  }
 ],
 "metadata": {
  "kernelspec": {
   "display_name": "R",
   "language": "R",
   "name": "ir"
  },
  "language_info": {
   "codemirror_mode": "r",
   "file_extension": ".r",
   "mimetype": "text/x-r-source",
   "name": "R",
   "pygments_lexer": "r",
   "version": "3.6.1"
  }
 },
 "nbformat": 4,
 "nbformat_minor": 2
}
