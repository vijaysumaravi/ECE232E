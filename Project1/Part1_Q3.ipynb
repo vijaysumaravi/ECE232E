{
 "cells": [
  {
   "cell_type": "code",
   "execution_count": 1,
   "metadata": {},
   "outputs": [
    {
     "name": "stderr",
     "output_type": "stream",
     "text": [
      "Updating HTML index of packages in '.Library'\n",
      "Making 'packages.html' ... done\n",
      "Updating HTML index of packages in '.Library'\n",
      "Making 'packages.html' ... done\n",
      "Updating HTML index of packages in '.Library'\n",
      "Making 'packages.html' ... done\n",
      "\n",
      "Attaching package: ‘igraph’\n",
      "\n",
      "The following objects are masked from ‘package:stats’:\n",
      "\n",
      "    decompose, spectrum\n",
      "\n",
      "The following object is masked from ‘package:base’:\n",
      "\n",
      "    union\n",
      "\n",
      "\n",
      "Attaching package: ‘pracma’\n",
      "\n",
      "The following objects are masked from ‘package:Matrix’:\n",
      "\n",
      "    expm, lu, tril, triu\n",
      "\n"
     ]
    }
   ],
   "source": [
    "# # Install Necessary Packages\n",
    "install.packages(\"igraph\")\n",
    "install.packages(\"Matrix\")\n",
    "install.packages(\"pracma\")\n",
    "\n",
    "# Load Packages \n",
    "library('igraph')\n",
    "library('Matrix')\n",
    "library('pracma')"
   ]
  },
  {
   "cell_type": "code",
   "execution_count": 2,
   "metadata": {
    "scrolled": false
   },
   "outputs": [
    {
     "name": "stdout",
     "output_type": "stream",
     "text": [
      "For n =  1000\n",
      "Call:\n",
      "lm(formula = y ~ x)\n",
      "\n",
      "Coefficients:\n",
      "(Intercept)            x  \n",
      "      2.406       -3.555  \n",
      "\n"
     ]
    },
    {
     "data": {
      "text/html": [
       "<strong>png:</strong> 2"
      ],
      "text/latex": [
       "\\textbf{png:} 2"
      ],
      "text/markdown": [
       "**png:** 2"
      ],
      "text/plain": [
       "png \n",
       "  2 "
      ]
     },
     "metadata": {},
     "output_type": "display_data"
    },
    {
     "data": {
      "text/html": [
       "<strong>png:</strong> 2"
      ],
      "text/latex": [
       "\\textbf{png:} 2"
      ],
      "text/markdown": [
       "**png:** 2"
      ],
      "text/plain": [
       "png \n",
       "  2 "
      ]
     },
     "metadata": {},
     "output_type": "display_data"
    },
    {
     "data": {
      "text/html": [
       "<strong>png:</strong> 2"
      ],
      "text/latex": [
       "\\textbf{png:} 2"
      ],
      "text/markdown": [
       "**png:** 2"
      ],
      "text/plain": [
       "png \n",
       "  2 "
      ]
     },
     "metadata": {},
     "output_type": "display_data"
    }
   ],
   "source": [
    "# 3a) Probability of linking new vertices\n",
    "\n",
    "n = 1000\n",
    "m = 1\n",
    "alpha = 1\n",
    "beta = -1\n",
    "a = c = d = 1\n",
    "b = 0\n",
    "\n",
    "# Create graph with given parameters\n",
    "g = sample_pa_age(n=n, pa.exp=alpha, ,m=m, aging.exp=beta, zero.deg.appeal=a, \n",
    "                  zero.age.appeal=b, deg.coef=c, age.coef=d, aging.bin=1000, directed=FALSE)\n",
    "\n",
    "deg_distribution = degree.distribution(g)\n",
    "# take log \n",
    "idx = which(deg_distribution != 0, arr.ind=TRUE) #remove 0s\n",
    "x = log(seq(1:length(deg_distribution)))[idx]\n",
    "y = log(deg_distribution)[idx]\n",
    "\n",
    "cat(paste(\"For n = \", n))\n",
    "\n",
    "# Solve linear Equation:\n",
    "relation = lm(y ~ x)\n",
    "print(relation)\n",
    "\n",
    "png(sprintf(\"plots/part1/question3/q3a_degree_dist.png\"))\n",
    "plot(degree.distribution(g),main=\"Degree distribution of the network\",xlab=\"Degree\",ylab=\"Probability\")\n",
    "dev.off()\n",
    "\n",
    "png(sprintf(\"plots/part1/question3/q3a_degree_dist_logplot.png\"))\n",
    "plot(x,y,abline(relation),main=sprintf(\"Degree distribution of the network for n=%d (log-log plot)\",n),xlab=\"log(Degree)\",ylab=\"log(Probability)\")\n",
    "dev.off()\n",
    "\n",
    "png(sprintf(\"plots/part1/question3/q3a_degree_dist_hist.png\"))\n",
    "hist(degree(g),col=rgb(0.1,0.5,1,.6),main=sprintf(\"Degree distribution of the network for n=%d (Histogram)\",n),xlab=\"Degree\",ylab=\"Frequency\" )\n",
    "dev.off()"
   ]
  },
  {
   "cell_type": "code",
   "execution_count": 4,
   "metadata": {},
   "outputs": [
    {
     "name": "stdout",
     "output_type": "stream",
     "text": [
      "[1] \"Is the graph always connected : TRUE\"\n"
     ]
    },
    {
     "data": {
      "text/html": [
       "<strong>png:</strong> 2"
      ],
      "text/latex": [
       "\\textbf{png:} 2"
      ],
      "text/markdown": [
       "**png:** 2"
      ],
      "text/plain": [
       "png \n",
       "  2 "
      ]
     },
     "metadata": {},
     "output_type": "display_data"
    },
    {
     "name": "stdout",
     "output_type": "stream",
     "text": [
      "\n",
      "Modularity is  0.935354273192115"
     ]
    },
    {
     "data": {
      "text/html": [
       "<strong>png:</strong> 2"
      ],
      "text/latex": [
       "\\textbf{png:} 2"
      ],
      "text/markdown": [
       "**png:** 2"
      ],
      "text/plain": [
       "png \n",
       "  2 "
      ]
     },
     "metadata": {},
     "output_type": "display_data"
    }
   ],
   "source": [
    "# 3b) Find community structure and modularity\n",
    "\n",
    "print(sprintf(\"Is the graph always connected : %s\",is.connected(g)))\n",
    "\n",
    "png(sprintf(\"plots/part1/question3/q3b_noetwork.png\"))\n",
    "plot(g, vertex.label=\"\", vertex.size=2, main=\"Preferential attachment Network\")\n",
    "dev.off()\n",
    "\n",
    "g_comm = cluster_fast_greedy(g)\n",
    "community_size = sizes(g_comm)\n",
    "g_modularity = modularity(g_comm)\n",
    "cat(paste(\"\\nModularity is \", g_modularity))\n",
    "\n",
    "png(sprintf(\"plots/part1/question3/q3b_commstruct.png\"))\n",
    "plot(g_comm, g, main=\"Community Structure\",vertex.size=2, vertex.label=NA)\n",
    "dev.off()"
   ]
  }
 ],
 "metadata": {
  "kernelspec": {
   "display_name": "R",
   "language": "R",
   "name": "ir"
  },
  "language_info": {
   "codemirror_mode": "r",
   "file_extension": ".r",
   "mimetype": "text/x-r-source",
   "name": "R",
   "pygments_lexer": "r",
   "version": "3.6.1"
  }
 },
 "nbformat": 4,
 "nbformat_minor": 2
}
