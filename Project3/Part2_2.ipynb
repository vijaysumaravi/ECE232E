{
 "cells": [
  {
   "cell_type": "code",
   "execution_count": 35,
   "metadata": {},
   "outputs": [],
   "source": [
    "import numpy as np\n",
    "import matplotlib\n",
    "matplotlib.rcParams['text.usetex'] = False\n",
    "import matplotlib.pyplot as plt"
   ]
  },
  {
   "cell_type": "code",
   "execution_count": 2,
   "metadata": {},
   "outputs": [],
   "source": [
    "import pandas as pd"
   ]
  },
  {
   "cell_type": "code",
   "execution_count": 3,
   "metadata": {},
   "outputs": [],
   "source": [
    "from cvxopt import matrix, solvers"
   ]
  },
  {
   "cell_type": "code",
   "execution_count": 4,
   "metadata": {},
   "outputs": [],
   "source": [
    "from tqdm import tqdm"
   ]
  },
  {
   "cell_type": "code",
   "execution_count": 5,
   "metadata": {},
   "outputs": [],
   "source": [
    "def is_valid_state(s):\n",
    "    return (s>=0) and (s<100)"
   ]
  },
  {
   "cell_type": "code",
   "execution_count": 6,
   "metadata": {},
   "outputs": [],
   "source": [
    "def is_valid_action(a):\n",
    "    return (a>=0) and (a<4)"
   ]
  },
  {
   "cell_type": "code",
   "execution_count": 7,
   "metadata": {},
   "outputs": [],
   "source": [
    "def get_row(s):\n",
    "    return s%10"
   ]
  },
  {
   "cell_type": "code",
   "execution_count": 8,
   "metadata": {},
   "outputs": [],
   "source": [
    "def get_column(s):\n",
    "    return s//10"
   ]
  },
  {
   "cell_type": "code",
   "execution_count": 9,
   "metadata": {},
   "outputs": [],
   "source": [
    "def is_internal_state(s):\n",
    "    r=is_valid_state(s-1) and is_valid_state(s+1) and is_valid_state(s-10) and is_valid_state(s+10)\n",
    "    return r and ((get_row(s-10)==get_row(s)) and (get_row(s+10)==get_row(s)) and (get_column(s-1)==get_column(s)) and (get_column(s+1)==get_column(s)))"
   ]
  },
  {
   "cell_type": "code",
   "execution_count": 10,
   "metadata": {},
   "outputs": [],
   "source": [
    "#up=0, right=1, down=2, left=3"
   ]
  },
  {
   "cell_type": "code",
   "execution_count": 11,
   "metadata": {},
   "outputs": [],
   "source": [
    "def state_after_action(s, a):\n",
    "    if(not(is_valid_state(s))): raise NameError(\"Invalid state\")\n",
    "    if(not(is_valid_action(a))): raise NameError(\"Invalid action\")\n",
    "    s1=s\n",
    "    if(a==0):\n",
    "        if(is_valid_state(s-1) and (get_column(s-1)==get_column(s))): s1=s-1\n",
    "    elif(a==1):\n",
    "        if(is_valid_state(s+10) and (get_row(s+10)==get_row(s))): s1=s+10\n",
    "    elif(a==2):\n",
    "        if(is_valid_state(s+1) and (get_column(s+1)==get_column(s))): s1=s+1\n",
    "    elif(a==3):\n",
    "        if(is_valid_state(s-10) and (get_row(s-10)==get_row(s))): s1=s-10\n",
    "    return s1"
   ]
  },
  {
   "cell_type": "code",
   "execution_count": 12,
   "metadata": {},
   "outputs": [],
   "source": [
    "def evaluate_P(w=0.1):\n",
    "    P=np.zeros((100,4,100))\n",
    "    for s in range(100):\n",
    "        for a in range(4):\n",
    "            P[s][a][state_after_action(s,a)]+=1-w\n",
    "            for a1 in range(4):\n",
    "                P[s][a][state_after_action(s,a1)]+=w/4\n",
    "    return P"
   ]
  },
  {
   "cell_type": "code",
   "execution_count": 13,
   "metadata": {},
   "outputs": [],
   "source": [
    "P1=evaluate_P(0.1)"
   ]
  },
  {
   "cell_type": "code",
   "execution_count": 14,
   "metadata": {},
   "outputs": [],
   "source": [
    "P2=evaluate_P(0.6)"
   ]
  },
  {
   "cell_type": "code",
   "execution_count": 15,
   "metadata": {},
   "outputs": [],
   "source": [
    "R1=np.zeros((100,))"
   ]
  },
  {
   "cell_type": "code",
   "execution_count": 16,
   "metadata": {},
   "outputs": [],
   "source": [
    "for i in [14,24,15,25,52,62,53,63,28,38,29,39]:\n",
    "    R1[i]=-10\n",
    "R1[99]=1"
   ]
  },
  {
   "cell_type": "code",
   "execution_count": 17,
   "metadata": {},
   "outputs": [],
   "source": [
    "R2=np.zeros((100,))"
   ]
  },
  {
   "cell_type": "code",
   "execution_count": 18,
   "metadata": {},
   "outputs": [],
   "source": [
    "for i in [41,42,43,44,45,46,51,61,62,63,73,83,84,85,86,87,77,67,68]:\n",
    "    R2[i]=-100\n",
    "R2[99]=10"
   ]
  },
  {
   "cell_type": "code",
   "execution_count": 19,
   "metadata": {},
   "outputs": [
    {
     "name": "stdout",
     "output_type": "stream",
     "text": [
      "     0     1     2     3    4     5     6    7    8    9\n",
      "0  0.0   0.0   0.0   0.0  0.0   0.0   0.0  0.0  0.0  0.0\n",
      "1  0.0   0.0   0.0   0.0  0.0   0.0   0.0  0.0  0.0  0.0\n",
      "2  0.0   0.0   0.0   0.0  0.0 -10.0 -10.0  0.0  0.0  0.0\n",
      "3  0.0   0.0   0.0   0.0  0.0 -10.0 -10.0  0.0  0.0  0.0\n",
      "4  0.0 -10.0 -10.0   0.0  0.0   0.0   0.0  0.0  0.0  0.0\n",
      "5  0.0 -10.0 -10.0   0.0  0.0   0.0   0.0  0.0  0.0  0.0\n",
      "6  0.0   0.0   0.0   0.0  0.0   0.0   0.0  0.0  0.0  0.0\n",
      "7  0.0   0.0   0.0   0.0  0.0   0.0   0.0  0.0  0.0  0.0\n",
      "8  0.0   0.0 -10.0 -10.0  0.0   0.0   0.0  0.0  0.0  0.0\n",
      "9  0.0   0.0 -10.0 -10.0  0.0   0.0   0.0  0.0  0.0  1.0\n"
     ]
    }
   ],
   "source": [
    "print(pd.DataFrame(R1.reshape(10,10).transpose()))"
   ]
  },
  {
   "cell_type": "code",
   "execution_count": 20,
   "metadata": {},
   "outputs": [
    {
     "name": "stdout",
     "output_type": "stream",
     "text": [
      "     0    1    2    3      4      5      6      7      8     9\n",
      "0  0.0  0.0  0.0  0.0    0.0    0.0    0.0    0.0    0.0   0.0\n",
      "1  0.0  0.0  0.0  0.0 -100.0 -100.0 -100.0    0.0    0.0   0.0\n",
      "2  0.0  0.0  0.0  0.0 -100.0    0.0 -100.0    0.0    0.0   0.0\n",
      "3  0.0  0.0  0.0  0.0 -100.0    0.0 -100.0 -100.0 -100.0   0.0\n",
      "4  0.0  0.0  0.0  0.0 -100.0    0.0    0.0    0.0 -100.0   0.0\n",
      "5  0.0  0.0  0.0  0.0 -100.0    0.0    0.0    0.0 -100.0   0.0\n",
      "6  0.0  0.0  0.0  0.0 -100.0    0.0    0.0    0.0 -100.0   0.0\n",
      "7  0.0  0.0  0.0  0.0    0.0    0.0 -100.0 -100.0 -100.0   0.0\n",
      "8  0.0  0.0  0.0  0.0    0.0    0.0 -100.0    0.0    0.0   0.0\n",
      "9  0.0  0.0  0.0  0.0    0.0    0.0    0.0    0.0    0.0  10.0\n"
     ]
    }
   ],
   "source": [
    "print(pd.DataFrame(R2.reshape(10,10).transpose()))"
   ]
  },
  {
   "cell_type": "code",
   "execution_count": 21,
   "metadata": {},
   "outputs": [],
   "source": [
    "gamma=0.8\n",
    "epsilon=0.01"
   ]
  },
  {
   "cell_type": "code",
   "execution_count": 22,
   "metadata": {},
   "outputs": [],
   "source": [
    "def fast_value_iteration(P,R,epsilon=0.01,gamma=0.8):\n",
    "    V=np.zeros((100,))\n",
    "    delta=np.inf\n",
    "    while delta>epsilon:\n",
    "        v_next=np.amax(np.matmul(P,R+gamma*V), axis=1)\n",
    "        delta=np.amax(np.abs(v_next-V))\n",
    "        V=v_next\n",
    "    policy=np.argmax(np.matmul(P,R+gamma*V), axis=1)\n",
    "    return [V, policy]"
   ]
  },
  {
   "cell_type": "code",
   "execution_count": 23,
   "metadata": {},
   "outputs": [],
   "source": [
    "def value_iteration(P,R,epsilon=0.01,gamma=0.8):\n",
    "    V=np.zeros((100,1))\n",
    "    policy=np.zeros((100,), dtype=int)\n",
    "    delta=np.inf\n",
    "    iter=0\n",
    "    while delta>epsilon:\n",
    "        delta=0\n",
    "        for s in range(100):\n",
    "            v_next=-np.inf\n",
    "            for a in range(4):\n",
    "                v_temp=0\n",
    "                for s1 in range(100):\n",
    "                    v_temp+=P[s][a][s1]*(R[s1]+gamma*V[s1])\n",
    "                v_next = max(v_next, v_temp)\n",
    "            delta=max(delta,np.abs(v_next-V[s]))\n",
    "            V[s]=v_next\n",
    "    for s in range(100):\n",
    "        v_next=-np.inf\n",
    "        opt_a=-1\n",
    "        for a in range(4):\n",
    "            v_temp=0\n",
    "            for s1 in range(100):\n",
    "                v_temp+=P[s][a][s1]*(R[s1]+gamma*V[s1])\n",
    "            if(v_temp>v_next):\n",
    "                opt_a=a\n",
    "                v_next = v_temp\n",
    "        policy[s]=opt_a\n",
    "    return [V, policy]"
   ]
  },
  {
   "cell_type": "code",
   "execution_count": 24,
   "metadata": {},
   "outputs": [],
   "source": [
    "def draw_heatmap(A,vmin=None, vmax=None, save=False,save_file_name=\"\"):\n",
    "    fig, ax = plt.subplots()\n",
    "    if(vmin is None or vmax is None): im=ax.imshow(A.reshape(10,10).transpose(), cmap='coolwarm', interpolation='nearest')\n",
    "    else: im=ax.imshow(A.reshape(10,10).transpose(), cmap='coolwarm', interpolation='nearest', vmin=vmin, vmax=vmax)\n",
    "    ax.grid(color='k', linewidth=0.1)\n",
    "    ax.set(xticks=np.arange(-0.5, 10, 1), yticks=np.arange(-0.5, 10, 1))\n",
    "    ax.set_xticklabels(np.arange(0, 10, 1))\n",
    "    ax.set_yticklabels(np.arange(0, 10, 1))\n",
    "    ax.xaxis.tick_top()\n",
    "    fig.colorbar(im)\n",
    "    plt.show()\n",
    "    if save: fig.savefig(save_file_name, dpi=600, bbox_inches='tight')"
   ]
  },
  {
   "cell_type": "code",
   "execution_count": 26,
   "metadata": {},
   "outputs": [],
   "source": [
    "def draw_policy_grid(policy,save=False,save_file_name=\"\"):\n",
    "    policy_arrows=np.chararray((100,), unicode=True)\n",
    "    for s in range(100):\n",
    "        a=policy[s]\n",
    "        if(a==0):\n",
    "            policy_arrows[s]='↑'\n",
    "        elif(a==1):\n",
    "            policy_arrows[s]='→'\n",
    "        elif(a==2):\n",
    "            policy_arrows[s]='↓'\n",
    "        elif(a==3):\n",
    "            policy_arrows[s]='←'\n",
    "    pa=policy_arrows.reshape(10,10)\n",
    "    board = np.ones((10,10,3))\n",
    "    fig, ax = plt.subplots()\n",
    "    ax.imshow(board, interpolation='nearest', aspect='auto')\n",
    "    ax.grid(color='k', linewidth=1)\n",
    "\n",
    "    for i in range(10):\n",
    "        for j in range(10):\n",
    "            ax.text(i, j, pa[i][j], size=19, ha='center', va='center')\n",
    "\n",
    "    ax.set(xticks=np.arange(-0.5, 10, 1), yticks=np.arange(-0.5, 10, 1))\n",
    "    ax.set_xticklabels(np.arange(0, 10, 1))\n",
    "    ax.set_yticklabels(np.arange(0, 10, 1))\n",
    "    ax.xaxis.tick_top()\n",
    "    ax.axis('image')\n",
    "\n",
    "    plt.show()\n",
    "    if save: fig.savefig(save_file_name, dpi=600, bbox_inches='tight')"
   ]
  },
  {
   "cell_type": "code",
   "execution_count": 27,
   "metadata": {},
   "outputs": [],
   "source": [
    "R2max=np.amax(np.abs(R2))"
   ]
  },
  {
   "cell_type": "code",
   "execution_count": 28,
   "metadata": {},
   "outputs": [],
   "source": [
    "def construct_lp_matrices(P,policy,lmda,Rmax):\n",
    "    S=np.shape(P)[0]\n",
    "    c=np.concatenate([np.ones((S,)), -lmda*np.ones((S,)), np.zeros((S,))])\n",
    "    A=np.array([])\n",
    "    nA=4\n",
    "    \n",
    "    Pa1=np.zeros((S,S))\n",
    "    Pas=np.zeros((3,S,S))\n",
    "    \n",
    "    for s in range(S):\n",
    "        opt_a=policy[s]\n",
    "        Pa1[s,:]=P[s][opt_a]\n",
    "        other_actions=np.setdiff1d(range(nA), opt_a)\n",
    "        for i,a in enumerate(other_actions):\n",
    "            Pas[i,s,:]=P[s][a]\n",
    "            \n",
    "    I, Z=np.eye(S), np.zeros((S,S))\n",
    "    for i in range(nA-1):\n",
    "        Pa=Pas[i]\n",
    "        temp=np.hstack((I, Z, np.matmul(Pa - Pa1, np.linalg.inv(I - gamma*np.array(Pa1)))))\n",
    "        temp=np.vstack((temp, np.hstack((Z, Z, np.matmul(Pa - Pa1, np.linalg.inv(I - gamma*np.array(Pa1)))))))\n",
    "        if (A.shape[0]==0): A=temp\n",
    "        else: A=np.vstack((temp, A))\n",
    "            \n",
    "    A=np.vstack((A, np.hstack((Z, -I, I))))\n",
    "    A=np.vstack((A, np.hstack((Z, -I, -I))))\n",
    "    A=np.vstack((A, np.hstack((Z, Z, I))))\n",
    "    A=np.vstack((A, np.hstack((Z, Z, -I))))\n",
    "    b=np.concatenate([np.zeros((2*(nA-1)*S+2*S,)), Rmax*np.ones((2*S,))])\n",
    "    return [c,A,b]"
   ]
  },
  {
   "cell_type": "code",
   "execution_count": 29,
   "metadata": {},
   "outputs": [],
   "source": [
    "def solve_irl(P,policy,Rmax,lmda=None):\n",
    "    if lmda is None: raise NameError(\"Please specify lambda\")\n",
    "    solvers.options['show_progress']=False\n",
    "    c,A,b=construct_lp_matrices(P,policy,lmda,Rmax)\n",
    "    solution=solvers.lp(-matrix(c.transpose()),matrix(A),matrix(b))\n",
    "    return np.array(solution['x'][-100:]).squeeze()"
   ]
  },
  {
   "cell_type": "code",
   "execution_count": 30,
   "metadata": {},
   "outputs": [],
   "source": [
    "def calc_accuracy_over_lmdas(P,target_policy,Rmax,lmdas,epsilon=0.01):\n",
    "    accuracy=np.zeros_like(lmdas)\n",
    "    for i,lmda in enumerate(tqdm(lmdas)):\n",
    "        R_predicted=solve_irl(P,target_policy,Rmax,lmda)\n",
    "        V,predicted_policy=fast_value_iteration(P,R_predicted,epsilon)\n",
    "        accuracy[i]=(predicted_policy==target_policy).sum()/100\n",
    "    return accuracy"
   ]
  },
  {
   "cell_type": "markdown",
   "metadata": {},
   "source": [
    "### Q18"
   ]
  },
  {
   "cell_type": "code",
   "execution_count": 32,
   "metadata": {},
   "outputs": [],
   "source": [
    "V2, policy2=fast_value_iteration(P1,R2)"
   ]
  },
  {
   "cell_type": "code",
   "execution_count": 33,
   "metadata": {},
   "outputs": [
    {
     "name": "stderr",
     "output_type": "stream",
     "text": [
      "100%|████████████████████████████████████████████████████████████████████████████████| 500/500 [00:19<00:00, 25.48it/s]\n"
     ]
    }
   ],
   "source": [
    "lmdas=np.linspace(0,5,500)\n",
    "accuracy=calc_accuracy_over_lmdas(P1,policy2,R2max,lmdas)"
   ]
  },
  {
   "cell_type": "code",
   "execution_count": 36,
   "metadata": {},
   "outputs": [
    {
     "data": {
      "text/plain": [
       "Text(0, 0.5, 'Accuracy$=\\\\sum_{s\\\\in \\\\mathcal{S}}\\\\frac{m(s)}{|\\\\mathcal{S}|}$')"
      ]
     },
     "execution_count": 36,
     "metadata": {},
     "output_type": "execute_result"
    },
    {
     "data": {
      "image/png": "[encoded data removed]",
      "text/plain": [
       "<Figure size 432x288 with 1 Axes>"
      ]
     },
     "metadata": {
      "needs_background": "light"
     },
     "output_type": "display_data"
    }
   ],
   "source": [
    "plt.plot(lmdas,accuracy)\n",
    "plt.xlabel(r'$\\lambda$')\n",
    "plt.ylabel(r'Accuracy$=\\sum_{s\\in \\mathcal{S}}\\frac{m(s)}{|\\mathcal{S}|}$')\n",
    "#plt.savefig('plots/Q18.png', dpi=600, bbox_inches='tight')"
   ]
  },
  {
   "cell_type": "markdown",
   "metadata": {},
   "source": [
    "### Q19"
   ]
  },
  {
   "cell_type": "code",
   "execution_count": 37,
   "metadata": {},
   "outputs": [],
   "source": [
    "lmda_max_2=lmdas[np.argmax(accuracy)]"
   ]
  },
  {
   "cell_type": "code",
   "execution_count": 38,
   "metadata": {},
   "outputs": [
    {
     "name": "stdout",
     "output_type": "stream",
     "text": [
      "0.7715430861723447\n"
     ]
    }
   ],
   "source": [
    "print(lmda_max_2)"
   ]
  },
  {
   "cell_type": "code",
   "execution_count": 39,
   "metadata": {},
   "outputs": [
    {
     "data": {
      "text/plain": [
       "Text(0, 0.5, 'Accuracy$=\\\\sum_{s\\\\in \\\\mathcal{S}}\\\\frac{m(s)}{|\\\\mathcal{S}|}$')"
      ]
     },
     "execution_count": 39,
     "metadata": {},
     "output_type": "execute_result"
    },
    {
     "data": {
      "image/png": "[encoded data removed]",
      "text/plain": [
       "<Figure size 432x288 with 1 Axes>"
      ]
     },
     "metadata": {
      "needs_background": "light"
     },
     "output_type": "display_data"
    }
   ],
   "source": [
    "plt.plot(lmdas,accuracy)\n",
    "plt.plot([lmda_max_2,lmda_max_2],[0,np.amax(accuracy)],'r--')\n",
    "plt.ylim([0.54,0.96])\n",
    "plt.xlabel(r'$\\lambda$')\n",
    "plt.ylabel(r'Accuracy$=\\sum_{s\\in \\mathcal{S}}\\frac{m(s)}{|\\mathcal{S}|}$')\n",
    "plt.savefig('plots/Q19.png', dpi=600, bbox_inches='tight')"
   ]
  },
  {
   "cell_type": "markdown",
   "metadata": {},
   "source": [
    "### Q20"
   ]
  },
  {
   "cell_type": "code",
   "execution_count": 40,
   "metadata": {},
   "outputs": [
    {
     "data": {
      "image/png": "[encoded data removed]",
      "text/plain": [
       "<Figure size 432x288 with 2 Axes>"
      ]
     },
     "metadata": {
      "needs_background": "light"
     },
     "output_type": "display_data"
    }
   ],
   "source": [
    "draw_heatmap(R2,save=False,save_file_name=\"plots/Q20_1.png\", vmin=-100, vmax=100)"
   ]
  },
  {
   "cell_type": "code",
   "execution_count": 41,
   "metadata": {},
   "outputs": [],
   "source": [
    "R_predicted=solve_irl(P1,policy2,R2max,lmda_max_2)"
   ]
  },
  {
   "cell_type": "code",
   "execution_count": 42,
   "metadata": {},
   "outputs": [
    {
     "data": {
      "image/png": "[encoded data removed]",
      "text/plain": [
       "<Figure size 432x288 with 2 Axes>"
      ]
     },
     "metadata": {
      "needs_background": "light"
     },
     "output_type": "display_data"
    }
   ],
   "source": [
    "draw_heatmap(R_predicted,save=False,save_file_name=\"plots/Q20_2.png\", vmin=-100, vmax=100)"
   ]
  },
  {
   "cell_type": "markdown",
   "metadata": {},
   "source": [
    "### Q21"
   ]
  },
  {
   "cell_type": "code",
   "execution_count": 43,
   "metadata": {},
   "outputs": [],
   "source": [
    "V_predicted,predicted_policy=fast_value_iteration(P1,R_predicted)"
   ]
  },
  {
   "cell_type": "code",
   "execution_count": 44,
   "metadata": {},
   "outputs": [
    {
     "data": {
      "image/png": "[encoded data removed]",
      "text/plain": [
       "<Figure size 432x288 with 2 Axes>"
      ]
     },
     "metadata": {
      "needs_background": "light"
     },
     "output_type": "display_data"
    }
   ],
   "source": [
    "draw_heatmap(V_predicted, save=False, save_file_name=\"plots/Q21.png\")"
   ]
  },
  {
   "cell_type": "markdown",
   "metadata": {},
   "source": [
    "### Q22"
   ]
  },
  {
   "cell_type": "code",
   "execution_count": 45,
   "metadata": {},
   "outputs": [
    {
     "data": {
      "image/png": "[encoded data removed]",
      "text/plain": [
       "<Figure size 432x288 with 2 Axes>"
      ]
     },
     "metadata": {
      "needs_background": "light"
     },
     "output_type": "display_data"
    }
   ],
   "source": [
    "draw_heatmap(V2,save=False,save_file_name=\"plots/Q22.png\")"
   ]
  },
  {
   "cell_type": "markdown",
   "metadata": {},
   "source": [
    "### Q23"
   ]
  },
  {
   "cell_type": "code",
   "execution_count": 46,
   "metadata": {},
   "outputs": [
    {
     "data": {
      "image/png": "[encoded data removed]",
      "text/plain": [
       "<Figure size 432x288 with 1 Axes>"
      ]
     },
     "metadata": {
      "needs_background": "light"
     },
     "output_type": "display_data"
    }
   ],
   "source": [
    "draw_policy_grid(predicted_policy, save=False, save_file_name=\"plots/Q23.png\")"
   ]
  },
  {
   "cell_type": "markdown",
   "metadata": {},
   "source": [
    "### Q24"
   ]
  },
  {
   "cell_type": "code",
   "execution_count": 47,
   "metadata": {},
   "outputs": [
    {
     "data": {
      "image/png": "[encoded data removed]",
      "text/plain": [
       "<Figure size 432x288 with 1 Axes>"
      ]
     },
     "metadata": {
      "needs_background": "light"
     },
     "output_type": "display_data"
    }
   ],
   "source": [
    "policy_arrows=np.chararray((100,), unicode=True)\n",
    "col_vec=['k']*100\n",
    "for s in range(100):\n",
    "    a=predicted_policy[s]\n",
    "    if(a==0):\n",
    "        policy_arrows[s]='↑'\n",
    "    elif(a==1):\n",
    "        policy_arrows[s]='→'\n",
    "    elif(a==2):\n",
    "        policy_arrows[s]='↓'\n",
    "    elif(a==3):\n",
    "        policy_arrows[s]='←'\n",
    "\n",
    "col_vec[94]='r'\n",
    "col_vec[96]='r'\n",
    "col_vec[79]='r'\n",
    "col_vec[49]='r'\n",
    "col_vec[59]='b'\n",
    "col_grid=np.array(col_vec).reshape(10,10)\n",
    "pa=policy_arrows.reshape(10,10)\n",
    "board = np.ones((10,10,3))\n",
    "fig, ax = plt.subplots()\n",
    "ax.imshow(board, interpolation='nearest', aspect='auto')\n",
    "ax.grid(color='k', linewidth=1)\n",
    "\n",
    "for i in range(10):\n",
    "    for j in range(10):\n",
    "        ax.text(i, j, pa[i][j], size=19, ha='center', va='center', color=col_grid[i][j])\n",
    "\n",
    "ax.set(xticks=np.arange(-0.5, 10, 1), yticks=np.arange(-0.5, 10, 1))\n",
    "ax.set_xticklabels(np.arange(0, 10, 1))\n",
    "ax.set_yticklabels(np.arange(0, 10, 1))\n",
    "ax.xaxis.tick_top()\n",
    "ax.axis('image')\n",
    "\n",
    "plt.show()\n",
    "#fig.savefig(\"plots/Q24_pp.png\", dpi=600, bbox_inches='tight')"
   ]
  },
  {
   "cell_type": "code",
   "execution_count": 48,
   "metadata": {},
   "outputs": [
    {
     "data": {
      "image/png": "[encoded data removed]",
      "text/plain": [
       "<Figure size 432x288 with 1 Axes>"
      ]
     },
     "metadata": {
      "needs_background": "light"
     },
     "output_type": "display_data"
    }
   ],
   "source": [
    "draw_policy_grid(policy2, save=False, save_file_name=\"plots/Q24.png\")"
   ]
  },
  {
   "cell_type": "code",
   "execution_count": 49,
   "metadata": {},
   "outputs": [],
   "source": [
    "def draw_value_grid(values,save=False,save_file_name=\"\"):\n",
    "    pa=values.reshape(10,10)\n",
    "    board = np.ones((10,10,3))\n",
    "    fig, ax = plt.subplots()\n",
    "    ax.imshow(board, interpolation='nearest', aspect='auto')\n",
    "    ax.grid(color='k', linewidth=1)\n",
    "\n",
    "    for i in range(10):\n",
    "        for j in range(10):\n",
    "            ax.text(i, j, np.round(pa[i][j],3), size=5, ha='center', va='center')\n",
    "\n",
    "    ax.set(xticks=np.arange(-0.5, 10, 1), yticks=np.arange(-0.5, 10, 1))\n",
    "    ax.set_xticklabels(np.arange(0, 10, 1))\n",
    "    ax.set_yticklabels(np.arange(0, 10, 1))\n",
    "    ax.xaxis.tick_top()\n",
    "    ax.axis('image')\n",
    "\n",
    "    plt.show()\n",
    "    if save: fig.savefig(save_file_name, dpi=600, bbox_inches='tight')"
   ]
  },
  {
   "cell_type": "code",
   "execution_count": 50,
   "metadata": {},
   "outputs": [
    {
     "data": {
      "image/png": "[encoded data removed]",
      "text/plain": [
       "<Figure size 432x288 with 1 Axes>"
      ]
     },
     "metadata": {
      "needs_background": "light"
     },
     "output_type": "display_data"
    }
   ],
   "source": [
    "draw_value_grid(V2, save=False, save_file_name=\"plots/V2.png\")"
   ]
  },
  {
   "cell_type": "code",
   "execution_count": 51,
   "metadata": {},
   "outputs": [
    {
     "data": {
      "image/png": "[encoded data removed]",
      "text/plain": [
       "<Figure size 432x288 with 1 Axes>"
      ]
     },
     "metadata": {
      "needs_background": "light"
     },
     "output_type": "display_data"
    }
   ],
   "source": [
    "draw_value_grid(V_predicted, save=False, save_file_name=\"plots/V_predicted.png\")"
   ]
  },
  {
   "cell_type": "markdown",
   "metadata": {},
   "source": [
    "### Q25"
   ]
  },
  {
   "cell_type": "code",
   "execution_count": 52,
   "metadata": {},
   "outputs": [],
   "source": [
    "V_predicted_modified,predicted_policy_modified=fast_value_iteration(P1,solve_irl(P1,policy2,R2max,lmda_max_2),epsilon=0.001)"
   ]
  },
  {
   "cell_type": "code",
   "execution_count": 53,
   "metadata": {},
   "outputs": [
    {
     "data": {
      "image/png": "[encoded data removed]",
      "text/plain": [
       "<Figure size 432x288 with 2 Axes>"
      ]
     },
     "metadata": {
      "needs_background": "light"
     },
     "output_type": "display_data"
    }
   ],
   "source": [
    "draw_heatmap(V_predicted_modified)"
   ]
  },
  {
   "cell_type": "code",
   "execution_count": 54,
   "metadata": {},
   "outputs": [
    {
     "data": {
      "text/plain": [
       "96"
      ]
     },
     "execution_count": 54,
     "metadata": {},
     "output_type": "execute_result"
    }
   ],
   "source": [
    "(policy2==predicted_policy_modified).sum()"
   ]
  },
  {
   "cell_type": "code",
   "execution_count": 55,
   "metadata": {},
   "outputs": [
    {
     "data": {
      "image/png": "[encoded data removed]",
      "text/plain": [
       "<Figure size 432x288 with 1 Axes>"
      ]
     },
     "metadata": {
      "needs_background": "light"
     },
     "output_type": "display_data"
    }
   ],
   "source": [
    "draw_policy_grid(predicted_policy_modified)"
   ]
  },
  {
   "cell_type": "code",
   "execution_count": 56,
   "metadata": {},
   "outputs": [
    {
     "data": {
      "image/png": "[encoded data removed]",
      "text/plain": [
       "<Figure size 432x288 with 1 Axes>"
      ]
     },
     "metadata": {
      "needs_background": "light"
     },
     "output_type": "display_data"
    }
   ],
   "source": [
    "policy_arrows=np.chararray((100,), unicode=True)\n",
    "col_vec=['k']*100\n",
    "for s in range(100):\n",
    "    a=predicted_policy_modified[s]\n",
    "    if(a==0):\n",
    "        policy_arrows[s]='↑'\n",
    "    elif(a==1):\n",
    "        policy_arrows[s]='→'\n",
    "    elif(a==2):\n",
    "        policy_arrows[s]='↓'\n",
    "    elif(a==3):\n",
    "        policy_arrows[s]='←'\n",
    "\n",
    "col_vec[94]='r'\n",
    "col_vec[96]='r'\n",
    "col_vec[79]='r'\n",
    "col_vec[49]='g'\n",
    "col_vec[59]='r'\n",
    "col_grid=np.array(col_vec).reshape(10,10)\n",
    "pa=policy_arrows.reshape(10,10)\n",
    "board = np.ones((10,10,3))\n",
    "fig, ax = plt.subplots()\n",
    "ax.imshow(board, interpolation='nearest', aspect='auto')\n",
    "ax.grid(color='k', linewidth=1)\n",
    "\n",
    "for i in range(10):\n",
    "    for j in range(10):\n",
    "        ax.text(i, j, pa[i][j], size=19, ha='center', va='center', color=col_grid[i][j])\n",
    "\n",
    "ax.set(xticks=np.arange(-0.5, 10, 1), yticks=np.arange(-0.5, 10, 1))\n",
    "ax.set_xticklabels(np.arange(0, 10, 1))\n",
    "ax.set_yticklabels(np.arange(0, 10, 1))\n",
    "ax.xaxis.tick_top()\n",
    "ax.axis('image')\n",
    "\n",
    "plt.show()\n",
    "#fig.savefig(\"plots/Q25_policy_mod.png\", dpi=600, bbox_inches='tight')"
   ]
  },
  {
   "cell_type": "code",
   "execution_count": 57,
   "metadata": {},
   "outputs": [
    {
     "data": {
      "image/png": "[encoded data removed]",
      "text/plain": [
       "<Figure size 432x288 with 1 Axes>"
      ]
     },
     "metadata": {
      "needs_background": "light"
     },
     "output_type": "display_data"
    }
   ],
   "source": [
    "draw_policy_grid(policy2)"
   ]
  },
  {
   "cell_type": "code",
   "execution_count": null,
   "metadata": {},
   "outputs": [],
   "source": []
  },
  {
   "cell_type": "code",
   "execution_count": 58,
   "metadata": {},
   "outputs": [
    {
     "name": "stderr",
     "output_type": "stream",
     "text": [
      "100%|████████████████████████████████████████████████████████████████████████████████| 500/500 [00:19<00:00, 25.10it/s]\n"
     ]
    }
   ],
   "source": [
    "lmdas=np.linspace(0,5,500)\n",
    "accuracy_mod_e=calc_accuracy_over_lmdas(P1,policy2,R2max,lmdas,0.00001)"
   ]
  },
  {
   "cell_type": "code",
   "execution_count": 59,
   "metadata": {},
   "outputs": [
    {
     "data": {
      "text/plain": [
       "Text(0, 0.5, 'Accuracy$=\\\\sum_{s\\\\in \\\\mathcal{S}}\\\\frac{m(s)}{|\\\\mathcal{S}|}$')"
      ]
     },
     "execution_count": 59,
     "metadata": {},
     "output_type": "execute_result"
    },
    {
     "data": {
      "image/png": "[encoded data removed]",
      "text/plain": [
       "<Figure size 432x288 with 1 Axes>"
      ]
     },
     "metadata": {
      "needs_background": "light"
     },
     "output_type": "display_data"
    }
   ],
   "source": [
    "plt.plot(lmdas,accuracy_mod_e)\n",
    "plt.xlabel(r'$\\lambda$')\n",
    "plt.ylabel(r'Accuracy$=\\sum_{s\\in \\mathcal{S}}\\frac{m(s)}{|\\mathcal{S}|}$')\n",
    "#plt.savefig('plots/Q25.png', dpi=600, bbox_inches='tight')"
   ]
  },
  {
   "cell_type": "code",
   "execution_count": 60,
   "metadata": {},
   "outputs": [
    {
     "name": "stdout",
     "output_type": "stream",
     "text": [
      "1.0\n"
     ]
    }
   ],
   "source": [
    "print(np.amax(accuracy_mod_e))"
   ]
  },
  {
   "cell_type": "code",
   "execution_count": null,
   "metadata": {},
   "outputs": [],
   "source": []
  },
  {
   "cell_type": "code",
   "execution_count": 61,
   "metadata": {},
   "outputs": [],
   "source": [
    "def construct_lp_matrices_modified(P,policy,lmda,Rmax,Rmin,Vmax,Vmin):\n",
    "    S=np.shape(P)[0]\n",
    "    c=np.concatenate([gamma*np.ones((S,)), -lmda*np.ones((S,)), np.zeros((S,))])\n",
    "    A=np.array([])\n",
    "    nA=4\n",
    "    \n",
    "    Pa1=np.zeros((S,S))\n",
    "    Pas=np.zeros((3,S,S))\n",
    "    \n",
    "    for s in range(S):\n",
    "        opt_a=policy[s]\n",
    "        Pa1[s,:]=P[s][opt_a]\n",
    "        other_actions=np.setdiff1d(range(nA), opt_a)\n",
    "        for i,a in enumerate(other_actions):\n",
    "            Pas[i,s,:]=P[s][a]\n",
    "            \n",
    "    I, Z=np.eye(S), np.zeros((S,S))\n",
    "    for i in range(nA-1):\n",
    "        Pa=Pas[i]\n",
    "        temp=np.hstack((I, Z, np.matmul(Pa - Pa1, np.linalg.inv(I - gamma*np.array(Pa1)))))\n",
    "        temp=np.vstack((temp, np.hstack((Z, Z, np.matmul(Pa - Pa1, np.linalg.inv(I - gamma*np.array(Pa1)))))))\n",
    "        if (A.shape[0]==0): A=temp\n",
    "        else: A=np.vstack((temp, A))\n",
    "            \n",
    "    A=np.vstack((A, np.hstack((Z, -I, I))))\n",
    "    A=np.vstack((A, np.hstack((Z, -I, -I))))\n",
    "    A=np.vstack((A, np.hstack((Z, Z, I))))\n",
    "    A=np.vstack((A, np.hstack((Z, Z, -I))))\n",
    "    A=np.vstack((A, np.hstack((Z, Z, np.linalg.inv(I - gamma*np.array(Pa1))))))\n",
    "    A=np.vstack((A, np.hstack((Z, Z, -np.linalg.inv(I - gamma*np.array(Pa1))))))\n",
    "    b=np.concatenate([np.zeros((2*(nA-1)*S+2*S,)), Rmax*np.ones((S,)), Rmax*np.ones((S,)), Vmax*np.ones((S,)), Vmax*np.ones((S,))])\n",
    "    return [c,A,b]"
   ]
  },
  {
   "cell_type": "code",
   "execution_count": 62,
   "metadata": {},
   "outputs": [],
   "source": [
    "def solve_irl_modified(P,policy,Rmax,Rmin,Vmax,Vmin,lmda=None):\n",
    "    if lmda is None: raise NameError(\"Please specify lambda\")\n",
    "    solvers.options['show_progress']=False\n",
    "    c,A,b=construct_lp_matrices_modified(P,policy,lmda,Rmax,Rmin,Vmax,Vmin)\n",
    "    solution=solvers.lp(-matrix(c.transpose()),matrix(A),matrix(b))\n",
    "    return np.array(solution['x'][-100:]).squeeze()"
   ]
  },
  {
   "cell_type": "code",
   "execution_count": null,
   "metadata": {},
   "outputs": [],
   "source": []
  },
  {
   "cell_type": "code",
   "execution_count": 63,
   "metadata": {},
   "outputs": [],
   "source": [
    "R2mx, R2mn=np.amax(R2), np.amin(R2)\n",
    "V2mx, V2mn=np.amax(V2), np.amin(V2)\n",
    "V2max = np.amax(np.abs(V2))"
   ]
  },
  {
   "cell_type": "code",
   "execution_count": 64,
   "metadata": {},
   "outputs": [],
   "source": [
    "R_predicted_mod=solve_irl_modified(P1,policy2,R2max,R2mn,V2max,V2mn,lmda_max_2)"
   ]
  },
  {
   "cell_type": "code",
   "execution_count": 65,
   "metadata": {},
   "outputs": [
    {
     "data": {
      "image/png": "[encoded data removed]",
      "text/plain": [
       "<Figure size 432x288 with 2 Axes>"
      ]
     },
     "metadata": {
      "needs_background": "light"
     },
     "output_type": "display_data"
    }
   ],
   "source": [
    "draw_heatmap(R_predicted_mod)"
   ]
  },
  {
   "cell_type": "code",
   "execution_count": 66,
   "metadata": {},
   "outputs": [],
   "source": [
    "V_predicted_mod,predicted_policy_mod=fast_value_iteration(P1,R_predicted_mod,epsilon=0.001)"
   ]
  },
  {
   "cell_type": "code",
   "execution_count": 67,
   "metadata": {},
   "outputs": [
    {
     "data": {
      "image/png": "[encoded data removed]",
      "text/plain": [
       "<Figure size 432x288 with 2 Axes>"
      ]
     },
     "metadata": {
      "needs_background": "light"
     },
     "output_type": "display_data"
    }
   ],
   "source": [
    "draw_heatmap(V_predicted_mod)"
   ]
  },
  {
   "cell_type": "code",
   "execution_count": 68,
   "metadata": {},
   "outputs": [
    {
     "data": {
      "image/png": "[encoded data removed]",
      "text/plain": [
       "<Figure size 432x288 with 2 Axes>"
      ]
     },
     "metadata": {
      "needs_background": "light"
     },
     "output_type": "display_data"
    }
   ],
   "source": [
    "draw_heatmap(V2)"
   ]
  },
  {
   "cell_type": "code",
   "execution_count": 69,
   "metadata": {},
   "outputs": [
    {
     "data": {
      "text/plain": [
       "98"
      ]
     },
     "execution_count": 69,
     "metadata": {},
     "output_type": "execute_result"
    }
   ],
   "source": [
    "(policy2==predicted_policy_mod).sum()"
   ]
  },
  {
   "cell_type": "code",
   "execution_count": 70,
   "metadata": {},
   "outputs": [
    {
     "data": {
      "image/png": "[encoded data removed]",
      "text/plain": [
       "<Figure size 432x288 with 1 Axes>"
      ]
     },
     "metadata": {
      "needs_background": "light"
     },
     "output_type": "display_data"
    }
   ],
   "source": [
    "draw_policy_grid(predicted_policy_mod)"
   ]
  },
  {
   "cell_type": "code",
   "execution_count": 71,
   "metadata": {},
   "outputs": [
    {
     "data": {
      "image/png": "[encoded data removed]",
      "text/plain": [
       "<Figure size 432x288 with 1 Axes>"
      ]
     },
     "metadata": {
      "needs_background": "light"
     },
     "output_type": "display_data"
    }
   ],
   "source": [
    "policy_arrows=np.chararray((100,), unicode=True)\n",
    "col_vec=['k']*100\n",
    "for s in range(100):\n",
    "    a=predicted_policy_mod[s]\n",
    "    if(a==0):\n",
    "        policy_arrows[s]='↑'\n",
    "    elif(a==1):\n",
    "        policy_arrows[s]='→'\n",
    "    elif(a==2):\n",
    "        policy_arrows[s]='↓'\n",
    "    elif(a==3):\n",
    "        policy_arrows[s]='←'\n",
    "\n",
    "col_vec[92]='r'\n",
    "col_vec[30]='b'\n",
    "col_grid=np.array(col_vec).reshape(10,10)\n",
    "pa=policy_arrows.reshape(10,10)\n",
    "board = np.ones((10,10,3))\n",
    "fig, ax = plt.subplots()\n",
    "ax.imshow(board, interpolation='nearest', aspect='auto')\n",
    "ax.grid(color='k', linewidth=1)\n",
    "\n",
    "for i in range(10):\n",
    "    for j in range(10):\n",
    "        ax.text(i, j, pa[i][j], size=19, ha='center', va='center', color=col_grid[i][j])\n",
    "\n",
    "ax.set(xticks=np.arange(-0.5, 10, 1), yticks=np.arange(-0.5, 10, 1))\n",
    "ax.set_xticklabels(np.arange(0, 10, 1))\n",
    "ax.set_yticklabels(np.arange(0, 10, 1))\n",
    "ax.xaxis.tick_top()\n",
    "ax.axis('image')\n",
    "\n",
    "plt.show()\n",
    "#fig.savefig(\"plots/Q25_policy_mod_new.png\", dpi=600, bbox_inches='tight')"
   ]
  },
  {
   "cell_type": "code",
   "execution_count": null,
   "metadata": {},
   "outputs": [],
   "source": []
  },
  {
   "cell_type": "code",
   "execution_count": 72,
   "metadata": {},
   "outputs": [],
   "source": [
    "def calc_accuracy_over_lmdas_modified(P,target_policy,Rmax,Rmin,Vmax,Vmin,lmdas,epsilon=0.01):\n",
    "    accuracy=np.zeros_like(lmdas)\n",
    "    for i,lmda in enumerate(tqdm(lmdas)):\n",
    "        R_predicted=solve_irl_modified(P,target_policy,Rmax,Rmin,Vmax,Vmin,lmda)\n",
    "        V,predicted_policy=fast_value_iteration(P,R_predicted,epsilon)\n",
    "        accuracy[i]=(predicted_policy==target_policy).sum()/100\n",
    "    return accuracy"
   ]
  },
  {
   "cell_type": "code",
   "execution_count": null,
   "metadata": {},
   "outputs": [],
   "source": []
  },
  {
   "cell_type": "code",
   "execution_count": null,
   "metadata": {},
   "outputs": [
    {
     "name": "stderr",
     "output_type": "stream",
     "text": [
      " 93%|██████████████████████████████████████████████████████████████████████████▌     | 466/500 [00:20<00:01, 28.72it/s]"
     ]
    }
   ],
   "source": [
    "lmdas=np.linspace(0,5,500)\n",
    "accuracy_modified=calc_accuracy_over_lmdas_modified(P1,policy2,R2max,R2mn,V2max,V2mn,lmdas,epsilon=0.01)"
   ]
  },
  {
   "cell_type": "code",
   "execution_count": null,
   "metadata": {},
   "outputs": [],
   "source": [
    "lmdas[np.argmax(accuracy_modified)]"
   ]
  },
  {
   "cell_type": "code",
   "execution_count": null,
   "metadata": {},
   "outputs": [],
   "source": [
    "np.amax(accuracy_modified)"
   ]
  },
  {
   "cell_type": "code",
   "execution_count": null,
   "metadata": {},
   "outputs": [],
   "source": [
    "plt.plot(lmdas,accuracy_modified)\n",
    "plt.xlabel(r'$\\lambda$')\n",
    "plt.ylabel(r'Accuracy$=\\sum_{s\\in \\mathcal{S}}\\frac{m(s)}{|\\mathcal{S}|}$')\n",
    "#plt.savefig('plots/Q25_sweep_mod.png', dpi=600, bbox_inches='tight')"
   ]
  },
  {
   "cell_type": "code",
   "execution_count": null,
   "metadata": {},
   "outputs": [],
   "source": []
  }
 ],
 "metadata": {
  "kernelspec": {
   "display_name": "Python 3",
   "language": "python",
   "name": "python3"
  },
  "language_info": {
   "codemirror_mode": {
    "name": "ipython",
    "version": 3
   },
   "file_extension": ".py",
   "mimetype": "text/x-python",
   "name": "python",
   "nbconvert_exporter": "python",
   "pygments_lexer": "ipython3",
   "version": "3.6.10"
  }
 },
 "nbformat": 4,
 "nbformat_minor": 4
}
