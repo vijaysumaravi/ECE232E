{
 "cells": [
  {
   "cell_type": "code",
   "execution_count": 1,
   "metadata": {},
   "outputs": [],
   "source": [
    "import numpy as np\n",
    "import matplotlib.pyplot as plt"
   ]
  },
  {
   "cell_type": "code",
   "execution_count": 2,
   "metadata": {},
   "outputs": [],
   "source": [
    "import pandas as pd"
   ]
  },
  {
   "cell_type": "code",
   "execution_count": 3,
   "metadata": {},
   "outputs": [],
   "source": [
    "from cvxopt import matrix, solvers"
   ]
  },
  {
   "cell_type": "code",
   "execution_count": 49,
   "metadata": {},
   "outputs": [],
   "source": [
    "from tqdm import tqdm"
   ]
  },
  {
   "cell_type": "code",
   "execution_count": 5,
   "metadata": {},
   "outputs": [],
   "source": [
    "w=0.1"
   ]
  },
  {
   "cell_type": "code",
   "execution_count": 6,
   "metadata": {},
   "outputs": [],
   "source": [
    "P=np.zeros((100,4,100))"
   ]
  },
  {
   "cell_type": "code",
   "execution_count": 7,
   "metadata": {},
   "outputs": [],
   "source": [
    "def is_valid_state(s):\n",
    "    return (s>=0) and (s<100)"
   ]
  },
  {
   "cell_type": "code",
   "execution_count": 8,
   "metadata": {},
   "outputs": [],
   "source": [
    "def is_valid_action(a):\n",
    "    return (a>=0) and (a<4)"
   ]
  },
  {
   "cell_type": "code",
   "execution_count": 9,
   "metadata": {},
   "outputs": [],
   "source": [
    "def get_row(s):\n",
    "    return s%10"
   ]
  },
  {
   "cell_type": "code",
   "execution_count": 10,
   "metadata": {},
   "outputs": [],
   "source": [
    "def get_column(s):\n",
    "    return s//10"
   ]
  },
  {
   "cell_type": "code",
   "execution_count": 11,
   "metadata": {},
   "outputs": [],
   "source": [
    "def is_internal_state(s):\n",
    "    r=is_valid_state(s-1) and is_valid_state(s+1) and is_valid_state(s-10) and is_valid_state(s+10)\n",
    "    return r and ((get_row(s-10)==get_row(s)) and (get_row(s+10)==get_row(s)) and (get_column(s-1)==get_column(s)) and (get_column(s+1)==get_column(s)))"
   ]
  },
  {
   "cell_type": "code",
   "execution_count": 12,
   "metadata": {},
   "outputs": [],
   "source": [
    "#up=0, right=1, down=2, left=3"
   ]
  },
  {
   "cell_type": "code",
   "execution_count": 13,
   "metadata": {},
   "outputs": [],
   "source": [
    "def state_after_action(s, a):\n",
    "    if(not(is_valid_state(s))): raise NameError(\"Invalid state\")\n",
    "    if(not(is_valid_action(a))): raise NameError(\"Invalid action\")\n",
    "    s1=s\n",
    "    if(a==0):\n",
    "        if(is_valid_state(s-1) and (get_column(s-1)==get_column(s))): s1=s-1\n",
    "    elif(a==1):\n",
    "        if(is_valid_state(s+10) and (get_row(s+10)==get_row(s))): s1=s+10\n",
    "    elif(a==2):\n",
    "        if(is_valid_state(s+1) and (get_column(s+1)==get_column(s))): s1=s+1\n",
    "    elif(a==3):\n",
    "        if(is_valid_state(s-10) and (get_row(s-10)==get_row(s))): s1=s-10\n",
    "    return s1"
   ]
  },
  {
   "cell_type": "code",
   "execution_count": 14,
   "metadata": {},
   "outputs": [],
   "source": [
    "def evaluate_P(w=0.1):\n",
    "    P=np.zeros((100,4,100))\n",
    "    for s in range(100):\n",
    "        for a in range(4):\n",
    "            P[s][a][state_after_action(s,a)]+=1-w\n",
    "            for a1 in range(4):\n",
    "                P[s][a][state_after_action(s,a1)]+=w/4\n",
    "    return P"
   ]
  },
  {
   "cell_type": "code",
   "execution_count": 15,
   "metadata": {},
   "outputs": [],
   "source": [
    "P1=evaluate_P(0.1)"
   ]
  },
  {
   "cell_type": "code",
   "execution_count": 16,
   "metadata": {},
   "outputs": [],
   "source": [
    "R1=np.zeros((100,))"
   ]
  },
  {
   "cell_type": "code",
   "execution_count": 17,
   "metadata": {},
   "outputs": [],
   "source": [
    "for i in [14,24,15,25,52,62,53,63,28,38,29,39]:\n",
    "    R1[i]=-10\n",
    "R1[99]=1"
   ]
  },
  {
   "cell_type": "code",
   "execution_count": 18,
   "metadata": {},
   "outputs": [],
   "source": [
    "R2=np.zeros((100,))"
   ]
  },
  {
   "cell_type": "code",
   "execution_count": 19,
   "metadata": {},
   "outputs": [],
   "source": [
    "for i in [41,42,43,44,45,46,51,61,62,63,73,83,84,85,86,87,77,67,68]:\n",
    "    R2[i]=-100\n",
    "R2[99]=10"
   ]
  },
  {
   "cell_type": "code",
   "execution_count": 20,
   "metadata": {},
   "outputs": [
    {
     "name": "stdout",
     "output_type": "stream",
     "text": [
      "     0     1     2     3    4     5     6    7    8    9\n",
      "0  0.0   0.0   0.0   0.0  0.0   0.0   0.0  0.0  0.0  0.0\n",
      "1  0.0   0.0   0.0   0.0  0.0   0.0   0.0  0.0  0.0  0.0\n",
      "2  0.0   0.0   0.0   0.0  0.0 -10.0 -10.0  0.0  0.0  0.0\n",
      "3  0.0   0.0   0.0   0.0  0.0 -10.0 -10.0  0.0  0.0  0.0\n",
      "4  0.0 -10.0 -10.0   0.0  0.0   0.0   0.0  0.0  0.0  0.0\n",
      "5  0.0 -10.0 -10.0   0.0  0.0   0.0   0.0  0.0  0.0  0.0\n",
      "6  0.0   0.0   0.0   0.0  0.0   0.0   0.0  0.0  0.0  0.0\n",
      "7  0.0   0.0   0.0   0.0  0.0   0.0   0.0  0.0  0.0  0.0\n",
      "8  0.0   0.0 -10.0 -10.0  0.0   0.0   0.0  0.0  0.0  0.0\n",
      "9  0.0   0.0 -10.0 -10.0  0.0   0.0   0.0  0.0  0.0  1.0\n"
     ]
    }
   ],
   "source": [
    "print(pd.DataFrame(R1.reshape(10,10).transpose()))"
   ]
  },
  {
   "cell_type": "code",
   "execution_count": 21,
   "metadata": {},
   "outputs": [
    {
     "name": "stdout",
     "output_type": "stream",
     "text": [
      "     0    1    2    3      4      5      6      7      8     9\n",
      "0  0.0  0.0  0.0  0.0    0.0    0.0    0.0    0.0    0.0   0.0\n",
      "1  0.0  0.0  0.0  0.0 -100.0 -100.0 -100.0    0.0    0.0   0.0\n",
      "2  0.0  0.0  0.0  0.0 -100.0    0.0 -100.0    0.0    0.0   0.0\n",
      "3  0.0  0.0  0.0  0.0 -100.0    0.0 -100.0 -100.0 -100.0   0.0\n",
      "4  0.0  0.0  0.0  0.0 -100.0    0.0    0.0    0.0 -100.0   0.0\n",
      "5  0.0  0.0  0.0  0.0 -100.0    0.0    0.0    0.0 -100.0   0.0\n",
      "6  0.0  0.0  0.0  0.0 -100.0    0.0    0.0    0.0 -100.0   0.0\n",
      "7  0.0  0.0  0.0  0.0    0.0    0.0 -100.0 -100.0 -100.0   0.0\n",
      "8  0.0  0.0  0.0  0.0    0.0    0.0 -100.0    0.0    0.0   0.0\n",
      "9  0.0  0.0  0.0  0.0    0.0    0.0    0.0    0.0    0.0  10.0\n"
     ]
    }
   ],
   "source": [
    "print(pd.DataFrame(R2.reshape(10,10).transpose()))"
   ]
  },
  {
   "cell_type": "code",
   "execution_count": 22,
   "metadata": {},
   "outputs": [],
   "source": [
    "V1=np.zeros((100,1))"
   ]
  },
  {
   "cell_type": "code",
   "execution_count": 23,
   "metadata": {},
   "outputs": [],
   "source": [
    "gamma=0.8\n",
    "epsilon=0.01"
   ]
  },
  {
   "cell_type": "code",
   "execution_count": 68,
   "metadata": {},
   "outputs": [],
   "source": [
    "def fast_value_iteration(P,R,epsilon=0.01,gamma=0.8):\n",
    "    V=np.zeros((100,))\n",
    "    delta=np.inf\n",
    "    while delta>epsilon:\n",
    "        v_next=np.amax(np.matmul(P,R+gamma*V), axis=1)\n",
    "        delta=np.amax(np.abs(v_next-V))\n",
    "        V=v_next\n",
    "    policy=np.argmax(np.matmul(P,R+gamma*V), axis=1)\n",
    "    return [V, policy]"
   ]
  },
  {
   "cell_type": "code",
   "execution_count": 27,
   "metadata": {},
   "outputs": [],
   "source": [
    "def value_iteration(P,R,epsilon=0.01,gamma=0.8):\n",
    "    V=np.zeros((100,1))\n",
    "    policy=np.zeros((100,), dtype=int)\n",
    "    delta=np.inf\n",
    "    iter=0\n",
    "    while delta>epsilon:\n",
    "        delta=0\n",
    "        for s in range(100):\n",
    "            v_next=-np.inf\n",
    "            for a in range(4):\n",
    "                v_temp=0\n",
    "                for s1 in range(100):\n",
    "                    v_temp+=P[s][a][s1]*(R[s1]+gamma*V[s1])\n",
    "                v_next = max(v_next, v_temp)\n",
    "            delta=max(delta,np.abs(v_next-V[s]))\n",
    "            V[s]=v_next\n",
    "    for s in range(100):\n",
    "        v_next=-np.inf\n",
    "        opt_a=-1\n",
    "        for a in range(4):\n",
    "            v_temp=0\n",
    "            for s1 in range(100):\n",
    "                v_temp+=P[s][a][s1]*(R[s1]+gamma*V[s1])\n",
    "            if(v_temp>v_next):\n",
    "                opt_a=a\n",
    "                v_next = v_temp\n",
    "        policy[s]=opt_a\n",
    "    return [V, policy]"
   ]
  },
  {
   "cell_type": "code",
   "execution_count": 214,
   "metadata": {},
   "outputs": [],
   "source": [
    "def draw_heatmap(A):\n",
    "    plt.imshow(A.reshape(10,10).transpose(), cmap='coolwarm', interpolation='nearest')\n",
    "    plt.colorbar()\n",
    "    plt.show()"
   ]
  },
  {
   "cell_type": "code",
   "execution_count": 207,
   "metadata": {},
   "outputs": [],
   "source": [
    "def draw_policy_grid(policy):\n",
    "    policy_arrows=np.chararray((100,), unicode=True)\n",
    "    for s in range(100):\n",
    "        a=policy[s]\n",
    "        if(a==0):\n",
    "            policy_arrows[s]='↑'\n",
    "        elif(a==1):\n",
    "            policy_arrows[s]='→'\n",
    "        elif(a==2):\n",
    "            policy_arrows[s]='↓'\n",
    "        elif(a==3):\n",
    "            policy_arrows[s]='←'\n",
    "    pa=policy_arrows.reshape(10,10)\n",
    "    board = np.ones((10,10,3))\n",
    "    fig, ax = plt.subplots()\n",
    "    ax.imshow(board, interpolation='nearest', aspect='auto')\n",
    "    ax.grid(color='k', linewidth=1)\n",
    "\n",
    "    for i in range(10):\n",
    "        for j in range(10):\n",
    "            ax.text(i, j, pa[i][j], size=19, ha='center', va='center')\n",
    "\n",
    "    ax.set(xticks=np.arange(-0.5, 10, 1), yticks=np.arange(-0.5, 10, 1))\n",
    "    ax.set_xticklabels(np.arange(0, 10, 1))\n",
    "    ax.set_yticklabels(np.arange(0, 10, 1))\n",
    "    ax.xaxis.tick_top()\n",
    "    ax.axis('image')\n",
    "\n",
    "    plt.show()"
   ]
  },
  {
   "cell_type": "code",
   "execution_count": 79,
   "metadata": {},
   "outputs": [],
   "source": [
    "def draw_policy(policy):\n",
    "    policy_arrows=np.chararray((100,), unicode=True)\n",
    "    for s in range(100):\n",
    "        a=policy[s]\n",
    "        if(a==0):\n",
    "            policy_arrows[s]='↑'\n",
    "        elif(a==1):\n",
    "            policy_arrows[s]='→'\n",
    "        elif(a==2):\n",
    "            policy_arrows[s]='↓'\n",
    "        elif(a==3):\n",
    "            policy_arrows[s]='←'\n",
    "    print(pd.DataFrame(policy_arrows.reshape(10,10).transpose()))"
   ]
  },
  {
   "cell_type": "code",
   "execution_count": 35,
   "metadata": {},
   "outputs": [],
   "source": [
    "V1, policy1=value_iteration(P1,R1)"
   ]
  },
  {
   "cell_type": "code",
   "execution_count": 36,
   "metadata": {},
   "outputs": [
    {
     "name": "stdout",
     "output_type": "stream",
     "text": [
      "          0         1         2         3         4         5         6  \\\n",
      "0  0.034184  0.053623  0.078772  0.111036  0.152416  0.205748  0.281056   \n",
      "1  0.027161  0.042216  0.061703  0.086546  0.108552 -0.105918  0.090649   \n",
      "2  0.020837  0.027323  0.042589  0.062113 -0.178936 -0.592498 -0.256072   \n",
      "3  0.004851 -0.248738 -0.229786  0.054929  0.082457 -0.252576 -0.103050   \n",
      "4 -0.271550 -0.711764 -0.469517  0.085998  0.468917  0.360402  0.544964   \n",
      "5 -0.256961 -0.625632 -0.365881  0.215098  0.628854  0.813767  1.048608   \n",
      "6  0.031436 -0.124235  0.193076  0.617776  0.818799  1.054084  1.353224   \n",
      "7  0.061552  0.089079  0.136762  0.535698  1.042798  1.352966  1.734448   \n",
      "8  0.042599 -0.196964 -0.416322  0.297379  1.076282  1.727458  2.219408   \n",
      "9  0.027114 -0.258487 -0.963587  0.277586  1.408604  2.176171  2.806674   \n",
      "\n",
      "          7         8         9  \n",
      "0  0.374033  0.484771  0.609198  \n",
      "1  0.472000  0.625150  0.786938  \n",
      "2  0.355456  0.807146  1.018277  \n",
      "3  0.543076  1.046190  1.314922  \n",
      "4  1.042975  1.351215  1.695062  \n",
      "5  1.352976  1.733166  2.182231  \n",
      "6  1.734451  2.219526  2.806802  \n",
      "7  2.220201  2.839257  3.607626  \n",
      "8  2.839255  3.628814  4.634547  \n",
      "9  3.607624  4.634547  4.701540  \n"
     ]
    }
   ],
   "source": [
    "print(pd.DataFrame(V1.reshape(10,10).transpose()))"
   ]
  },
  {
   "cell_type": "code",
   "execution_count": 213,
   "metadata": {},
   "outputs": [
    {
     "data": {
      "image/png": "[encoded data removed]",
      "text/plain": [
       "<Figure size 432x288 with 2 Axes>"
      ]
     },
     "metadata": {
      "needs_background": "light"
     },
     "output_type": "display_data"
    }
   ],
   "source": [
    "plt.imshow(V1.reshape(10,10).transpose(), cmap='coolwarm', interpolation='nearest')\n",
    "plt.colorbar()\n",
    "plt.show()"
   ]
  },
  {
   "cell_type": "code",
   "execution_count": 38,
   "metadata": {},
   "outputs": [
    {
     "name": "stdout",
     "output_type": "stream",
     "text": [
      "   0  1  2  3  4  5  6  7  8  9\n",
      "0  ↓  ↓  ↓  ←  ←  →  →  →  →  ↓\n",
      "1  ↓  ↓  ↓  ←  ←  ↑  →  →  →  ↓\n",
      "2  ↓  ↓  ↓  ←  ←  ↓  →  →  →  ↓\n",
      "3  ↓  ↓  ↓  ←  ←  ↓  ↓  ↑  →  ↓\n",
      "4  ↓  ↓  ↓  ←  ←  ↓  ↓  ↓  →  ↓\n",
      "5  ↓  ↓  ↓  ←  ←  ↓  ↓  ←  →  ↓\n",
      "6  ↓  ↓  ↓  ↓  ↓  ↓  ←  ←  →  ↓\n",
      "7  ↓  ↓  ↓  ↓  ↓  ↓  ←  ↓  ↓  ↓\n",
      "8  →  →  →  ↓  ↓  ↓  ↓  ↓  ↓  ↓\n",
      "9  →  →  →  →  →  →  →  →  →  →\n"
     ]
    }
   ],
   "source": [
    "draw_policy(policy1)"
   ]
  },
  {
   "cell_type": "code",
   "execution_count": 52,
   "metadata": {},
   "outputs": [],
   "source": [
    "V2, policy2=fast_value_iteration(P1,R2)"
   ]
  },
  {
   "cell_type": "code",
   "execution_count": 53,
   "metadata": {},
   "outputs": [
    {
     "name": "stdout",
     "output_type": "stream",
     "text": [
      "          0         1         2          3          4          5          6  \\\n",
      "0  0.646710  0.790798  0.820813   0.525100  -2.386476  -4.236930  -1.923374   \n",
      "1  0.827724  1.017733  1.061580  -1.879217  -6.754669  -8.683714  -6.373483   \n",
      "2  1.061312  1.313001  1.445788  -1.635211  -6.757757 -13.916635  -9.653202   \n",
      "3  1.357786  1.689182  1.943907  -1.243217  -6.339216  -7.982771  -7.947292   \n",
      "4  1.733934  2.168079  2.585895  -0.736490  -5.846727  -3.258403  -3.241071   \n",
      "5  2.211119  2.777553  3.413345  -0.038140  -5.114112  -0.553380  -0.487536   \n",
      "6  2.816429  3.552963  4.478824   3.024358   2.480209   2.880151  -0.465523   \n",
      "7  3.584202  4.539186  5.792569   7.288420   6.718773   7.241102   0.930890   \n",
      "8  4.557967  5.794705  7.397203   9.439455  12.008201  12.889183  17.097345   \n",
      "9  5.726633  7.316079  9.387596  12.044687  15.452355  19.823974  25.497506   \n",
      "\n",
      "           7          8          9  \n",
      "0   1.128097   1.591162   2.034827  \n",
      "1  -1.298361   1.924775   2.606893  \n",
      "2  -5.514815  -0.134600   3.355478  \n",
      "3  -9.434452  -1.918155   4.387045  \n",
      "4  -7.434498   1.715158   9.159524  \n",
      "5  -2.983515   6.582692  15.353757  \n",
      "6  -4.910549  12.688464  23.296389  \n",
      "7  12.366437  21.159165  33.482577  \n",
      "8  23.013970  33.778251  46.528791  \n",
      "9  36.157594  46.583383  47.311471  \n"
     ]
    }
   ],
   "source": [
    "print(pd.DataFrame(V2.reshape(10,10).transpose()))"
   ]
  },
  {
   "cell_type": "code",
   "execution_count": 212,
   "metadata": {},
   "outputs": [
    {
     "data": {
      "image/png": "[encoded data removed]",
      "text/plain": [
       "<Figure size 432x288 with 2 Axes>"
      ]
     },
     "metadata": {
      "needs_background": "light"
     },
     "output_type": "display_data"
    }
   ],
   "source": [
    "plt.imshow(V2.reshape(10,10).transpose(), cmap='coolwarm', interpolation='nearest')\n",
    "plt.colorbar()\n",
    "plt.show()"
   ]
  },
  {
   "cell_type": "code",
   "execution_count": 55,
   "metadata": {},
   "outputs": [
    {
     "name": "stdout",
     "output_type": "stream",
     "text": [
      "   0  1  2  3  4  5  6  7  8  9\n",
      "0  2  2  2  3  3  1  1  1  1  2\n",
      "1  2  2  2  3  3  0  1  1  1  2\n",
      "2  2  2  2  3  3  2  1  1  1  2\n",
      "3  2  2  2  3  3  2  2  0  1  2\n",
      "4  2  2  2  3  3  2  2  2  1  2\n",
      "5  2  2  2  3  3  2  2  3  1  2\n",
      "6  2  2  2  2  2  2  3  3  1  2\n",
      "7  2  2  2  2  2  2  3  2  2  2\n",
      "8  1  1  1  2  2  2  2  2  2  2\n",
      "9  1  1  1  1  1  1  1  1  1  1\n"
     ]
    }
   ],
   "source": [
    "print(pd.DataFrame(policy2.reshape(10,10).transpose()))"
   ]
  },
  {
   "cell_type": "code",
   "execution_count": 56,
   "metadata": {},
   "outputs": [
    {
     "name": "stdout",
     "output_type": "stream",
     "text": [
      "   0  1  2  3  4  5  6  7  8  9\n",
      "0  ↓  ↓  ↓  ←  ←  →  →  →  →  ↓\n",
      "1  ↓  ↓  ↓  ←  ←  ↑  →  →  →  ↓\n",
      "2  ↓  ↓  ↓  ←  ←  ↓  →  →  →  ↓\n",
      "3  ↓  ↓  ↓  ←  ←  ↓  ↓  ↑  →  ↓\n",
      "4  ↓  ↓  ↓  ←  ←  ↓  ↓  ↓  →  ↓\n",
      "5  ↓  ↓  ↓  ←  ←  ↓  ↓  ←  →  ↓\n",
      "6  ↓  ↓  ↓  ↓  ↓  ↓  ←  ←  →  ↓\n",
      "7  ↓  ↓  ↓  ↓  ↓  ↓  ←  ↓  ↓  ↓\n",
      "8  →  →  →  ↓  ↓  ↓  ↓  ↓  ↓  ↓\n",
      "9  →  →  →  →  →  →  →  →  →  →\n"
     ]
    }
   ],
   "source": [
    "draw_policy(policy2)"
   ]
  },
  {
   "cell_type": "code",
   "execution_count": 44,
   "metadata": {},
   "outputs": [],
   "source": [
    "R2max=np.amax(np.abs(R2))"
   ]
  },
  {
   "cell_type": "code",
   "execution_count": 45,
   "metadata": {},
   "outputs": [],
   "source": [
    "def construct_lp_matrices(P,policy,lmda,Rmax):\n",
    "    S=np.shape(P)[0]\n",
    "    c=np.concatenate([np.ones((S,)), -lmda*np.ones((S,)), np.zeros((S,))])\n",
    "    A=np.array([])\n",
    "    nA=4\n",
    "    \n",
    "    Pa1=np.zeros((S,S))\n",
    "    Pas=np.zeros((3,S,S))\n",
    "    \n",
    "    for s in range(S):\n",
    "        opt_a=policy[s]\n",
    "        Pa1[s,:]=P[s][opt_a]\n",
    "        other_actions=np.setdiff1d(range(nA), opt_a)\n",
    "        for i,a in enumerate(other_actions):\n",
    "            Pas[i,s,:]=P[s][a]\n",
    "            \n",
    "    I, Z=np.eye(S), np.zeros((S,S))\n",
    "    for i in range(nA-1):\n",
    "        Pa=Pas[i]\n",
    "        temp=np.hstack((I, Z, np.matmul(Pa - Pa1, np.linalg.inv(I - gamma*np.array(Pa1)))))\n",
    "        temp=np.vstack((temp, np.hstack((Z, Z, np.matmul(Pa - Pa1, np.linalg.inv(I - gamma*np.array(Pa1)))))))\n",
    "        if (A.shape[0]==0): A=temp\n",
    "        else: A=np.vstack((temp, A))\n",
    "            \n",
    "    A=np.vstack((A, np.hstack((Z, -I, I))))\n",
    "    A=np.vstack((A, np.hstack((Z, -I, -I))))\n",
    "    A=np.vstack((A, np.hstack((Z, Z, I))))\n",
    "    A=np.vstack((A, np.hstack((Z, Z, -I))))\n",
    "    b=np.concatenate([np.zeros((2*(nA-1)*S+2*S,)), Rmax*np.ones((2*S,))])\n",
    "    return [c,A,b]"
   ]
  },
  {
   "cell_type": "code",
   "execution_count": 149,
   "metadata": {},
   "outputs": [],
   "source": [
    "def construct_lp_matrices_modified(P,policy,lmda,Rmax,Rmin):\n",
    "    S=np.shape(P)[0]\n",
    "    c=np.concatenate([np.ones((S,)), -lmda*np.ones((S,)), np.zeros((S,))])\n",
    "    A=np.array([])\n",
    "    nA=4\n",
    "    \n",
    "    Pa1=np.zeros((S,S))\n",
    "    Pas=np.zeros((3,S,S))\n",
    "    \n",
    "    for s in range(S):\n",
    "        opt_a=policy[s]\n",
    "        Pa1[s,:]=P[s][opt_a]\n",
    "        other_actions=np.setdiff1d(range(nA), opt_a)\n",
    "        for i,a in enumerate(other_actions):\n",
    "            Pas[i,s,:]=P[s][a]\n",
    "            \n",
    "    I, Z=np.eye(S), np.zeros((S,S))\n",
    "    for i in range(nA-1):\n",
    "        Pa=Pas[i]\n",
    "        temp=np.hstack((I, Z, np.matmul(Pa - Pa1, np.linalg.inv(I - gamma*np.array(Pa1)))))\n",
    "        if (A.shape[0]==0): A=temp\n",
    "        else: A=np.vstack((temp, A))\n",
    "            \n",
    "    A=np.vstack((A, np.hstack((-I, Z, Z))))\n",
    "    A=np.vstack((A, np.hstack((Z, -I, I))))\n",
    "    A=np.vstack((A, np.hstack((Z, -I, -I))))\n",
    "    A=np.vstack((A, np.hstack((Z, Z, I))))\n",
    "    A=np.vstack((A, np.hstack((Z, Z, -I))))\n",
    "    b=np.concatenate([np.zeros(((nA-1)*S+3*S,)), Rmax*np.ones((S,)), -Rmin*np.ones((S,))])\n",
    "    return [c,A,b]"
   ]
  },
  {
   "cell_type": "code",
   "execution_count": 120,
   "metadata": {},
   "outputs": [],
   "source": [
    "def solve_irl_modified(P,policy,Rmax,Rmin,lmda=None):\n",
    "    if lmda is None: raise NameError(\"Please specify lambda\")\n",
    "    solvers.options['show_progress']=False\n",
    "    c,A,b=construct_lp_matrices_modified(P,policy,lmda,Rmax,Rmin)\n",
    "    solution=solvers.lp(-matrix(c.transpose()),matrix(A),matrix(b))\n",
    "    return np.array(solution['x'][-100:]).squeeze()"
   ]
  },
  {
   "cell_type": "code",
   "execution_count": 119,
   "metadata": {},
   "outputs": [],
   "source": [
    "def solve_irl(P,policy,Rmax,lmda=None):\n",
    "    if lmda is None: raise NameError(\"Please specify lambda\")\n",
    "    solvers.options['show_progress']=False\n",
    "    c,A,b=construct_lp_matrices(P,policy,lmda,Rmax)\n",
    "    solution=solvers.lp(-matrix(c.transpose()),matrix(A),matrix(b))\n",
    "    return np.array(solution['x'][-100:]).squeeze()"
   ]
  },
  {
   "cell_type": "code",
   "execution_count": 47,
   "metadata": {},
   "outputs": [],
   "source": [
    "def calc_accuracy_over_lmdas(P,target_policy,Rmax,lmdas):\n",
    "    accuracy=np.zeros_like(lmdas)\n",
    "    for i,lmda in enumerate(tqdm(lmdas)):\n",
    "        R_predicted=solve_irl(P,target_policy,Rmax,lmda)\n",
    "        V,predicted_policy=fast_value_iteration(P,R_predicted)\n",
    "        accuracy[i]=(predicted_policy==target_policy).sum()/100\n",
    "    return accuracy"
   ]
  },
  {
   "cell_type": "code",
   "execution_count": 57,
   "metadata": {},
   "outputs": [
    {
     "name": "stderr",
     "output_type": "stream",
     "text": [
      "100%|████████████████████████████████████████████████████████████████████████████████| 500/500 [00:19<00:00, 25.84it/s]\n"
     ]
    },
    {
     "data": {
      "text/plain": [
       "[<matplotlib.lines.Line2D at 0x22af21859e8>]"
      ]
     },
     "execution_count": 57,
     "metadata": {},
     "output_type": "execute_result"
    },
    {
     "data": {
      "image/png": "[encoded data removed]",
      "text/plain": [
       "<Figure size 432x288 with 1 Axes>"
      ]
     },
     "metadata": {
      "needs_background": "light"
     },
     "output_type": "display_data"
    }
   ],
   "source": [
    "lmdas=np.linspace(0,5,500)\n",
    "accuracy=calc_accuracy_over_lmdas(P1,policy2,R2max,lmdas)\n",
    "plt.plot(lmdas,accuracy)"
   ]
  },
  {
   "cell_type": "code",
   "execution_count": 61,
   "metadata": {},
   "outputs": [],
   "source": [
    "lmda_max_2=lmdas[np.argmax(accuracy)]"
   ]
  },
  {
   "cell_type": "code",
   "execution_count": 215,
   "metadata": {},
   "outputs": [
    {
     "data": {
      "image/png": "[encoded data removed]",
      "text/plain": [
       "<Figure size 432x288 with 2 Axes>"
      ]
     },
     "metadata": {
      "needs_background": "light"
     },
     "output_type": "display_data"
    }
   ],
   "source": [
    "draw_heatmap(R2)"
   ]
  },
  {
   "cell_type": "code",
   "execution_count": 216,
   "metadata": {},
   "outputs": [
    {
     "data": {
      "image/png": "[encoded data removed]",
      "text/plain": [
       "<Figure size 432x288 with 2 Axes>"
      ]
     },
     "metadata": {
      "needs_background": "light"
     },
     "output_type": "display_data"
    }
   ],
   "source": [
    "R_predicted=solve_irl(P1,policy2,R2max,lmda_max_2)\n",
    "draw_heatmap(R_predicted)"
   ]
  },
  {
   "cell_type": "code",
   "execution_count": null,
   "metadata": {},
   "outputs": [],
   "source": []
  },
  {
   "cell_type": "code",
   "execution_count": 97,
   "metadata": {},
   "outputs": [],
   "source": [
    "V_predicted,predicted_policy=fast_value_iteration(P1,R_predicted)"
   ]
  },
  {
   "cell_type": "code",
   "execution_count": 217,
   "metadata": {},
   "outputs": [
    {
     "data": {
      "image/png": "[encoded data removed]",
      "text/plain": [
       "<Figure size 432x288 with 2 Axes>"
      ]
     },
     "metadata": {
      "needs_background": "light"
     },
     "output_type": "display_data"
    }
   ],
   "source": [
    "draw_heatmap(V_predicted)"
   ]
  },
  {
   "cell_type": "code",
   "execution_count": 218,
   "metadata": {},
   "outputs": [
    {
     "data": {
      "image/png": "[encoded data removed]",
      "text/plain": [
       "<Figure size 432x288 with 2 Axes>"
      ]
     },
     "metadata": {
      "needs_background": "light"
     },
     "output_type": "display_data"
    }
   ],
   "source": [
    "draw_heatmap(V2)"
   ]
  },
  {
   "cell_type": "code",
   "execution_count": 99,
   "metadata": {},
   "outputs": [
    {
     "data": {
      "text/plain": [
       "95"
      ]
     },
     "execution_count": 99,
     "metadata": {},
     "output_type": "execute_result"
    }
   ],
   "source": [
    "(policy2==predicted_policy).sum()"
   ]
  },
  {
   "cell_type": "code",
   "execution_count": 227,
   "metadata": {},
   "outputs": [
    {
     "data": {
      "image/png": "[encoded data removed]",
      "text/plain": [
       "<Figure size 432x288 with 1 Axes>"
      ]
     },
     "metadata": {
      "needs_background": "light"
     },
     "output_type": "display_data"
    }
   ],
   "source": [
    "draw_policy_grid(policy2)"
   ]
  },
  {
   "cell_type": "code",
   "execution_count": 228,
   "metadata": {},
   "outputs": [
    {
     "data": {
      "image/png": "[encoded data removed]",
      "text/plain": [
       "<Figure size 432x288 with 1 Axes>"
      ]
     },
     "metadata": {
      "needs_background": "light"
     },
     "output_type": "display_data"
    }
   ],
   "source": [
    "draw_policy_grid(predicted_policy)"
   ]
  },
  {
   "cell_type": "code",
   "execution_count": null,
   "metadata": {},
   "outputs": [],
   "source": []
  },
  {
   "cell_type": "code",
   "execution_count": 109,
   "metadata": {},
   "outputs": [],
   "source": [
    "V_predicted_modified,predicted_policy_modified=fast_value_iteration(P1,R_predicted,epsilon=0.00001)"
   ]
  },
  {
   "cell_type": "code",
   "execution_count": 219,
   "metadata": {},
   "outputs": [
    {
     "data": {
      "image/png": "[encoded data removed]",
      "text/plain": [
       "<Figure size 432x288 with 2 Axes>"
      ]
     },
     "metadata": {
      "needs_background": "light"
     },
     "output_type": "display_data"
    }
   ],
   "source": [
    "draw_heatmap(V_predicted_modified)"
   ]
  },
  {
   "cell_type": "code",
   "execution_count": 110,
   "metadata": {},
   "outputs": [
    {
     "data": {
      "text/plain": [
       "100"
      ]
     },
     "execution_count": 110,
     "metadata": {},
     "output_type": "execute_result"
    }
   ],
   "source": [
    "(policy2==predicted_policy_modified).sum()"
   ]
  },
  {
   "cell_type": "code",
   "execution_count": 111,
   "metadata": {},
   "outputs": [
    {
     "name": "stdout",
     "output_type": "stream",
     "text": [
      "   0  1  2  3  4  5  6  7  8  9\n",
      "0  ↓  ↓  ↓  ←  ←  →  →  →  →  ↓\n",
      "1  ↓  ↓  ↓  ←  ←  ↑  →  →  →  ↓\n",
      "2  ↓  ↓  ↓  ←  ←  ↓  →  →  →  ↓\n",
      "3  ↓  ↓  ↓  ←  ←  ↓  ↓  ↑  →  ↓\n",
      "4  ↓  ↓  ↓  ←  ←  ↓  ↓  ↓  →  ↓\n",
      "5  ↓  ↓  ↓  ←  ←  ↓  ↓  ←  →  ↓\n",
      "6  ↓  ↓  ↓  ↓  ↓  ↓  ←  ←  →  ↓\n",
      "7  ↓  ↓  ↓  ↓  ↓  ↓  ←  ↓  ↓  ↓\n",
      "8  →  →  →  ↓  ↓  ↓  ↓  ↓  ↓  ↓\n",
      "9  →  →  →  →  →  →  →  →  →  →\n"
     ]
    }
   ],
   "source": [
    "draw_policy(policy2)"
   ]
  },
  {
   "cell_type": "code",
   "execution_count": 112,
   "metadata": {},
   "outputs": [
    {
     "name": "stdout",
     "output_type": "stream",
     "text": [
      "   0  1  2  3  4  5  6  7  8  9\n",
      "0  ↓  ↓  ↓  ←  ←  →  →  →  →  ↓\n",
      "1  ↓  ↓  ↓  ←  ←  ↑  →  →  →  ↓\n",
      "2  ↓  ↓  ↓  ←  ←  ↓  →  →  →  ↓\n",
      "3  ↓  ↓  ↓  ←  ←  ↓  ↓  ↑  →  ↓\n",
      "4  ↓  ↓  ↓  ←  ←  ↓  ↓  ↓  →  ↓\n",
      "5  ↓  ↓  ↓  ←  ←  ↓  ↓  ←  →  ↓\n",
      "6  ↓  ↓  ↓  ↓  ↓  ↓  ←  ←  →  ↓\n",
      "7  ↓  ↓  ↓  ↓  ↓  ↓  ←  ↓  ↓  ↓\n",
      "8  →  →  →  ↓  ↓  ↓  ↓  ↓  ↓  ↓\n",
      "9  →  →  →  →  →  →  →  →  →  →\n"
     ]
    }
   ],
   "source": [
    "draw_policy(predicted_policy_modified)"
   ]
  },
  {
   "cell_type": "code",
   "execution_count": null,
   "metadata": {},
   "outputs": [],
   "source": []
  },
  {
   "cell_type": "code",
   "execution_count": 121,
   "metadata": {},
   "outputs": [],
   "source": [
    "R2mx, R2mn=np.amax(R2), np.amin(R2)"
   ]
  },
  {
   "cell_type": "code",
   "execution_count": 150,
   "metadata": {},
   "outputs": [],
   "source": [
    "R_predicted_mod=solve_irl_modified(P1,policy2,R2mx,R2mn,lmda_max_2)"
   ]
  },
  {
   "cell_type": "code",
   "execution_count": 220,
   "metadata": {},
   "outputs": [
    {
     "data": {
      "image/png": "[encoded data removed]",
      "text/plain": [
       "<Figure size 432x288 with 2 Axes>"
      ]
     },
     "metadata": {
      "needs_background": "light"
     },
     "output_type": "display_data"
    }
   ],
   "source": [
    "draw_heatmap(R_predicted_mod)"
   ]
  },
  {
   "cell_type": "code",
   "execution_count": 221,
   "metadata": {},
   "outputs": [],
   "source": [
    "V_predicted_mod,predicted_policy_mod=fast_value_iteration(P1,R_predicted_mod,epsilon=0.0001)"
   ]
  },
  {
   "cell_type": "code",
   "execution_count": 222,
   "metadata": {},
   "outputs": [
    {
     "data": {
      "image/png": "[encoded data removed]",
      "text/plain": [
       "<Figure size 432x288 with 2 Axes>"
      ]
     },
     "metadata": {
      "needs_background": "light"
     },
     "output_type": "display_data"
    }
   ],
   "source": [
    "draw_heatmap(V_predicted_mod)"
   ]
  },
  {
   "cell_type": "code",
   "execution_count": 223,
   "metadata": {},
   "outputs": [
    {
     "data": {
      "image/png": "[encoded data removed]",
      "text/plain": [
       "<Figure size 432x288 with 2 Axes>"
      ]
     },
     "metadata": {
      "needs_background": "light"
     },
     "output_type": "display_data"
    }
   ],
   "source": [
    "draw_heatmap(V2)"
   ]
  },
  {
   "cell_type": "code",
   "execution_count": 224,
   "metadata": {},
   "outputs": [
    {
     "data": {
      "text/plain": [
       "96"
      ]
     },
     "execution_count": 224,
     "metadata": {},
     "output_type": "execute_result"
    }
   ],
   "source": [
    "(policy2==predicted_policy_mod).sum()"
   ]
  },
  {
   "cell_type": "code",
   "execution_count": 225,
   "metadata": {},
   "outputs": [
    {
     "data": {
      "image/png": "[encoded data removed]",
      "text/plain": [
       "<Figure size 432x288 with 1 Axes>"
      ]
     },
     "metadata": {
      "needs_background": "light"
     },
     "output_type": "display_data"
    }
   ],
   "source": [
    "draw_policy_grid(policy2)"
   ]
  },
  {
   "cell_type": "code",
   "execution_count": 226,
   "metadata": {},
   "outputs": [
    {
     "data": {
      "image/png": "[encoded data removed]",
      "text/plain": [
       "<Figure size 432x288 with 1 Axes>"
      ]
     },
     "metadata": {
      "needs_background": "light"
     },
     "output_type": "display_data"
    }
   ],
   "source": [
    "draw_policy_grid(predicted_policy_mod)"
   ]
  },
  {
   "cell_type": "code",
   "execution_count": null,
   "metadata": {},
   "outputs": [],
   "source": []
  }
 ],
 "metadata": {
  "kernelspec": {
   "display_name": "Python 3",
   "language": "python",
   "name": "python3"
  },
  "language_info": {
   "codemirror_mode": {
    "name": "ipython",
    "version": 3
   },
   "file_extension": ".py",
   "mimetype": "text/x-python",
   "name": "python",
   "nbconvert_exporter": "python",
   "pygments_lexer": "ipython3",
   "version": "3.6.10"
  }
 },
 "nbformat": 4,
 "nbformat_minor": 4
}
