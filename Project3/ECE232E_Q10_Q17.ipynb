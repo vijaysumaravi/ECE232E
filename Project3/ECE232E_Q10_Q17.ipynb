{
 "cells": [
  {
   "cell_type": "code",
   "execution_count": 1,
   "metadata": {},
   "outputs": [],
   "source": [
    "import numpy as np\n",
    "import matplotlib.pyplot as plt"
   ]
  },
  {
   "cell_type": "code",
   "execution_count": 2,
   "metadata": {},
   "outputs": [],
   "source": [
    "import pandas as pd"
   ]
  },
  {
   "cell_type": "code",
   "execution_count": 3,
   "metadata": {},
   "outputs": [],
   "source": [
    "from cvxopt import matrix, solvers"
   ]
  },
  {
   "cell_type": "code",
   "execution_count": 4,
   "metadata": {},
   "outputs": [],
   "source": [
    "from tqdm import tqdm"
   ]
  },
  {
   "cell_type": "code",
   "execution_count": 5,
   "metadata": {},
   "outputs": [],
   "source": [
    "def is_valid_state(s):\n",
    "    return (s>=0) and (s<100)"
   ]
  },
  {
   "cell_type": "code",
   "execution_count": 6,
   "metadata": {},
   "outputs": [],
   "source": [
    "def is_valid_action(a):\n",
    "    return (a>=0) and (a<4)"
   ]
  },
  {
   "cell_type": "code",
   "execution_count": 7,
   "metadata": {},
   "outputs": [],
   "source": [
    "def get_row(s):\n",
    "    return s%10"
   ]
  },
  {
   "cell_type": "code",
   "execution_count": 8,
   "metadata": {},
   "outputs": [],
   "source": [
    "def get_column(s):\n",
    "    return s//10"
   ]
  },
  {
   "cell_type": "code",
   "execution_count": 9,
   "metadata": {},
   "outputs": [],
   "source": [
    "def is_internal_state(s):\n",
    "    r=is_valid_state(s-1) and is_valid_state(s+1) and is_valid_state(s-10) and is_valid_state(s+10)\n",
    "    return r and ((get_row(s-10)==get_row(s)) and (get_row(s+10)==get_row(s)) and (get_column(s-1)==get_column(s)) and (get_column(s+1)==get_column(s)))"
   ]
  },
  {
   "cell_type": "code",
   "execution_count": 10,
   "metadata": {},
   "outputs": [],
   "source": [
    "def state_after_action(s, a):\n",
    "    if(not(is_valid_state(s))): raise NameError(\"Invalid state\")\n",
    "    if(not(is_valid_action(a))): raise NameError(\"Invalid action\")\n",
    "    s1=s\n",
    "    if(a==0):\n",
    "        if(is_valid_state(s-1) and (get_column(s-1)==get_column(s))): s1=s-1\n",
    "    elif(a==1):\n",
    "        if(is_valid_state(s+10) and (get_row(s+10)==get_row(s))): s1=s+10\n",
    "    elif(a==2):\n",
    "        if(is_valid_state(s+1) and (get_column(s+1)==get_column(s))): s1=s+1\n",
    "    elif(a==3):\n",
    "        if(is_valid_state(s-10) and (get_row(s-10)==get_row(s))): s1=s-10\n",
    "    return s1"
   ]
  },
  {
   "cell_type": "code",
   "execution_count": 11,
   "metadata": {},
   "outputs": [],
   "source": [
    "def evaluate_P(w=0.1):\n",
    "    P=np.zeros((100,4,100))\n",
    "    for s in range(100):\n",
    "        for a in range(4):\n",
    "            P[s][a][state_after_action(s,a)]+=1-w\n",
    "            for a1 in range(4):\n",
    "                P[s][a][state_after_action(s,a1)]+=w/4\n",
    "    return P"
   ]
  },
  {
   "cell_type": "code",
   "execution_count": 12,
   "metadata": {},
   "outputs": [],
   "source": [
    "P1=evaluate_P(0.1)"
   ]
  },
  {
   "cell_type": "code",
   "execution_count": 13,
   "metadata": {},
   "outputs": [],
   "source": [
    "w=0.1\n",
    "R1=np.zeros((100,))"
   ]
  },
  {
   "cell_type": "code",
   "execution_count": 14,
   "metadata": {},
   "outputs": [],
   "source": [
    "for i in [14,24,15,25,52,62,53,63,28,38,29,39]:\n",
    "    R1[i]=-10\n",
    "R1[99]=1"
   ]
  },
  {
   "cell_type": "code",
   "execution_count": 15,
   "metadata": {},
   "outputs": [],
   "source": [
    "V1=np.zeros((100,1))"
   ]
  },
  {
   "cell_type": "code",
   "execution_count": 16,
   "metadata": {},
   "outputs": [],
   "source": [
    "gamma=0.8\n",
    "epsilon=0.01"
   ]
  },
  {
   "cell_type": "code",
   "execution_count": 17,
   "metadata": {},
   "outputs": [],
   "source": [
    "def fast_value_iteration(P,R,epsilon=0.01,gamma=0.8):\n",
    "    V=np.zeros((100,))\n",
    "    delta=np.inf\n",
    "    while delta>epsilon:\n",
    "        v_next=np.amax(np.matmul(P,R+gamma*V), axis=1)\n",
    "        delta=np.amax(np.abs(v_next-V))\n",
    "        V=v_next\n",
    "    policy=np.argmax(np.matmul(P,R+gamma*V), axis=1)\n",
    "    return [V, policy]"
   ]
  },
  {
   "cell_type": "code",
   "execution_count": 18,
   "metadata": {},
   "outputs": [],
   "source": [
    "def draw_heatmap(A):\n",
    "    fig, ax = plt.subplots()\n",
    "    im=ax.imshow(A.reshape(10,10).transpose(), cmap='coolwarm', interpolation='nearest')\n",
    "    ax.grid(color='k', linewidth=0.1)\n",
    "    ax.set(xticks=np.arange(-0.5, 10, 1), yticks=np.arange(-0.5, 10, 1))\n",
    "    ax.set_xticklabels(np.arange(0, 10, 1))\n",
    "    ax.set_yticklabels(np.arange(0, 10, 1))\n",
    "    ax.xaxis.tick_top()\n",
    "    fig.colorbar(im)\n",
    "    plt.show()\n",
    "    return(fig)"
   ]
  },
  {
   "cell_type": "code",
   "execution_count": 19,
   "metadata": {},
   "outputs": [],
   "source": [
    "def draw_heatmap_mod(A):\n",
    "    fig, ax = plt.subplots()\n",
    "    im=ax.imshow(A.reshape(10,10).transpose(), cmap='coolwarm', interpolation='nearest',vmin=-10,vmax=10)\n",
    "    ax.grid(color='k', linewidth=0.1)\n",
    "    ax.set(xticks=np.arange(-0.5, 10, 1), yticks=np.arange(-0.5, 10, 1))\n",
    "    ax.set_xticklabels(np.arange(0, 10, 1))\n",
    "    ax.set_yticklabels(np.arange(0, 10, 1))\n",
    "    ax.xaxis.tick_top()\n",
    "    fig.colorbar(im)\n",
    "    plt.show()\n",
    "    return(fig)"
   ]
  },
  {
   "cell_type": "code",
   "execution_count": 20,
   "metadata": {},
   "outputs": [],
   "source": [
    "def draw_policy_grid(policy):\n",
    "    policy_arrows=np.chararray((100,), unicode=True)\n",
    "    for s in range(100):\n",
    "        a=policy[s]\n",
    "        if(a==0):\n",
    "            policy_arrows[s]='↑'\n",
    "        elif(a==1):\n",
    "            policy_arrows[s]='→'\n",
    "        elif(a==2):\n",
    "            policy_arrows[s]='↓'\n",
    "        elif(a==3):\n",
    "            policy_arrows[s]='←'\n",
    "    pa=policy_arrows.reshape(10,10)\n",
    "    board = np.ones((10,10,3))\n",
    "    fig, ax = plt.subplots()\n",
    "    ax.imshow(board, interpolation='nearest', aspect='auto')\n",
    "    ax.grid(color='k', linewidth=1)\n",
    "\n",
    "    for i in range(10):\n",
    "        for j in range(10):\n",
    "            ax.text(i, j, pa[i][j], size=19, ha='center', va='center')\n",
    "\n",
    "    ax.set(xticks=np.arange(-0.5, 10, 1), yticks=np.arange(-0.5, 10, 1))\n",
    "    ax.set_xticklabels(np.arange(0, 10, 1))\n",
    "    ax.set_yticklabels(np.arange(0, 10, 1))\n",
    "    ax.xaxis.tick_top()\n",
    "    ax.axis('image')\n",
    "\n",
    "    return(fig)"
   ]
  },
  {
   "cell_type": "code",
   "execution_count": 21,
   "metadata": {},
   "outputs": [],
   "source": [
    "V1, policy1=fast_value_iteration(P1,R1)"
   ]
  },
  {
   "cell_type": "code",
   "execution_count": 22,
   "metadata": {},
   "outputs": [
    {
     "name": "stdout",
     "output_type": "stream",
     "text": [
      "          0         1         2         3         4         5         6  \\\n",
      "0  0.036020  0.054782  0.079715  0.111853  0.153193  0.206505  0.281802   \n",
      "1  0.022284  0.036480  0.055426  0.080068  0.101954 -0.112378  0.090693   \n",
      "2  0.011828  0.016519  0.031300  0.050363 -0.190855 -0.604105 -0.256151   \n",
      "3 -0.006556 -0.262089 -0.230269  0.054852  0.082368 -0.252657 -0.102899   \n",
      "4 -0.282772 -0.725952 -0.469543  0.086152  0.469074  0.360558  0.545124   \n",
      "5 -0.256673 -0.625633 -0.365716  0.215260  0.629015  0.813928  1.048768   \n",
      "6  0.031503 -0.124081  0.193233  0.617937  0.818959  1.054245  1.353385   \n",
      "7  0.061371  0.088864  0.136727  0.535851  1.042959  1.353127  1.734609   \n",
      "8  0.035398 -0.204424 -0.423510  0.297390  1.076440  1.727618  2.219568   \n",
      "9  0.014492 -0.275028 -0.981741  0.277435  1.408763  2.176332  2.806835   \n",
      "\n",
      "          7         8         9  \n",
      "0  0.374595  0.485139  0.609562  \n",
      "1  0.472171  0.625315  0.787103  \n",
      "2  0.355612  0.807306  1.018438  \n",
      "3  0.543236  1.046350  1.315082  \n",
      "4  1.043136  1.351375  1.695223  \n",
      "5  1.353137  1.733326  2.182391  \n",
      "6  1.734612  2.219687  2.806963  \n",
      "7  2.220362  2.839418  3.607787  \n",
      "8  2.839415  3.628974  4.634708  \n",
      "9  3.607784  4.634708  4.701701  \n"
     ]
    }
   ],
   "source": [
    "print(pd.DataFrame(V1.reshape(10,10).transpose()))"
   ]
  },
  {
   "cell_type": "code",
   "execution_count": 23,
   "metadata": {},
   "outputs": [
    {
     "data": {
      "image/png": "[encoded data removed]",
      "text/plain": [
       "<Figure size 432x288 with 2 Axes>"
      ]
     },
     "metadata": {
      "needs_background": "light"
     },
     "output_type": "display_data"
    }
   ],
   "source": [
    "plt.imshow(V1.reshape(10,10).transpose(), cmap='coolwarm', interpolation='nearest')\n",
    "plt.colorbar()\n",
    "plt.show()"
   ]
  },
  {
   "cell_type": "code",
   "execution_count": 24,
   "metadata": {},
   "outputs": [
    {
     "data": {
      "image/png": "[encoded data removed]",
      "text/plain": [
       "<Figure size 432x288 with 1 Axes>"
      ]
     },
     "execution_count": 24,
     "metadata": {},
     "output_type": "execute_result"
    },
    {
     "data": {
      "image/png": "[encoded data removed]",
      "text/plain": [
       "<Figure size 432x288 with 1 Axes>"
      ]
     },
     "metadata": {
      "needs_background": "light"
     },
     "output_type": "display_data"
    }
   ],
   "source": [
    "draw_policy_grid(policy1)"
   ]
  },
  {
   "cell_type": "code",
   "execution_count": 25,
   "metadata": {},
   "outputs": [],
   "source": [
    "def construct_lp_matrices(P,policy,lmda,Rmax):\n",
    "    S=np.shape(P)[0]\n",
    "    c=np.concatenate([np.ones((S,)), -lmda*np.ones((S,)), np.zeros((S,))])\n",
    "    A=np.array([])\n",
    "    nA=4\n",
    "    \n",
    "    Pa1=np.zeros((S,S))\n",
    "    Pas=np.zeros((3,S,S))\n",
    "    \n",
    "    for s in range(S):\n",
    "        opt_a=policy[s]\n",
    "        Pa1[s,:]=P[s][opt_a]\n",
    "        other_actions=np.setdiff1d(range(nA), opt_a)\n",
    "        for i,a in enumerate(other_actions):\n",
    "            Pas[i,s,:]=P[s][a]\n",
    "            \n",
    "    I, Z=np.eye(S), np.zeros((S,S))\n",
    "    for i in range(nA-1):\n",
    "        Pa=Pas[i]\n",
    "        temp=np.hstack((I, Z, np.matmul(Pa - Pa1, np.linalg.inv(I - gamma*np.array(Pa1)))))\n",
    "        temp=np.vstack((temp, np.hstack((Z, Z, np.matmul(Pa - Pa1, np.linalg.inv(I - gamma*np.array(Pa1)))))))\n",
    "        if (A.shape[0]==0): A=temp\n",
    "        else: A=np.vstack((temp, A))\n",
    "            \n",
    "    A=np.vstack((A, np.hstack((Z, -I, I))))\n",
    "    A=np.vstack((A, np.hstack((Z, -I, -I))))\n",
    "    A=np.vstack((A, np.hstack((Z, Z, I))))\n",
    "    A=np.vstack((A, np.hstack((Z, Z, -I))))\n",
    "    b=np.concatenate([np.zeros((2*(nA-1)*S+2*S,)), Rmax*np.ones((2*S,))])\n",
    "    return [c,A,b]"
   ]
  },
  {
   "cell_type": "code",
   "execution_count": 26,
   "metadata": {},
   "outputs": [],
   "source": [
    "def solve_irl(P,policy,Rmax,lmda=None):\n",
    "    if lmda is None: raise NameError(\"Please specify lambda\")\n",
    "    solvers.options['show_progress']=False\n",
    "    c,A,b=construct_lp_matrices(P,policy,lmda,Rmax)\n",
    "    solution=solvers.lp(-matrix(c.transpose()),matrix(A),matrix(b))\n",
    "    return np.array(solution['x'][-100:]).squeeze()"
   ]
  },
  {
   "cell_type": "code",
   "execution_count": 27,
   "metadata": {},
   "outputs": [],
   "source": [
    "def calc_accuracy_over_lmdas(P,target_policy,Rmax,lmdas):\n",
    "    accuracy=np.zeros_like(lmdas)\n",
    "    for i,lmda in enumerate(tqdm(lmdas)):\n",
    "        R_predicted=solve_irl(P,target_policy,Rmax,lmda)\n",
    "        V,predicted_policy=fast_value_iteration(P,R_predicted)\n",
    "        accuracy[i]=(predicted_policy==target_policy).sum()/100\n",
    "    return accuracy"
   ]
  },
  {
   "cell_type": "code",
   "execution_count": 28,
   "metadata": {},
   "outputs": [
    {
     "name": "stderr",
     "output_type": "stream",
     "text": [
      "100%|████████████████████████████████████████████████████████████████████████████████| 500/500 [00:31<00:00, 15.83it/s]\n"
     ]
    },
    {
     "data": {
      "image/png": "[encoded data removed]",
      "text/plain": [
       "<Figure size 432x288 with 1 Axes>"
      ]
     },
     "metadata": {
      "needs_background": "light"
     },
     "output_type": "display_data"
    }
   ],
   "source": [
    "#Q11\n",
    "R1max=np.amax(np.abs(R1))\n",
    "lmdas=np.linspace(0,5,500)\n",
    "accuracy_1=calc_accuracy_over_lmdas(P1,policy1,R1max,lmdas)\n",
    "plt.plot(lmdas,accuracy_1)\n",
    "plt.ylabel('Accuracy')\n",
    "plt.xlabel('$\\lambda$')\n",
    "plt.savefig('ECE232E_plots/Project3_plots/q11.png', bbox_inches='tight')"
   ]
  },
  {
   "cell_type": "code",
   "execution_count": 29,
   "metadata": {},
   "outputs": [
    {
     "name": "stdout",
     "output_type": "stream",
     "text": [
      "0.751503006012024\n"
     ]
    }
   ],
   "source": [
    "#Q12\n",
    "lmda_max_1=lmdas[np.argmax(accuracy_1)]\n",
    "print(lmda_max_1)"
   ]
  },
  {
   "cell_type": "code",
   "execution_count": 30,
   "metadata": {},
   "outputs": [
    {
     "data": {
      "image/png": "[encoded data removed]",
      "text/plain": [
       "<Figure size 432x288 with 1 Axes>"
      ]
     },
     "metadata": {
      "needs_background": "light"
     },
     "output_type": "display_data"
    }
   ],
   "source": [
    "plt.plot(lmdas,accuracy_1)\n",
    "plt.ylabel('Accuracy')\n",
    "plt.xlabel('$\\lambda$')\n",
    "plt.vlines(0.7515,0.4,0.98,colors='red',linestyles='dashed')\n",
    "plt.savefig('ECE232E_plots/Project3_plots/q12.png', bbox_inches='tight')"
   ]
  },
  {
   "cell_type": "code",
   "execution_count": 31,
   "metadata": {},
   "outputs": [
    {
     "data": {
      "text/plain": [
       "0.95"
      ]
     },
     "execution_count": 31,
     "metadata": {},
     "output_type": "execute_result"
    }
   ],
   "source": [
    "max(accuracy_1)"
   ]
  },
  {
   "cell_type": "code",
   "execution_count": 32,
   "metadata": {},
   "outputs": [
    {
     "data": {
      "image/png": "[encoded data removed]",
      "text/plain": [
       "<Figure size 432x288 with 2 Axes>"
      ]
     },
     "metadata": {
      "needs_background": "light"
     },
     "output_type": "display_data"
    }
   ],
   "source": [
    "#Q13\n",
    "fig=draw_heatmap_mod(R1)\n",
    "fig.savefig('ECE232E_plots/Project3_plots/q13_a.png', bbox_inches='tight')"
   ]
  },
  {
   "cell_type": "code",
   "execution_count": 33,
   "metadata": {},
   "outputs": [
    {
     "data": {
      "image/png": "[encoded data removed]",
      "text/plain": [
       "<Figure size 432x288 with 2 Axes>"
      ]
     },
     "metadata": {
      "needs_background": "light"
     },
     "output_type": "display_data"
    }
   ],
   "source": [
    "R_predicted_1=solve_irl(P1,policy1,R1max,lmda_max_1)\n",
    "fig1=draw_heatmap_mod(R_predicted_1)\n",
    "fig1.savefig('ECE232E_plots/Project3_plots/q13_b.png', bbox_inches='tight')"
   ]
  },
  {
   "cell_type": "code",
   "execution_count": 34,
   "metadata": {},
   "outputs": [
    {
     "data": {
      "image/png": "[encoded data removed]",
      "text/plain": [
       "<Figure size 432x288 with 2 Axes>"
      ]
     },
     "metadata": {
      "needs_background": "light"
     },
     "output_type": "display_data"
    }
   ],
   "source": [
    "#Q14\n",
    "V_predicted_1,predicted_policy_1=fast_value_iteration(P1,R_predicted_1)\n",
    "fig=draw_heatmap(V_predicted_1)\n",
    "fig.savefig('ECE232E_plots/Project3_plots/q14.png', bbox_inches='tight')"
   ]
  },
  {
   "cell_type": "code",
   "execution_count": 35,
   "metadata": {},
   "outputs": [
    {
     "data": {
      "image/png": "[encoded data removed]",
      "text/plain": [
       "<Figure size 432x288 with 2 Axes>"
      ]
     },
     "metadata": {
      "needs_background": "light"
     },
     "output_type": "display_data"
    }
   ],
   "source": [
    "#Q15\n",
    "fig=draw_heatmap(V1)\n",
    "fig.savefig('ECE232E_plots/Project3_plots/q15.png', bbox_inches='tight')"
   ]
  },
  {
   "cell_type": "code",
   "execution_count": 36,
   "metadata": {},
   "outputs": [
    {
     "data": {
      "text/plain": [
       "95"
      ]
     },
     "execution_count": 36,
     "metadata": {},
     "output_type": "execute_result"
    }
   ],
   "source": [
    "(policy1==predicted_policy_1).sum()"
   ]
  },
  {
   "cell_type": "code",
   "execution_count": 37,
   "metadata": {},
   "outputs": [
    {
     "data": {
      "image/png": "[encoded data removed]",
      "text/plain": [
       "<Figure size 432x288 with 1 Axes>"
      ]
     },
     "metadata": {
      "needs_background": "light"
     },
     "output_type": "display_data"
    }
   ],
   "source": [
    "#Q16\n",
    "fig=draw_policy_grid(policy1)\n",
    "fig.savefig('ECE232E_plots/Project3_plots/q16.png', bbox_inches='tight')"
   ]
  },
  {
   "cell_type": "code",
   "execution_count": 38,
   "metadata": {},
   "outputs": [
    {
     "data": {
      "image/png": "[encoded data removed]",
      "text/plain": [
       "<Figure size 432x288 with 1 Axes>"
      ]
     },
     "metadata": {
      "needs_background": "light"
     },
     "output_type": "display_data"
    }
   ],
   "source": [
    "#Q17\n",
    "fig=draw_policy_grid(predicted_policy_1)\n",
    "fig.savefig('ECE232E_plots/Project3_plots/q17.png', bbox_inches='tight')"
   ]
  },
  {
   "cell_type": "code",
   "execution_count": 39,
   "metadata": {},
   "outputs": [
    {
     "data": {
      "image/png": "[encoded data removed]",
      "text/plain": [
       "<Figure size 432x288 with 1 Axes>"
      ]
     },
     "metadata": {
      "needs_background": "light"
     },
     "output_type": "display_data"
    }
   ],
   "source": [
    "policy_arrows=np.chararray((100,), unicode=True)\n",
    "for s in range(100):\n",
    "    a=predicted_policy_1[s]\n",
    "    if(a==0):\n",
    "        policy_arrows[s]='↑'\n",
    "    elif(a==1):\n",
    "        policy_arrows[s]='→'\n",
    "    elif(a==2):\n",
    "        policy_arrows[s]='↓'\n",
    "    elif(a==3):\n",
    "        policy_arrows[s]='←'\n",
    "pa=policy_arrows.reshape(10,10)\n",
    "board = np.ones((10,10,3))\n",
    "fig, ax = plt.subplots()\n",
    "ax.imshow(board, interpolation='nearest', aspect='auto')\n",
    "ax.grid(color='k', linewidth=1)\n",
    "\n",
    "for i in range(10):\n",
    "    for j in range(10):\n",
    "        ax.text(i, j, pa[i][j], size=19, ha='center', va='center')\n",
    "ax.text(1, 6, pa[1][6], size=19, ha='center', va='center',color='orange')\n",
    "ax.text(1, 9, pa[1][9], size=19, ha='center', va='center',color='red')\n",
    "ax.text(2, 6, pa[2][6], size=19, ha='center', va='center',color='orange')\n",
    "ax.text(4, 0, pa[4][0], size=19, ha='center', va='center',color='red')\n",
    "ax.text(5, 0, pa[5][0], size=19, ha='center', va='center',color='blue')\n",
    "\n",
    "ax.set(xticks=np.arange(-0.5, 10, 1), yticks=np.arange(-0.5, 10, 1))\n",
    "ax.set_xticklabels(np.arange(0, 10, 1))\n",
    "ax.set_yticklabels(np.arange(0, 10, 1))\n",
    "ax.xaxis.tick_top()\n",
    "ax.axis('image')\n",
    "fig.savefig('ECE232E_plots/Project3_plots/q17_color.png', bbox_inches='tight')"
   ]
  },
  {
   "cell_type": "code",
   "execution_count": 40,
   "metadata": {},
   "outputs": [
    {
     "name": "stdout",
     "output_type": "stream",
     "text": [
      "          0          1          2          3          4          5          6  \\\n",
      "0  1.933399   2.476453   4.109942   4.218647   4.244043   4.262587   5.327321   \n",
      "1  1.925036   2.457573   3.162650   4.091058   4.179402   4.089253   5.320193   \n",
      "2  1.507871   1.895224   2.417939   3.146569   2.429456   3.169035   7.921626   \n",
      "3  1.180871   1.179962   1.830578  10.185949  13.979791  10.197487  13.978895   \n",
      "4  0.927892   0.926242  10.162452  14.256523  18.706885  22.595369  22.646752   \n",
      "5  4.764215   6.074277  13.393071  18.695145  23.332122  29.469035  29.918636   \n",
      "6  6.375152   8.145592  10.562084  22.934870  29.339152  30.134409  37.996377   \n",
      "7  8.209128  10.536985  13.670020  17.974992  23.424496  29.930550  38.315911   \n",
      "8  6.398790   8.121710  10.393178  17.598597  23.044270  29.758089  37.993166   \n",
      "9  5.033457   4.061999   4.061998  17.324386  23.036519  29.758089  37.993166   \n",
      "\n",
      "           7          8          9  \n",
      "0   6.880641   8.792935   8.792933  \n",
      "1   8.682709  11.231774  11.180088  \n",
      "2  10.928123  14.462984  14.275541  \n",
      "3  14.194306  17.903129  18.223076  \n",
      "4  23.094525  23.255974  23.502074  \n",
      "5  37.288954  30.020651  30.020651  \n",
      "6  38.327856  47.476419  38.327856  \n",
      "7  47.839209  48.510081  48.921941  \n",
      "8  48.494845  49.384533  49.614394  \n",
      "9  48.486303  49.601255  49.883627  \n"
     ]
    }
   ],
   "source": [
    "print(pd.DataFrame(V_predicted_1.reshape(10,10).transpose()))"
   ]
  }
 ],
 "metadata": {
  "kernelspec": {
   "display_name": "Python 3",
   "language": "python",
   "name": "python3"
  },
  "language_info": {
   "codemirror_mode": {
    "name": "ipython",
    "version": 3
   },
   "file_extension": ".py",
   "mimetype": "text/x-python",
   "name": "python",
   "nbconvert_exporter": "python",
   "pygments_lexer": "ipython3",
   "version": "3.7.4"
  }
 },
 "nbformat": 4,
 "nbformat_minor": 4
}
