{
 "cells": [
  {
   "cell_type": "markdown",
   "metadata": {},
   "source": [
    "# Q6-10 and Define Your Own Task"
   ]
  },
  {
   "cell_type": "markdown",
   "metadata": {},
   "source": [
    "## Q6"
   ]
  },
  {
   "cell_type": "code",
   "execution_count": 1,
   "metadata": {},
   "outputs": [],
   "source": [
    "import igraph as ig\n",
    "import json\n",
    "from tqdm.notebook import trange, tqdm\n",
    "import numpy as np\n",
    "import pandas as pd"
   ]
  },
  {
   "cell_type": "code",
   "execution_count": 2,
   "metadata": {},
   "outputs": [],
   "source": [
    "g_data = pd.read_csv('data/los_angeles-censustracts-2019-4-All-MonthlyAggregate.csv', usecols=['sourceid', 'dstid', 'mean_travel_time', 'month'])"
   ]
  },
  {
   "cell_type": "code",
   "execution_count": 3,
   "metadata": {},
   "outputs": [
    {
     "data": {
      "text/html": [
       "<div>\n",
       "<style scoped>\n",
       "    .dataframe tbody tr th:only-of-type {\n",
       "        vertical-align: middle;\n",
       "    }\n",
       "\n",
       "    .dataframe tbody tr th {\n",
       "        vertical-align: top;\n",
       "    }\n",
       "\n",
       "    .dataframe thead th {\n",
       "        text-align: right;\n",
       "    }\n",
       "</style>\n",
       "<table border=\"1\" class=\"dataframe\">\n",
       "  <thead>\n",
       "    <tr style=\"text-align: right;\">\n",
       "      <th></th>\n",
       "      <th>sourceid</th>\n",
       "      <th>dstid</th>\n",
       "      <th>month</th>\n",
       "      <th>mean_travel_time</th>\n",
       "    </tr>\n",
       "  </thead>\n",
       "  <tbody>\n",
       "    <tr>\n",
       "      <th>0</th>\n",
       "      <td>17</td>\n",
       "      <td>296</td>\n",
       "      <td>10</td>\n",
       "      <td>1109.36</td>\n",
       "    </tr>\n",
       "    <tr>\n",
       "      <th>1</th>\n",
       "      <td>28</td>\n",
       "      <td>186</td>\n",
       "      <td>10</td>\n",
       "      <td>1625.16</td>\n",
       "    </tr>\n",
       "    <tr>\n",
       "      <th>2</th>\n",
       "      <td>758</td>\n",
       "      <td>972</td>\n",
       "      <td>12</td>\n",
       "      <td>953.55</td>\n",
       "    </tr>\n",
       "    <tr>\n",
       "      <th>3</th>\n",
       "      <td>1212</td>\n",
       "      <td>547</td>\n",
       "      <td>10</td>\n",
       "      <td>2053.39</td>\n",
       "    </tr>\n",
       "    <tr>\n",
       "      <th>4</th>\n",
       "      <td>1299</td>\n",
       "      <td>1221</td>\n",
       "      <td>11</td>\n",
       "      <td>1467.54</td>\n",
       "    </tr>\n",
       "    <tr>\n",
       "      <th>...</th>\n",
       "      <td>...</td>\n",
       "      <td>...</td>\n",
       "      <td>...</td>\n",
       "      <td>...</td>\n",
       "    </tr>\n",
       "    <tr>\n",
       "      <th>5144057</th>\n",
       "      <td>1116</td>\n",
       "      <td>953</td>\n",
       "      <td>12</td>\n",
       "      <td>1336.86</td>\n",
       "    </tr>\n",
       "    <tr>\n",
       "      <th>5144058</th>\n",
       "      <td>1732</td>\n",
       "      <td>1170</td>\n",
       "      <td>10</td>\n",
       "      <td>1913.06</td>\n",
       "    </tr>\n",
       "    <tr>\n",
       "      <th>5144059</th>\n",
       "      <td>1167</td>\n",
       "      <td>443</td>\n",
       "      <td>12</td>\n",
       "      <td>1467.28</td>\n",
       "    </tr>\n",
       "    <tr>\n",
       "      <th>5144060</th>\n",
       "      <td>352</td>\n",
       "      <td>1086</td>\n",
       "      <td>10</td>\n",
       "      <td>1306.80</td>\n",
       "    </tr>\n",
       "    <tr>\n",
       "      <th>5144061</th>\n",
       "      <td>1127</td>\n",
       "      <td>843</td>\n",
       "      <td>12</td>\n",
       "      <td>1226.04</td>\n",
       "    </tr>\n",
       "  </tbody>\n",
       "</table>\n",
       "<p>5144062 rows × 4 columns</p>\n",
       "</div>"
      ],
      "text/plain": [
       "         sourceid  dstid  month  mean_travel_time\n",
       "0              17    296     10           1109.36\n",
       "1              28    186     10           1625.16\n",
       "2             758    972     12            953.55\n",
       "3            1212    547     10           2053.39\n",
       "4            1299   1221     11           1467.54\n",
       "...           ...    ...    ...               ...\n",
       "5144057      1116    953     12           1336.86\n",
       "5144058      1732   1170     10           1913.06\n",
       "5144059      1167    443     12           1467.28\n",
       "5144060       352   1086     10           1306.80\n",
       "5144061      1127    843     12           1226.04\n",
       "\n",
       "[5144062 rows x 4 columns]"
      ]
     },
     "execution_count": 3,
     "metadata": {},
     "output_type": "execute_result"
    }
   ],
   "source": [
    "g_data"
   ]
  },
  {
   "cell_type": "code",
   "execution_count": 4,
   "metadata": {},
   "outputs": [],
   "source": [
    "g_data = g_data.drop(g_data[g_data.month != 12].index)\n",
    "g_data = g_data.drop(['month'], axis=1)"
   ]
  },
  {
   "cell_type": "code",
   "execution_count": 5,
   "metadata": {},
   "outputs": [],
   "source": [
    "sd=np.hstack((np.asarray(g_data.sourceid).reshape(-1,1), np.asarray(g_data.dstid).reshape(-1,1)))"
   ]
  },
  {
   "cell_type": "code",
   "execution_count": 6,
   "metadata": {},
   "outputs": [],
   "source": [
    "gd=np.asanyarray(g_data)"
   ]
  },
  {
   "cell_type": "code",
   "execution_count": 7,
   "metadata": {},
   "outputs": [
    {
     "data": {
      "application/vnd.jupyter.widget-view+json": {
       "model_id": "81a9b586026a4868a367deb402e3c85c",
       "version_major": 2,
       "version_minor": 0
      },
      "text/plain": [
       "HBox(children=(FloatProgress(value=0.0, max=1692450.0), HTML(value='')))"
      ]
     },
     "metadata": {},
     "output_type": "display_data"
    },
    {
     "name": "stdout",
     "output_type": "stream",
     "text": [
      "\n"
     ]
    }
   ],
   "source": [
    "filtered_xy = {}\n",
    "for x,y,z in tqdm(gd):\n",
    "    key = tuple(np.sort([int(x), int(y)]))\n",
    "    if key in filtered_xy: filtered_xy[key].append(z)\n",
    "    else: filtered_xy[key] = [z]"
   ]
  },
  {
   "cell_type": "code",
   "execution_count": 8,
   "metadata": {},
   "outputs": [
    {
     "data": {
      "application/vnd.jupyter.widget-view+json": {
       "model_id": "e53037b248694e9c93cbd872a75f85a5",
       "version_major": 2,
       "version_minor": 0
      },
      "text/plain": [
       "HBox(children=(FloatProgress(value=0.0, max=1004955.0), HTML(value='')))"
      ]
     },
     "metadata": {},
     "output_type": "display_data"
    },
    {
     "name": "stdout",
     "output_type": "stream",
     "text": [
      "\n"
     ]
    }
   ],
   "source": [
    "with open('data/filtered_xy.txt','w') as f:\n",
    "    for loc in tqdm(filtered_xy):\n",
    "        f.write('{} {} {:.6f}\\n'.format(loc[0], loc[1], np.mean(filtered_xy[loc])))"
   ]
  },
  {
   "cell_type": "code",
   "execution_count": 9,
   "metadata": {},
   "outputs": [
    {
     "name": "stdout",
     "output_type": "stream",
     "text": [
      "IGRAPH UNW- 2649 1004955 -- \n",
      "+ attr: name (v), weight (e)\n"
     ]
    }
   ],
   "source": [
    "g = ig.Graph.Read(f = 'data/filtered_xy.txt', format = 'ncol', directed = False)\n",
    "gcc = g.components().giant()\n",
    "ig.summary(g)"
   ]
  },
  {
   "cell_type": "code",
   "execution_count": 10,
   "metadata": {},
   "outputs": [],
   "source": [
    "loc_meta = {}\n",
    "with open('data/los_angeles_censustracts.json', 'r') as f:\n",
    "    data = json.loads(f.readline())\n",
    "    for feature in data['features']:\n",
    "        coordinates = np.array(feature['geometry']['coordinates'][0][0])\n",
    "        loc_meta[feature['properties']['MOVEMENT_ID']] = {'address': feature['properties']['DISPLAY_NAME'],\n",
    "                                                          'mean_coords': np.mean(coordinates.reshape(-1,2), axis=0)}"
   ]
  },
  {
   "cell_type": "code",
   "execution_count": 11,
   "metadata": {},
   "outputs": [
    {
     "name": "stdout",
     "output_type": "stream",
     "text": [
      "IGRAPH UNW- 2649 1004955 -- \n",
      "+ attr: location (v), name (v), weight (e)\n"
     ]
    }
   ],
   "source": [
    "seq = gcc.vs()\n",
    "for i in seq:\n",
    "    i['location'] = loc_meta[i['name']]['mean_coords']\n",
    "ig.summary(gcc)"
   ]
  },
  {
   "cell_type": "code",
   "execution_count": 12,
   "metadata": {},
   "outputs": [
    {
     "data": {
      "text/plain": [
       "igraph.Vertex(<igraph.Graph object at 0x0000027EF5ABED68>, 0, {'name': '758', 'location': array([-118.556068,   34.288192])})"
      ]
     },
     "execution_count": 12,
     "metadata": {},
     "output_type": "execute_result"
    }
   ],
   "source": [
    "gcc.vs()[0]"
   ]
  },
  {
   "cell_type": "code",
   "execution_count": null,
   "metadata": {},
   "outputs": [],
   "source": []
  },
  {
   "cell_type": "markdown",
   "metadata": {},
   "source": [
    "## Q7"
   ]
  },
  {
   "cell_type": "code",
   "execution_count": 13,
   "metadata": {},
   "outputs": [
    {
     "name": "stdout",
     "output_type": "stream",
     "text": [
      "IGRAPH UNW- 2649 2648 -- \n",
      "+ attr: location (v), name (v), weight (e)\n"
     ]
    }
   ],
   "source": [
    "mst = gcc.spanning_tree(weights = gcc.es[\"weight\"])\n",
    "ig.summary(mst)"
   ]
  },
  {
   "cell_type": "code",
   "execution_count": 14,
   "metadata": {},
   "outputs": [
    {
     "data": {
      "text/plain": [
       "2648"
      ]
     },
     "execution_count": 14,
     "metadata": {},
     "output_type": "execute_result"
    }
   ],
   "source": [
    "len(mst.es())"
   ]
  },
  {
   "cell_type": "code",
   "execution_count": 589,
   "metadata": {},
   "outputs": [
    {
     "name": "stdout",
     "output_type": "stream",
     "text": [
      "Census Tract 554001 Census Tract 554002\n",
      "Census Tract 461700 Census Tract 460800\n",
      "Census Tract 302201 Census Tract 302202\n",
      "Census Tract 407101 Census Tract 407002\n",
      "Census Tract 433401 Census Tract 433402\n",
      "Census Tract 543603 Census Tract 294410\n",
      "Census Tract 482001 Census Tract 530700\n",
      "Census Tract 460800 Census Tract 463800\n",
      "Census Tract 269100 Census Tract 217001\n",
      "Census Tract 011000 Census Tract 001901\n"
     ]
    }
   ],
   "source": [
    "mst_edges = mst.es()\n",
    "for e in mst_edges[:10]:\n",
    "    x, y = mst.vs(e.tuple[0])[0]['name'], mst.vs(e.tuple[1])[0]['name']\n",
    "    print(loc_meta[str(x)]['address'], loc_meta[str(y)]['address'])"
   ]
  },
  {
   "cell_type": "code",
   "execution_count": 611,
   "metadata": {},
   "outputs": [],
   "source": [
    "#Haversine formula\n",
    "def getDistanceFromLatLonInMiles(lat1,lon1,lat2,lon2):\n",
    "    R = 6371;\n",
    "    dLat = np.radians(lat2-lat1);\n",
    "    dLon = np.radians(lon2-lon1); \n",
    "    a = np.sin(dLat/2) * np.sin(dLat/2) + np.cos(np.radians(lat1)) * np.cos(np.radians(lat2)) *  np.sin(dLon/2) * np.sin(dLon/2); \n",
    "    c = 2 * np.arctan2(np.sqrt(a), np.sqrt(1-a)); \n",
    "    d = R * c;\n",
    "    return d * 0.621371;"
   ]
  },
  {
   "cell_type": "code",
   "execution_count": 597,
   "metadata": {},
   "outputs": [
    {
     "name": "stdout",
     "output_type": "stream",
     "text": [
      "Census Tract 554001 & Census Tract 554002 & 103.60 & 0.70 \\\\ \\hline\n",
      "Census Tract 461700 & Census Tract 460800 & 85.56 & 1.99 \\\\ \\hline\n",
      "Census Tract 302201 & Census Tract 302202 & 108.76 & 0.29 \\\\ \\hline\n",
      "Census Tract 407101 & Census Tract 407002 & 114.10 & 1.05 \\\\ \\hline\n",
      "Census Tract 433401 & Census Tract 433402 & 71.14 & 0.32 \\\\ \\hline\n",
      "Census Tract 543603 & Census Tract 294410 & 85.17 & 0.41 \\\\ \\hline\n",
      "Census Tract 482001 & Census Tract 530700 & 104.78 & 0.61 \\\\ \\hline\n",
      "Census Tract 460800 & Census Tract 463800 & 63.25 & 2.70 \\\\ \\hline\n",
      "Census Tract 269100 & Census Tract 217001 & 124.38 & 0.93 \\\\ \\hline\n",
      "Census Tract 011000 & Census Tract 001901 & 109.50 & 1.22 \\\\ \\hline\n"
     ]
    }
   ],
   "source": [
    "for i,e in enumerate(mst_edges[:10]):\n",
    "    x, y = mst.vs(e.tuple[0])[0]['name'], mst.vs(e.tuple[1])[0]['name']\n",
    "    #print(loc_meta[str(x)]['mean_coords'], loc_meta[str(y)]['mean_coords'])\n",
    "    print(loc_meta[str(x)]['address'], '&', loc_meta[str(y)]['address'],'&','{:.2f}'.format(e['weight']),'&','{:.2f}'.format(getDistanceFromLatLonInMiles(loc_meta[str(x)]['mean_coords'][1], loc_meta[str(x)]['mean_coords'][0], loc_meta[str(y)]['mean_coords'][1], loc_meta[str(y)]['mean_coords'][0])),'\\\\\\ \\hline')"
   ]
  },
  {
   "cell_type": "code",
   "execution_count": null,
   "metadata": {},
   "outputs": [],
   "source": []
  },
  {
   "cell_type": "markdown",
   "metadata": {},
   "source": [
    "## Q8"
   ]
  },
  {
   "cell_type": "code",
   "execution_count": null,
   "metadata": {},
   "outputs": [],
   "source": []
  },
  {
   "cell_type": "code",
   "execution_count": 18,
   "metadata": {},
   "outputs": [],
   "source": [
    "def check_triangle_exists(g, v):\n",
    "    v1, v2, v3 = v\n",
    "    if g.get_eid(v1, v2, directed=False, error=False)!=-1 and g.get_eid(v1, v3, directed=False, error=False)!=-1 and g.get_eid(v2, v3, directed=False, error=False)!=-1:\n",
    "        return True\n",
    "    else:\n",
    "        return False"
   ]
  },
  {
   "cell_type": "code",
   "execution_count": 19,
   "metadata": {},
   "outputs": [],
   "source": [
    "def get_triangle_edges(g, v):\n",
    "    v1, v2, v3 = v\n",
    "    e=[g.get_eid(v1, v2, directed=False, error=False), g.get_eid(v1, v3, directed=False, error=False), g.get_eid(v2, v3, directed=False, error=False)]\n",
    "    assert(e[0]!=-1 and e[1]!=-1 and e[2]!=-1)\n",
    "    return e"
   ]
  },
  {
   "cell_type": "code",
   "execution_count": 20,
   "metadata": {},
   "outputs": [
    {
     "data": {
      "application/vnd.jupyter.widget-view+json": {
       "model_id": "4a18a527ab4d48168d7b4a9450a87079",
       "version_major": 2,
       "version_minor": 0
      },
      "text/plain": [
       "HBox(children=(FloatProgress(value=0.0, max=1000.0), HTML(value='')))"
      ]
     },
     "metadata": {},
     "output_type": "display_data"
    },
    {
     "name": "stdout",
     "output_type": "stream",
     "text": [
      "\n",
      "0.928\n"
     ]
    }
   ],
   "source": [
    "triangles = set()\n",
    "vids = range(len(gcc.vs()))\n",
    "counter =0\n",
    "\n",
    "for i in tqdm(range(1000)):\n",
    "    tri = np.random.choice(vids, 3, replace=False)\n",
    "    tri_tup = tuple(np.sort(tri))\n",
    "    while tri_tup in triangles or not check_triangle_exists(gcc, tri_tup):\n",
    "        tri = np.random.choice(vids, 3, replace=False)\n",
    "        tri_tup = tuple(np.sort(tri))\n",
    "    \n",
    "    edges = get_triangle_edges(gcc, tri_tup)\n",
    "    assert(tri_tup not in triangles)\n",
    "    assert(len(edges)==3)\n",
    "    triangles.add(tri_tup)\n",
    "    weights = [edge['weight'] for edge in gcc.es(edges)]\n",
    "    if weights[0]+weights[1]>=weights[2] and weights[1]+weights[2]>=weights[0] and weights[0]+weights[2]>=weights[1]:\n",
    "        counter+=1\n",
    "\n",
    "print(counter/1000)"
   ]
  },
  {
   "cell_type": "code",
   "execution_count": null,
   "metadata": {},
   "outputs": [],
   "source": []
  },
  {
   "cell_type": "markdown",
   "metadata": {},
   "source": [
    "## Q9"
   ]
  },
  {
   "cell_type": "code",
   "execution_count": null,
   "metadata": {},
   "outputs": [],
   "source": []
  },
  {
   "cell_type": "code",
   "execution_count": 21,
   "metadata": {},
   "outputs": [],
   "source": [
    "gcc_distances = np.array(gcc.shortest_paths(weights = gcc.es()['weight']))"
   ]
  },
  {
   "cell_type": "code",
   "execution_count": 22,
   "metadata": {},
   "outputs": [],
   "source": [
    "def preorderTraversal(g, root): \n",
    "    stack = []\n",
    "    preorder =[] \n",
    "    preorder.append(root) \n",
    "    stack.append(root) \n",
    "    while len(stack)>0:\n",
    "        flag = 0\n",
    "        if g.vs(stack[-1])[0].degree(mode='OUT') == 0: \n",
    "            stack.pop() \n",
    "        else: \n",
    "            par = stack[-1]\n",
    "        for child in g.vs(par)[0].neighbors(mode='OUT'): \n",
    "            if child.index not in preorder: \n",
    "                flag = 1\n",
    "                stack.append(child.index) \n",
    "                preorder.append(child.index) \n",
    "                break;\n",
    "        if flag == 0: \n",
    "            stack.pop() \n",
    "    return preorder"
   ]
  },
  {
   "cell_type": "code",
   "execution_count": 23,
   "metadata": {},
   "outputs": [],
   "source": [
    "pre=preorderTraversal(mst, 0)"
   ]
  },
  {
   "cell_type": "code",
   "execution_count": 599,
   "metadata": {},
   "outputs": [],
   "source": [
    "def get_vid_by_a(g,name,val):\n",
    "    for v in g.vs():\n",
    "        if v[name]==val:\n",
    "            return v.index\n",
    "    1/0"
   ]
  },
  {
   "cell_type": "code",
   "execution_count": 602,
   "metadata": {},
   "outputs": [
    {
     "data": {
      "application/vnd.jupyter.widget-view+json": {
       "model_id": "8ebeffaab5a94dc9bd5abdb5cca935f3",
       "version_major": 2,
       "version_minor": 0
      },
      "text/plain": [
       "HBox(children=(FloatProgress(value=0.0, max=2648.0), HTML(value='')))"
      ]
     },
     "metadata": {},
     "output_type": "display_data"
    },
    {
     "name": "stdout",
     "output_type": "stream",
     "text": [
      "\n",
      "total weight: 473196.41499999975\n"
     ]
    }
   ],
   "source": [
    "total_weight = 0\n",
    "final_path = []\n",
    "for i in tqdm(range(len(pre) - 1)):\n",
    "    index1 = get_vid_by_a(gcc,'name',mst.vs(pre[i])[0]['name'])\n",
    "    index2 = get_vid_by_a(gcc,'name',mst.vs(pre[i+1])[0]['name'])\n",
    "    eid=gcc.get_eid(index1, index2, directed=False, error=False)\n",
    "    if eid != -1:\n",
    "        total_weight += gcc.es(eid)[0]['weight']\n",
    "        final_path.append(index1)\n",
    "        final_path.append(index2)\n",
    "    else:\n",
    "        total_weight += (gcc.shortest_paths(index1, index2, weights = gcc.es()['weight']))[0][0]\n",
    "        path1 = gcc.get_shortest_paths(index1, index2, weights = gcc.es()['weight'], output='vpath')\n",
    "        for ind in path1[0]:\n",
    "            final_path.append(ind)\n",
    "\n",
    "print('total weight: ' + str(total_weight))"
   ]
  },
  {
   "cell_type": "code",
   "execution_count": 608,
   "metadata": {},
   "outputs": [
    {
     "data": {
      "text/plain": [
       "269084.5449999998"
      ]
     },
     "execution_count": 608,
     "metadata": {},
     "output_type": "execute_result"
    }
   ],
   "source": [
    "sum(mst.es['weight'])"
   ]
  },
  {
   "cell_type": "code",
   "execution_count": 607,
   "metadata": {},
   "outputs": [
    {
     "name": "stdout",
     "output_type": "stream",
     "text": [
      "1.758541780985601\n"
     ]
    }
   ],
   "source": [
    "upper_bound = total_weight / sum(mst.es['weight'])\n",
    "print(upper_bound)"
   ]
  },
  {
   "cell_type": "code",
   "execution_count": null,
   "metadata": {},
   "outputs": [],
   "source": []
  },
  {
   "cell_type": "markdown",
   "metadata": {},
   "source": [
    "## Q10"
   ]
  },
  {
   "cell_type": "code",
   "execution_count": 612,
   "metadata": {},
   "outputs": [],
   "source": [
    "with open('data/santa_path_new.csv', 'w') as f:\n",
    "    f.write('Longitude, Latitude, Line Group (Path ID), Order of Points \\n')\n",
    "    loc = gcc.vs[final_path[0]]['location']\n",
    "    f.write(str(loc[0]) + ', ' + str(loc[1]) + ', ' + '1, 1 \\n')\n",
    "    order = 2\n",
    "    for i in range(1, len(final_path) - 1):\n",
    "        if i%2 != 0:\n",
    "            location = gcc.vs[final_path[i]]['location']\n",
    "            f.write(str(location[0]) + ', ' + str(location[1]) + ', ' + '1, ' + str(order) + '\\n')\n",
    "            order += 1\n",
    "    loc = gcc.vs[final_path[len(final_path) - 1]]['location']\n",
    "    f.write(str(loc[0]) + ', ' + str(loc[1]) + ', ' + '1, ' + str(order) + '\\n')"
   ]
  },
  {
   "cell_type": "code",
   "execution_count": null,
   "metadata": {},
   "outputs": [],
   "source": []
  },
  {
   "cell_type": "markdown",
   "metadata": {},
   "source": [
    "## Define Your Own Task"
   ]
  },
  {
   "cell_type": "markdown",
   "metadata": {},
   "source": [
    "### Generate request dataset"
   ]
  },
  {
   "cell_type": "code",
   "execution_count": 29,
   "metadata": {},
   "outputs": [],
   "source": [
    "from functools import partial\n",
    "import matplotlib.pyplot as plt\n",
    "from scipy import stats"
   ]
  },
  {
   "cell_type": "code",
   "execution_count": 229,
   "metadata": {},
   "outputs": [
    {
     "data": {
      "text/plain": [
       "[0, 100, 200, 300, 400, 500, 600, 700, 800, 900, 1000, 1100, 1200, 1300]"
      ]
     },
     "execution_count": 229,
     "metadata": {},
     "output_type": "execute_result"
    }
   ],
   "source": [
    "[*range(0,1400,100)]"
   ]
  },
  {
   "cell_type": "code",
   "execution_count": 290,
   "metadata": {},
   "outputs": [
    {
     "data": {
      "image/png": "[encoded data removed]",
      "text/plain": [
       "<Figure size 432x288 with 1 Axes>"
      ]
     },
     "metadata": {
      "needs_background": "light"
     },
     "output_type": "display_data"
    }
   ],
   "source": [
    "loc1, scale1, size1 = (510, 120, 450)\n",
    "loc2, scale2, size2 = (780, 60, 100)\n",
    "loc3, scale3, size3 = (1050, 120, 450)\n",
    "x2 = np.concatenate([np.random.normal(loc=loc1, scale=scale1, size=size1),\n",
    "                     np.random.normal(loc=loc2, scale=scale2, size=size2), np.random.normal(loc=loc3, scale=scale3, size=size3)])\n",
    "\n",
    "x_eval = np.arange(1440)\n",
    "\n",
    "bimodal_pdf = stats.norm.pdf(x_eval, loc=loc1, scale=scale1) * float(size1) / x2.size + \\\n",
    "              stats.norm.pdf(x_eval, loc=loc2, scale=scale2) * float(size2) / x2.size + \\\n",
    "              stats.norm.pdf(x_eval, loc=loc3, scale=scale3) * float(size3) / x2.size\n",
    "\n",
    "bimodal_pdf /= bimodal_pdf.sum()\n",
    "\n",
    "plt.plot(x_eval, bimodal_pdf)\n",
    "\n",
    "plt.xlim([x_eval.min(), x_eval.max()])\n",
    "plt.xlabel('Time (min)')\n",
    "plt.ylabel('Density')\n",
    "plt.xlim([0, 1440])\n",
    "ticks=[*range(0,1400,200)]\n",
    "ticks.append(1440)\n",
    "plt.xticks(ticks)\n",
    "plt.savefig('plots/density.png', dpi=600, bbox_inches='tight')\n",
    "plt.show()"
   ]
  },
  {
   "cell_type": "code",
   "execution_count": 31,
   "metadata": {},
   "outputs": [
    {
     "data": {
      "text/plain": [
       "(1440,)"
      ]
     },
     "execution_count": 31,
     "metadata": {},
     "output_type": "execute_result"
    }
   ],
   "source": [
    "bimodal_pdf.shape"
   ]
  },
  {
   "cell_type": "code",
   "execution_count": 32,
   "metadata": {},
   "outputs": [
    {
     "data": {
      "text/plain": [
       "1.0"
      ]
     },
     "execution_count": 32,
     "metadata": {},
     "output_type": "execute_result"
    }
   ],
   "source": [
    "bimodal_pdf.sum()"
   ]
  },
  {
   "cell_type": "code",
   "execution_count": 33,
   "metadata": {},
   "outputs": [],
   "source": [
    "times=np.random.choice(range(1440), 1000, p=bimodal_pdf)"
   ]
  },
  {
   "cell_type": "code",
   "execution_count": 291,
   "metadata": {},
   "outputs": [
    {
     "data": {
      "image/png": "[encoded data removed]",
      "text/plain": [
       "<Figure size 432x288 with 1 Axes>"
      ]
     },
     "metadata": {
      "needs_background": "light"
     },
     "output_type": "display_data"
    }
   ],
   "source": [
    "plt.hist(times, 100)\n",
    "plt.xlabel('Time (min)')\n",
    "plt.ylabel('Frequency')\n",
    "plt.savefig('plots/hist_sample.png', dpi=600, bbox_inches='tight')"
   ]
  },
  {
   "cell_type": "code",
   "execution_count": null,
   "metadata": {},
   "outputs": [],
   "source": []
  },
  {
   "cell_type": "code",
   "execution_count": 35,
   "metadata": {},
   "outputs": [],
   "source": [
    "times=np.sort(times)"
   ]
  },
  {
   "cell_type": "code",
   "execution_count": 135,
   "metadata": {},
   "outputs": [
    {
     "data": {
      "application/vnd.jupyter.widget-view+json": {
       "model_id": "5c37d0d2ef5e4b1d94a4c59501546092",
       "version_major": 2,
       "version_minor": 0
      },
      "text/plain": [
       "HBox(children=(FloatProgress(value=0.0, max=1000.0), HTML(value='')))"
      ]
     },
     "metadata": {},
     "output_type": "display_data"
    },
    {
     "name": "stdout",
     "output_type": "stream",
     "text": [
      "\n"
     ]
    }
   ],
   "source": [
    "requests = []\n",
    "trips = set()\n",
    "vids = range(len(gcc.vs()))\n",
    "counter =0\n",
    "\n",
    "for i in tqdm(range(1000)):\n",
    "    trip = np.random.choice(vids, 2, replace=False)\n",
    "    trip_tup = tuple(np.sort(trip))\n",
    "    while trip_tup in trips:\n",
    "        trip = np.random.choice(vids, 2, replace=False)\n",
    "        trip_tup = tuple(np.sort(trip))\n",
    "    \n",
    "    assert(trip_tup not in trips)\n",
    "    trips.add(trip_tup)\n",
    "    requests.append([times[i], trip_tup[0], trip_tup[1]])"
   ]
  },
  {
   "cell_type": "code",
   "execution_count": 105,
   "metadata": {},
   "outputs": [
    {
     "data": {
      "text/plain": [
       "range(0, 2649)"
      ]
     },
     "execution_count": 105,
     "metadata": {},
     "output_type": "execute_result"
    }
   ],
   "source": [
    "vids"
   ]
  },
  {
   "cell_type": "code",
   "execution_count": 125,
   "metadata": {},
   "outputs": [
    {
     "data": {
      "text/plain": [
       "(1550, 1726)"
      ]
     },
     "execution_count": 125,
     "metadata": {},
     "output_type": "execute_result"
    }
   ],
   "source": [
    "tuple(np.sort(np.random.choice(vids, 2, replace=False)))"
   ]
  },
  {
   "cell_type": "code",
   "execution_count": null,
   "metadata": {},
   "outputs": [],
   "source": []
  },
  {
   "cell_type": "code",
   "execution_count": 136,
   "metadata": {},
   "outputs": [],
   "source": [
    "requests = np.array(requests)"
   ]
  },
  {
   "cell_type": "code",
   "execution_count": 579,
   "metadata": {},
   "outputs": [],
   "source": [
    "# requests_pickle={}\n",
    "# requests_pickle['requests']=requests\n",
    "# pickle.dump(requests_pickle, open('data/requests.pkl', 'wb'))"
   ]
  },
  {
   "cell_type": "code",
   "execution_count": null,
   "metadata": {},
   "outputs": [],
   "source": []
  },
  {
   "cell_type": "code",
   "execution_count": 137,
   "metadata": {},
   "outputs": [
    {
     "data": {
      "text/plain": [
       "array([ 129, 1225, 2499])"
      ]
     },
     "execution_count": 137,
     "metadata": {},
     "output_type": "execute_result"
    }
   ],
   "source": [
    "requests[0,:]"
   ]
  },
  {
   "cell_type": "code",
   "execution_count": 138,
   "metadata": {},
   "outputs": [
    {
     "data": {
      "text/plain": [
       "[<matplotlib.lines.Line2D at 0x27ecb09dc08>]"
      ]
     },
     "execution_count": 138,
     "metadata": {},
     "output_type": "execute_result"
    },
    {
     "data": {
      "image/png": "[encoded data removed]",
      "text/plain": [
       "<Figure size 432x288 with 1 Axes>"
      ]
     },
     "metadata": {
      "needs_background": "light"
     },
     "output_type": "display_data"
    }
   ],
   "source": [
    "plt.plot(requests[:,0])"
   ]
  },
  {
   "cell_type": "code",
   "execution_count": null,
   "metadata": {},
   "outputs": [],
   "source": []
  },
  {
   "cell_type": "code",
   "execution_count": 142,
   "metadata": {},
   "outputs": [],
   "source": [
    "with open('data/requests_start_end.csv', 'w') as f:\n",
    "    f.write('Longitude, Latitude, Line Group (Path ID), Order of Points \\n')\n",
    "    count=0\n",
    "    for i,j,k in requests:\n",
    "        locx = gcc.vs[j]['location']\n",
    "        locy = gcc.vs[k]['location']\n",
    "        count+=1\n",
    "        f.write(str(locx[0]) + ', ' + str(locx[1]) + ', ' + str(count) + ', ' + str(1) + '\\n')\n",
    "        f.write(str(locy[0]) + ', ' + str(locy[1]) + ', ' + str(count) + ', ' + str(2) + '\\n')\n",
    "    "
   ]
  },
  {
   "cell_type": "code",
   "execution_count": null,
   "metadata": {},
   "outputs": [],
   "source": []
  },
  {
   "cell_type": "code",
   "execution_count": 40,
   "metadata": {},
   "outputs": [
    {
     "data": {
      "text/plain": [
       "array([   0.   ,  985.375, 1971.47 , ..., 1501.525, 1118.955, 1575.615])"
      ]
     },
     "execution_count": 40,
     "metadata": {},
     "output_type": "execute_result"
    }
   ],
   "source": [
    "gcc_distances[0]"
   ]
  },
  {
   "cell_type": "code",
   "execution_count": 143,
   "metadata": {},
   "outputs": [
    {
     "data": {
      "application/vnd.jupyter.widget-view+json": {
       "model_id": "a8e08171a6e44c228c95e6572b07bd38",
       "version_major": 2,
       "version_minor": 0
      },
      "text/plain": [
       "HBox(children=(FloatProgress(value=0.0, max=1000.0), HTML(value='')))"
      ]
     },
     "metadata": {},
     "output_type": "display_data"
    },
    {
     "name": "stdout",
     "output_type": "stream",
     "text": [
      "\n"
     ]
    }
   ],
   "source": [
    "n_e=0\n",
    "delta=5\n",
    "g1_edges = []\n",
    "for i in trange(1000):\n",
    "    for j in range(i+1, 1000):\n",
    "        t1, t2 = requests[i, 0], requests[j, 0]\n",
    "        assert(t1 <= t2)\n",
    "        src1, dst1 = requests[i, 1], requests[i, 2]\n",
    "        src2, dst2 = requests[j, 1], requests[j, 2]\n",
    "        arriv_at_2 = t1+gcc_distances[src1][dst1]/60+gcc_distances[dst1][src2]/60\n",
    "        if arriv_at_2 <= t2+delta:\n",
    "            n_e+=1\n",
    "            g1_edges.append((i,j))"
   ]
  },
  {
   "cell_type": "code",
   "execution_count": 144,
   "metadata": {},
   "outputs": [
    {
     "data": {
      "text/plain": [
       "437604"
      ]
     },
     "execution_count": 144,
     "metadata": {},
     "output_type": "execute_result"
    }
   ],
   "source": [
    "len(g1_edges)"
   ]
  },
  {
   "cell_type": "code",
   "execution_count": 145,
   "metadata": {},
   "outputs": [],
   "source": [
    "g1 = ig.Graph(1000, directed=True)\n",
    "g1.add_edges(g1_edges)"
   ]
  },
  {
   "cell_type": "code",
   "execution_count": 146,
   "metadata": {},
   "outputs": [
    {
     "data": {
      "text/plain": [
       "'IGRAPH D--- 1000 437604 -- '"
      ]
     },
     "execution_count": 146,
     "metadata": {},
     "output_type": "execute_result"
    }
   ],
   "source": [
    "g1.summary()"
   ]
  },
  {
   "cell_type": "code",
   "execution_count": null,
   "metadata": {},
   "outputs": [],
   "source": []
  },
  {
   "cell_type": "markdown",
   "metadata": {},
   "source": [
    "### Subtask 1"
   ]
  },
  {
   "cell_type": "code",
   "execution_count": null,
   "metadata": {},
   "outputs": [],
   "source": []
  },
  {
   "cell_type": "code",
   "execution_count": 147,
   "metadata": {},
   "outputs": [],
   "source": [
    "length_to = np.zeros(1000, dtype=int)\n",
    "from_to = np.zeros(1000, dtype=int)-1\n",
    "top_order = g1.topological_sorting(mode='OUT')"
   ]
  },
  {
   "cell_type": "code",
   "execution_count": 148,
   "metadata": {},
   "outputs": [],
   "source": [
    "for v in top_order:\n",
    "    for w in g1.vs(v)[0].neighbors(mode='OUT'):\n",
    "        if length_to[w.index] <= length_to[v] + 1:\n",
    "            length_to[w.index] = length_to[v] + 1\n",
    "            from_to[w.index] = v"
   ]
  },
  {
   "cell_type": "code",
   "execution_count": 149,
   "metadata": {},
   "outputs": [],
   "source": [
    "max_req, endpoint = np.amax(length_to), int(np.argmax(length_to))"
   ]
  },
  {
   "cell_type": "code",
   "execution_count": 150,
   "metadata": {},
   "outputs": [
    {
     "name": "stdout",
     "output_type": "stream",
     "text": [
      "36 999\n"
     ]
    }
   ],
   "source": [
    "print(max_req, endpoint)"
   ]
  },
  {
   "cell_type": "code",
   "execution_count": 151,
   "metadata": {},
   "outputs": [],
   "source": [
    "curr=[endpoint]\n",
    "while curr[-1]!=-1:\n",
    "    curr.append(from_to[curr[-1]])"
   ]
  },
  {
   "cell_type": "code",
   "execution_count": 152,
   "metadata": {},
   "outputs": [],
   "source": [
    "path_to_take = curr[:-1]\n",
    "path_to_take.reverse()"
   ]
  },
  {
   "cell_type": "code",
   "execution_count": 153,
   "metadata": {},
   "outputs": [
    {
     "name": "stdout",
     "output_type": "stream",
     "text": [
      "[0, 7, 14, 29, 56, 74, 147, 170, 188, 229, 265, 337, 359, 400, 430, 456, 484, 502, 544, 577, 597, 634, 672, 707, 729, 763, 789, 829, 868, 884, 906, 940, 967, 982, 989, 993, 999]\n"
     ]
    }
   ],
   "source": [
    "print(path_to_take)"
   ]
  },
  {
   "cell_type": "code",
   "execution_count": 277,
   "metadata": {},
   "outputs": [],
   "source": [
    "with open('data/requests_single_path.csv', 'w') as f:\n",
    "    f.write('Longitude, Latitude, Line Group (Path ID), Order of Points, Color \\n')\n",
    "    count=0\n",
    "    for i,j in enumerate(path_to_take):\n",
    "        _,l1,l2 = requests[j]\n",
    "        locx = gcc.vs[l1]['location']\n",
    "        locy = gcc.vs[l2]['location']\n",
    "        f.write(str(locx[0]) + ', ' + str(locx[1]) + ', ' + str(count+1) + ', ' + str(2*i+1) + ', 2\\n')\n",
    "        f.write(str(locy[0]) + ', ' + str(locy[1]) + ', ' + str(count+1) + ', ' + str(2*i+2) + ', 2\\n')\n",
    "        \n",
    "    for i,j,k in requests:\n",
    "        locx = gcc.vs[j]['location']\n",
    "        locy = gcc.vs[k]['location']\n",
    "        count+=1\n",
    "        f.write(str(locx[0]) + ', ' + str(locx[1]) + ', ' + str(count) + ', ' + str(1) + ', 1\\n')\n",
    "        f.write(str(locy[0]) + ', ' + str(locy[1]) + ', ' + str(count) + ', ' + str(2) + ', 1\\n')"
   ]
  },
  {
   "cell_type": "code",
   "execution_count": null,
   "metadata": {},
   "outputs": [],
   "source": []
  },
  {
   "cell_type": "code",
   "execution_count": 154,
   "metadata": {},
   "outputs": [],
   "source": [
    "rejected=np.setdiff1d(np.arange(1000), path_to_take)"
   ]
  },
  {
   "cell_type": "code",
   "execution_count": 155,
   "metadata": {},
   "outputs": [
    {
     "data": {
      "text/plain": [
       "array([ 129,  266,  292,  339,  371,  389,  453,  474,  485,  520,  540,\n",
       "        580,  601,  639,  675,  712,  748,  767,  805,  839,  864,  916,\n",
       "        951,  981,  999, 1029, 1044, 1080, 1116, 1127, 1152, 1199, 1230,\n",
       "       1281, 1313, 1332, 1415])"
      ]
     },
     "execution_count": 155,
     "metadata": {},
     "output_type": "execute_result"
    }
   ],
   "source": [
    "times[path_to_take]"
   ]
  },
  {
   "cell_type": "code",
   "execution_count": 156,
   "metadata": {},
   "outputs": [
    {
     "data": {
      "text/plain": [
       "array([ 129,  266,  292,  339,  371,  389,  453,  474,  485,  520,  540,\n",
       "        580,  601,  639,  675,  712,  748,  767,  805,  839,  864,  916,\n",
       "        951,  981,  999, 1029, 1044, 1080, 1116, 1127, 1152, 1199, 1230,\n",
       "       1281, 1313, 1332, 1415])"
      ]
     },
     "execution_count": 156,
     "metadata": {},
     "output_type": "execute_result"
    }
   ],
   "source": [
    "requests[path_to_take, 0]"
   ]
  },
  {
   "cell_type": "code",
   "execution_count": 568,
   "metadata": {},
   "outputs": [
    {
     "data": {
      "image/png": "[encoded data removed]",
      "text/plain": [
       "<Figure size 432x288 with 1 Axes>"
      ]
     },
     "metadata": {
      "needs_background": "light"
     },
     "output_type": "display_data"
    }
   ],
   "source": [
    "plt.hist(times[path_to_take], bins=20)\n",
    "plt.xlabel('Time (min)')\n",
    "plt.ylabel('Frequency')\n",
    "plt.savefig('plots/hist_path.png', dpi=600, bbox_inches='tight')"
   ]
  },
  {
   "cell_type": "code",
   "execution_count": 570,
   "metadata": {},
   "outputs": [
    {
     "data": {
      "image/png": "[encoded data removed]",
      "text/plain": [
       "<Figure size 432x288 with 1 Axes>"
      ]
     },
     "metadata": {
      "needs_background": "light"
     },
     "output_type": "display_data"
    }
   ],
   "source": [
    "plt.hist(times[rejected], 100)\n",
    "plt.xlabel('Time (min)')\n",
    "plt.ylabel('Frequency')\n",
    "plt.savefig('plots/hist_rejected.png', dpi=600, bbox_inches='tight')"
   ]
  },
  {
   "cell_type": "code",
   "execution_count": 159,
   "metadata": {},
   "outputs": [
    {
     "data": {
      "text/plain": [
       "[<matplotlib.lines.Line2D at 0x27eca373688>]"
      ]
     },
     "execution_count": 159,
     "metadata": {},
     "output_type": "execute_result"
    },
    {
     "data": {
      "image/png": "[encoded data removed]",
      "text/plain": [
       "<Figure size 432x288 with 1 Axes>"
      ]
     },
     "metadata": {
      "needs_background": "light"
     },
     "output_type": "display_data"
    }
   ],
   "source": [
    "f = plt.figure()\n",
    "plt.plot([0, 1],[2, 2])\n",
    "plt.plot([2, 3],[2, 2])"
   ]
  },
  {
   "cell_type": "code",
   "execution_count": 160,
   "metadata": {},
   "outputs": [
    {
     "data": {
      "text/plain": [
       "5"
      ]
     },
     "execution_count": 160,
     "metadata": {},
     "output_type": "execute_result"
    }
   ],
   "source": [
    "delta"
   ]
  },
  {
   "cell_type": "code",
   "execution_count": 572,
   "metadata": {},
   "outputs": [
    {
     "data": {
      "image/png": "[encoded data removed]",
      "text/plain": [
       "<Figure size 432x288 with 1 Axes>"
      ]
     },
     "metadata": {
      "needs_background": "light"
     },
     "output_type": "display_data"
    }
   ],
   "source": [
    "wait_times=[]\n",
    "for k in range(len(path_to_take)-1):\n",
    "    i=path_to_take[k]\n",
    "    j=path_to_take[k+1]\n",
    "    t1, t2 = requests[i, 0], requests[j, 0]\n",
    "    src1, dst1 = requests[i, 1], requests[i, 2]\n",
    "    src2, dst2 = requests[j, 1], requests[j, 2]\n",
    "    arriv_at_2 = t1+gcc_distances[src1][dst1]/60+gcc_distances[dst1][src2]/60\n",
    "    #print(arriv_at_2, t2+delta)\n",
    "    assert(arriv_at_2 <= t2+delta)\n",
    "    wait_times.append(arriv_at_2-t2)\n",
    "plt.plot(wait_times, '-o')\n",
    "plt.xlabel('Customer number')\n",
    "plt.ylabel('Wait Time (min)')\n",
    "plt.ylim([-60, 10])\n",
    "ticks=[*range(-60,11,10)]\n",
    "ticks.append(5)\n",
    "plt.yticks(ticks)\n",
    "plt.plot([0, 36],[5,5], '--r')\n",
    "plt.savefig('plots/hist_wait_times1.png', dpi=600, bbox_inches='tight')"
   ]
  },
  {
   "cell_type": "code",
   "execution_count": 162,
   "metadata": {},
   "outputs": [
    {
     "data": {
      "text/plain": [
       "4.904999999999973"
      ]
     },
     "execution_count": 162,
     "metadata": {},
     "output_type": "execute_result"
    }
   ],
   "source": [
    "max(wait_times)"
   ]
  },
  {
   "cell_type": "code",
   "execution_count": 163,
   "metadata": {},
   "outputs": [
    {
     "data": {
      "text/plain": [
       "(100.0, 300.0)"
      ]
     },
     "execution_count": 163,
     "metadata": {},
     "output_type": "execute_result"
    },
    {
     "data": {
      "image/png": "[encoded data removed]",
      "text/plain": [
       "<Figure size 10800x144 with 1 Axes>"
      ]
     },
     "metadata": {
      "needs_background": "light"
     },
     "output_type": "display_data"
    }
   ],
   "source": [
    "plt.figure(figsize=(150, 2))\n",
    "for k in range(5):\n",
    "    i=path_to_take[k]\n",
    "    j=path_to_take[k+1]\n",
    "    t1, t2 = requests[i, 0], requests[j, 0]\n",
    "    src1, dst1 = requests[i, 1], requests[i, 2]\n",
    "    src2, dst2 = requests[j, 1], requests[j, 2]\n",
    "    arriv_at_2 = t1+gcc_distances[src1][dst1]/60+gcc_distances[dst1][src2]/60\n",
    "    #print(arriv_at_2, t2+delta)\n",
    "    assert(arriv_at_2 <= t2+delta)\n",
    "    plt.plot([t1, t1+gcc_distances[src1][dst1]/60],[1, 1], '-b', linewidth=50)\n",
    "    plt.plot([t1+gcc_distances[src1][dst1]/60, arriv_at_2],[1, 1], '-r', linewidth=50)\n",
    "plt.xlim([100, 300])"
   ]
  },
  {
   "cell_type": "code",
   "execution_count": 164,
   "metadata": {},
   "outputs": [
    {
     "data": {
      "text/plain": [
       "(350.0, 650.0)"
      ]
     },
     "execution_count": 164,
     "metadata": {},
     "output_type": "execute_result"
    },
    {
     "data": {
      "image/png": "[encoded data removed]",
      "text/plain": [
       "<Figure size 10800x144 with 1 Axes>"
      ]
     },
     "metadata": {
      "needs_background": "light"
     },
     "output_type": "display_data"
    }
   ],
   "source": [
    "plt.figure(figsize=(150, 2))\n",
    "for k in range(6, 20):\n",
    "    i=path_to_take[k]\n",
    "    j=path_to_take[k+1]\n",
    "    t1, t2 = requests[i, 0], requests[j, 0]\n",
    "    src1, dst1 = requests[i, 1], requests[i, 2]\n",
    "    src2, dst2 = requests[j, 1], requests[j, 2]\n",
    "    arriv_at_2 = t1+gcc_distances[src1][dst1]/60+gcc_distances[dst1][src2]/60\n",
    "    #print(arriv_at_2, t2+delta)\n",
    "    assert(arriv_at_2 <= t2+delta)\n",
    "    plt.plot([t1, t1+gcc_distances[src1][dst1]/60],[1, 1], '-b', linewidth=50)\n",
    "    plt.plot([t1+gcc_distances[src1][dst1]/60, arriv_at_2],[1, 1], '-r', linewidth=50)\n",
    "plt.xlim([350, 650])"
   ]
  },
  {
   "cell_type": "code",
   "execution_count": 165,
   "metadata": {},
   "outputs": [],
   "source": [
    "#ig.plot(g1_mst, vertex_size=1, edge_arrow_size=0.5)"
   ]
  },
  {
   "cell_type": "code",
   "execution_count": 166,
   "metadata": {},
   "outputs": [],
   "source": [
    "#length_to"
   ]
  },
  {
   "cell_type": "code",
   "execution_count": 167,
   "metadata": {},
   "outputs": [],
   "source": [
    "# for v in top_order:\n",
    "#     if len(g1.vs(v)[0].neighbors(mode='OUT'))>0:\n",
    "#         print(v, len(g1.vs(v)[0].neighbors(mode='OUT')))"
   ]
  },
  {
   "cell_type": "code",
   "execution_count": 168,
   "metadata": {},
   "outputs": [],
   "source": [
    "# for v in top_order:\n",
    "#     if len(g1.vs(v)[0].neighbors(mode='OUT'))>0 and len(g1.vs(v)[0].neighbors(mode='IN'))>0:\n",
    "#         print(v)"
   ]
  },
  {
   "cell_type": "code",
   "execution_count": null,
   "metadata": {},
   "outputs": [],
   "source": []
  },
  {
   "cell_type": "markdown",
   "metadata": {},
   "source": [
    "### Subtask 2"
   ]
  },
  {
   "cell_type": "code",
   "execution_count": null,
   "metadata": {},
   "outputs": [],
   "source": []
  },
  {
   "cell_type": "code",
   "execution_count": 169,
   "metadata": {},
   "outputs": [],
   "source": [
    "g2 = ig.Graph(2002, directed=True)"
   ]
  },
  {
   "cell_type": "code",
   "execution_count": 170,
   "metadata": {},
   "outputs": [
    {
     "data": {
      "text/plain": [
       "(0, 1)"
      ]
     },
     "execution_count": 170,
     "metadata": {},
     "output_type": "execute_result"
    }
   ],
   "source": [
    "g1_edges[0]"
   ]
  },
  {
   "cell_type": "code",
   "execution_count": 171,
   "metadata": {},
   "outputs": [],
   "source": [
    "g2_edges = [(x+1, 1000+y+1) for x, y in g1_edges]"
   ]
  },
  {
   "cell_type": "code",
   "execution_count": 172,
   "metadata": {},
   "outputs": [
    {
     "data": {
      "text/plain": [
       "(1, 1002)"
      ]
     },
     "execution_count": 172,
     "metadata": {},
     "output_type": "execute_result"
    }
   ],
   "source": [
    "g2_edges[0]"
   ]
  },
  {
   "cell_type": "code",
   "execution_count": 173,
   "metadata": {},
   "outputs": [],
   "source": [
    "for x, y in g1_edges:\n",
    "    g2_edges.append((0, x+1))\n",
    "    g2_edges.append((1000+y+1, 2001))"
   ]
  },
  {
   "cell_type": "code",
   "execution_count": 174,
   "metadata": {},
   "outputs": [],
   "source": [
    "g2.add_edges(g2_edges)"
   ]
  },
  {
   "cell_type": "code",
   "execution_count": 175,
   "metadata": {},
   "outputs": [
    {
     "data": {
      "text/plain": [
       "<igraph.Graph at 0x27ecac54e58>"
      ]
     },
     "execution_count": 175,
     "metadata": {},
     "output_type": "execute_result"
    }
   ],
   "source": [
    "g2.simplify()"
   ]
  },
  {
   "cell_type": "code",
   "execution_count": 176,
   "metadata": {},
   "outputs": [],
   "source": [
    "g2.es['capacity']=1"
   ]
  },
  {
   "cell_type": "code",
   "execution_count": 177,
   "metadata": {},
   "outputs": [
    {
     "data": {
      "text/plain": [
       "'IGRAPH D--- 2002 439597 -- \\n+ attr: capacity (e)'"
      ]
     },
     "execution_count": 177,
     "metadata": {},
     "output_type": "execute_result"
    }
   ],
   "source": [
    "g2.summary()"
   ]
  },
  {
   "cell_type": "code",
   "execution_count": null,
   "metadata": {},
   "outputs": [],
   "source": []
  },
  {
   "cell_type": "code",
   "execution_count": 178,
   "metadata": {},
   "outputs": [],
   "source": [
    "g2_maxflow = g2.maxflow(0, 2001, capacity='capacity')"
   ]
  },
  {
   "cell_type": "code",
   "execution_count": 179,
   "metadata": {},
   "outputs": [
    {
     "data": {
      "text/plain": [
       "917.0"
      ]
     },
     "execution_count": 179,
     "metadata": {},
     "output_type": "execute_result"
    }
   ],
   "source": [
    "g2.maxflow_value(0, 2001, capacity='capacity')"
   ]
  },
  {
   "cell_type": "code",
   "execution_count": 180,
   "metadata": {},
   "outputs": [
    {
     "data": {
      "text/plain": [
       "917.0"
      ]
     },
     "execution_count": 180,
     "metadata": {},
     "output_type": "execute_result"
    }
   ],
   "source": [
    "g2_maxflow.value"
   ]
  },
  {
   "cell_type": "code",
   "execution_count": 181,
   "metadata": {},
   "outputs": [
    {
     "data": {
      "text/plain": [
       "'Clustering with 2002 elements and 2 clusters'"
      ]
     },
     "execution_count": 181,
     "metadata": {},
     "output_type": "execute_result"
    }
   ],
   "source": [
    "g2_maxflow.summary()"
   ]
  },
  {
   "cell_type": "code",
   "execution_count": 182,
   "metadata": {},
   "outputs": [],
   "source": [
    "flows = np.array(g2_maxflow.flow)"
   ]
  },
  {
   "cell_type": "code",
   "execution_count": 183,
   "metadata": {},
   "outputs": [
    {
     "data": {
      "text/plain": [
       "439597"
      ]
     },
     "execution_count": 183,
     "metadata": {},
     "output_type": "execute_result"
    }
   ],
   "source": [
    "len(flows)"
   ]
  },
  {
   "cell_type": "code",
   "execution_count": 184,
   "metadata": {},
   "outputs": [
    {
     "data": {
      "text/plain": [
       "2751"
      ]
     },
     "execution_count": 184,
     "metadata": {},
     "output_type": "execute_result"
    }
   ],
   "source": [
    "len(np.where(flows==1)[0])"
   ]
  },
  {
   "cell_type": "code",
   "execution_count": 185,
   "metadata": {},
   "outputs": [
    {
     "data": {
      "text/plain": [
       "array([0., 1.])"
      ]
     },
     "execution_count": 185,
     "metadata": {},
     "output_type": "execute_result"
    }
   ],
   "source": [
    "np.unique(flows)"
   ]
  },
  {
   "cell_type": "code",
   "execution_count": null,
   "metadata": {},
   "outputs": [],
   "source": []
  },
  {
   "cell_type": "code",
   "execution_count": 274,
   "metadata": {},
   "outputs": [
    {
     "name": "stdout",
     "output_type": "stream",
     "text": [
      "917\n"
     ]
    }
   ],
   "source": [
    "fff=0\n",
    "for i in range(len(flows)):\n",
    "    flow=flows[i]\n",
    "    assert(flow==0 or flow==1)\n",
    "    if(flow==1):\n",
    "        e=g2.es(i)[0]\n",
    "        if e.target==2001:\n",
    "            fff+=1\n",
    "print(fff)"
   ]
  },
  {
   "cell_type": "code",
   "execution_count": 186,
   "metadata": {},
   "outputs": [],
   "source": [
    "start_of_path = [True] * 1000\n",
    "mpc={} \n",
    "for i in range(len(flows)):\n",
    "    flow=flows[i]\n",
    "    assert(flow==0 or flow==1)\n",
    "    if(flow==1):\n",
    "        e=g2.es(i)[0]\n",
    "        if e.source==0 or e.target==2001: continue\n",
    "        src, dst =e.source-1, e.target-1000-1\n",
    "        mpc[src]=dst\n",
    "        start_of_path[dst] = False"
   ]
  },
  {
   "cell_type": "code",
   "execution_count": 187,
   "metadata": {},
   "outputs": [
    {
     "data": {
      "text/plain": [
       "83"
      ]
     },
     "execution_count": 187,
     "metadata": {},
     "output_type": "execute_result"
    }
   ],
   "source": [
    "sum(start_of_path)"
   ]
  },
  {
   "cell_type": "code",
   "execution_count": 188,
   "metadata": {},
   "outputs": [],
   "source": [
    "mpc_paths = []\n",
    "for i in range(1000):\n",
    "    if start_of_path[i]:\n",
    "        curr = [i]\n",
    "        while curr[-1] in mpc:\n",
    "            curr.append(mpc[curr[-1]])\n",
    "        mpc_paths.append(curr)"
   ]
  },
  {
   "cell_type": "code",
   "execution_count": 189,
   "metadata": {},
   "outputs": [],
   "source": [
    "mpc_paths = np.array(mpc_paths)"
   ]
  },
  {
   "cell_type": "code",
   "execution_count": 190,
   "metadata": {},
   "outputs": [
    {
     "data": {
      "text/plain": [
       "array([list([0, 125, 195, 259, 337, 359, 452, 534, 604, 681, 767, 843, 914, 943, 979, 999]),\n",
       "       list([1, 96, 182, 260]), list([2, 92, 183, 266, 305]),\n",
       "       list([3, 162, 212, 326, 421, 522, 596, 656, 723, 815, 849, 902, 948]),\n",
       "       list([4, 161, 236, 318, 384, 462, 512, 561, 636, 743, 807, 835, 897, 922, 962]),\n",
       "       list([5, 146, 272, 369, 448, 540, 627, 700, 761]),\n",
       "       list([6, 158, 228, 303, 367, 501, 571, 618, 677, 708, 803, 862, 945, 981]),\n",
       "       list([7, 157, 232, 341, 445, 537, 573, 615, 670, 739]),\n",
       "       list([8, 156, 277, 364, 400, 493, 603, 680, 736, 793, 850, 905, 957]),\n",
       "       list([9, 149, 241, 316, 409, 446, 480, 517, 560, 606, 675, 702, 781, 836, 918, 959]),\n",
       "       list([10, 148, 242, 373, 422, 495, 587, 671, 712, 796, 854, 906]),\n",
       "       list([11, 140, 203, 283]), list([12, 139, 250]),\n",
       "       list([13, 129, 196, 264]),\n",
       "       list([14, 128, 207, 280, 360, 439, 539, 597, 646, 692, 772, 833, 876, 915, 947]),\n",
       "       list([15, 127, 218, 289, 349, 435, 503, 581, 630, 688, 738, 829, 888]),\n",
       "       list([16, 126, 223, 361, 444, 478, 527, 613, 666, 762]),\n",
       "       list([17, 123, 216, 288, 350, 412, 458, 542, 593, 676, 752, 805]),\n",
       "       list([18, 122, 205, 252, 336, 424, 474, 543, 659, 707, 774, 839, 855, 942, 984]),\n",
       "       list([19, 116, 220, 313, 362, 449, 484, 515, 570, 645, 695, 773, 824, 856, 910, 953]),\n",
       "       list([20, 114, 187, 269, 345, 399, 460, 523, 559, 647, 737, 798, 865, 903, 956]),\n",
       "       list([21, 113, 177, 276, 383, 423, 472, 545, 648, 714, 795, 840, 878, 944]),\n",
       "       list([22, 112, 197, 257, 290, 376, 413, 505, 578, 638, 721, 744, 821, 879, 933, 966]),\n",
       "       list([23, 107, 245, 324]),\n",
       "       list([24, 102, 200, 262, 354, 420, 468, 521, 610, 650, 706, 750, 812, 885, 929]),\n",
       "       list([25, 101, 238, 291, 353, 431, 499, 557, 611, 693, 770, 875, 924]),\n",
       "       list([26, 99, 208, 292, 398, 453, 496, 553, 631, 711, 777]),\n",
       "       list([27, 97, 173, 231, 375, 415, 457, 498, 601, 661, 720, 797, 852, 899]),\n",
       "       list([28, 93, 204, 278, 325, 388, 510, 575, 668, 734, 816, 887, 940, 967]),\n",
       "       list([29, 88, 163, 235, 297, 344, 396, 465, 524, 600, 678, 760, 799, 846, 870, 919, 935, 976, 991]),\n",
       "       list([30, 105, 225, 335, 404, 438, 502, 577, 665, 716, 759, 844, 901, 970, 985]),\n",
       "       list([31, 90, 159, 240, 327, 403, 440, 520, 567, 602, 655, 717, 763, 789, 819, 831, 883]),\n",
       "       list([32, 95, 143, 226, 300]),\n",
       "       list([33, 145, 253, 339, 426, 516, 582, 652, 709, 783]),\n",
       "       list([34, 87, 186, 299, 389, 491, 569, 634, 684, 731, 791, 822, 874, 931, 968, 990]),\n",
       "       list([35, 106, 199, 275, 392, 476, 546, 626, 696, 769, 838, 893, 938, 977, 994]),\n",
       "       list([36, 104, 170, 247, 293, 390, 456, 532, 591, 662, 746, 820, 892, 955]),\n",
       "       list([37, 103, 191, 261, 321, 386, 490, 556, 639, 664, 728, 778, 858, 934, 961, 982, 989, 993]),\n",
       "       list([38, 86, 160, 237, 309, 394, 466, 526, 608, 640, 713, 801, 866, 916, 952]),\n",
       "       list([39, 84, 151, 233, 315, 348, 380, 436, 486, 535, 599, 658, 733, 784, 825, 908, 946]),\n",
       "       list([40, 124, 192, 281, 351, 479, 566, 620, 685, 776]),\n",
       "       list([41, 94, 202, 298, 323, 405, 443, 485, 564, 623, 701, 729, 771, 826, 871]),\n",
       "       list([42, 79, 166, 270, 342, 379, 492, 555, 642, 715, 808, 869, 904, 949]),\n",
       "       list([43, 98, 198, 312, 370, 437, 482, 562, 616, 698, 764, 837, 882, 939, 975, 983, 995]),\n",
       "       list([44, 109, 165, 230, 307]),\n",
       "       list([45, 83, 155, 249, 332, 417, 470, 533, 635, 725, 785, 859]),\n",
       "       list([46, 121, 211, 308, 416, 488, 549, 619, 719, 802, 828, 868, 880]),\n",
       "       list([47, 110, 194, 285, 377, 454, 544, 612, 683, 775, 860, 907, 928, 980, 996]),\n",
       "       list([48, 138, 213, 304, 374, 487, 558, 607, 672, 726, 817]),\n",
       "       list([49, 137, 209, 294]),\n",
       "       list([50, 119, 181, 271, 347, 397, 455, 508, 588, 657, 727, 794, 867, 912, 936]),\n",
       "       list([51, 118, 217, 306, 357, 428, 514, 586, 621, 699, 765, 818, 873, 909, 963]),\n",
       "       list([52, 136, 193, 284, 340, 391, 450, 536, 580, 643, 779]),\n",
       "       list([53, 144, 190, 338, 407, 429, 483, 595, 679, 745, 800, 845, 920, 958]),\n",
       "       list([54, 100, 171, 254, 365, 425, 528, 605, 682, 749, 827, 864, 923, 960]),\n",
       "       list([55, 108, 167, 273, 366, 427, 500, 594, 629, 689, 730, 790, 848]),\n",
       "       list([56, 91, 184, 287, 343, 381, 477, 551, 644, 710, 782]),\n",
       "       list([57, 89, 150, 215, 334, 411, 473, 552, 660, 722, 792, 834, 881, 951, 972, 987, 998]),\n",
       "       list([58, 185, 263, 356, 406, 442, 509, 565, 667, 718, 787, 814, 847, 889, 921, 978, 992]),\n",
       "       list([59, 176, 255, 310, 355, 401, 459, 507, 589, 617, 687, 748, 806, 898, 932, 964]),\n",
       "       list([60, 154, 258, 322, 385, 447, 497, 579, 614, 704, 786]),\n",
       "       list([61, 141, 243, 329, 387, 430, 513, 585, 674, 740, 811, 872, 917, 969]),\n",
       "       list([62, 120, 224, 296]),\n",
       "       list([63, 115, 168, 229, 265, 331, 418, 518, 568, 669, 754, 804, 863, 913, 941]),\n",
       "       list([64, 189, 286, 358, 434, 481, 531, 548, 624, 686, 755]),\n",
       "       list([65, 133, 221, 330, 382, 464, 525, 574, 653, 742]),\n",
       "       list([66, 132, 219, 302, 395, 489, 572, 632, 690, 758, 841, 895, 937, 973, 988, 997]),\n",
       "       list([67, 153, 164, 234, 328, 408, 451, 538, 641, 735, 832, 853]),\n",
       "       list([68, 152, 188, 267, 319]),\n",
       "       list([69, 130, 222, 279, 378, 467, 590, 628, 694, 751, 830, 890, 930, 971]),\n",
       "       list([70, 117, 251, 371, 469, 550, 625, 703, 810, 894, 927, 974]),\n",
       "       list([71, 111, 175, 239, 333, 402, 463, 529, 576, 654, 757, 857, 900, 925, 954, 986]),\n",
       "       list([72, 147, 214, 317, 410, 475, 519, 583, 673, 756, 823, 877]),\n",
       "       list([73, 169, 201, 282, 346, 414, 461, 504, 592, 651, 705, 766]),\n",
       "       list([74, 172, 268, 368, 432, 471, 547, 649, 747, 813, 861, 886, 911, 926, 965]),\n",
       "       list([75, 142, 210, 274, 363, 433, 541, 563, 633, 724, 780, 851, 884]),\n",
       "       list([76, 135, 206, 295, 372, 506, 584, 637, 732, 788, 842, 896]),\n",
       "       list([77, 131, 227, 301]),\n",
       "       list([78, 178, 246, 314, 393, 494, 554, 622, 697, 768]),\n",
       "       list([80, 174, 256, 320, 419, 530, 598, 663, 741, 809, 891, 950]),\n",
       "       list([81, 134, 244, 311, 352, 441, 511, 609, 691, 753]),\n",
       "       list([82, 180]), list([85, 179, 248])], dtype=object)"
      ]
     },
     "execution_count": 190,
     "metadata": {},
     "output_type": "execute_result"
    }
   ],
   "source": [
    "mpc_paths"
   ]
  },
  {
   "cell_type": "code",
   "execution_count": 255,
   "metadata": {},
   "outputs": [
    {
     "name": "stdout",
     "output_type": "stream",
     "text": [
      "True\n",
      "[]\n"
     ]
    }
   ],
   "source": [
    "#sanity check\n",
    "mpc_union=mpc_paths[0]\n",
    "mpc_intersection=mpc_paths[0]\n",
    "for i, mpc_path in enumerate(mpc_paths[1:]):\n",
    "    mpc_union=np.union1d(mpc_union, mpc_path)\n",
    "    mpc_intersection=np.intersect1d(mpc_intersection, mpc_path)\n",
    "print(np.all(mpc_union==[*range(1000)]))\n",
    "print(mpc_intersection)"
   ]
  },
  {
   "cell_type": "code",
   "execution_count": 574,
   "metadata": {},
   "outputs": [
    {
     "data": {
      "image/png": "[encoded data removed]",
      "text/plain": [
       "<Figure size 432x288 with 1 Axes>"
      ]
     },
     "metadata": {
      "needs_background": "light"
     },
     "output_type": "display_data"
    }
   ],
   "source": [
    "plt.plot([len(p) for p in mpc_paths], '-o')\n",
    "plt.yticks([*range(0, 21, 2)])\n",
    "plt.xlabel('Driver number')\n",
    "plt.ylabel('Number of customers')\n",
    "plt.savefig('plots/driver_customers.png', dpi=600, bbox_inches='tight')"
   ]
  },
  {
   "cell_type": "code",
   "execution_count": null,
   "metadata": {},
   "outputs": [],
   "source": [
    "np.union1d()"
   ]
  },
  {
   "cell_type": "code",
   "execution_count": 505,
   "metadata": {},
   "outputs": [],
   "source": [
    "# for i,j in enumerate(path_to_take):\n",
    "#         _,l1,l2 = requests[j]\n",
    "#         locx = gcc.vs[l1]['location']\n",
    "#         locy = gcc.vs[l2]['location']\n",
    "#         f.write(str(locx[0]) + ', ' + str(locx[1]) + ', ' + str(count+1) + ', ' + str(2*i+1) + ', 2\\n')\n",
    "#         f.write(str(locy[0]) + ', ' + str(locy[1]) + ', ' + str(count+1) + ', ' + str(2*i+2) + ', 2\\n')"
   ]
  },
  {
   "cell_type": "code",
   "execution_count": 278,
   "metadata": {},
   "outputs": [],
   "source": [
    "with open('data/requests_multiple_paths.csv', 'w') as f:\n",
    "    f.write('Longitude, Latitude, Line Group (Path ID), Order of Points, Color \\n')\n",
    "    count=0\n",
    "    color=0\n",
    "    for i, mpc_path in enumerate(mpc_paths):\n",
    "        count+=1\n",
    "        color+=1\n",
    "        for j, loc in enumerate(mpc_path):\n",
    "            _,l1,l2 = requests[loc]\n",
    "            locx = gcc.vs[l1]['location']\n",
    "            locy = gcc.vs[l2]['location']\n",
    "            f.write(str(locx[0]) + ', ' + str(locx[1]) + ', ' + str(count) + ', ' + str(2*j+1) + ', ' + str(color)+' \\n')\n",
    "            f.write(str(locy[0]) + ', ' + str(locy[1]) + ', ' + str(count) + ', ' + str(2*j+2) + ', ' + str(color)+' \\n')\n",
    "    for i,j,k in requests:\n",
    "        locx = gcc.vs[j]['location']\n",
    "        locy = gcc.vs[k]['location']\n",
    "        count+=1\n",
    "        f.write(str(locx[0]) + ', ' + str(locx[1]) + ', ' + str(count) + ', ' + str(1) + ', ' + str(color+1) + ' \\n')\n",
    "        f.write(str(locy[0]) + ', ' + str(locy[1]) + ', ' + str(count) + ', ' + str(2) + ', ' + str(color+1) + ' \\n')"
   ]
  },
  {
   "cell_type": "code",
   "execution_count": null,
   "metadata": {},
   "outputs": [],
   "source": []
  },
  {
   "cell_type": "code",
   "execution_count": 280,
   "metadata": {},
   "outputs": [],
   "source": [
    "max_wait_times=[]\n",
    "for mpc_path in mpc_paths:\n",
    "    max_wait_time=-1e18\n",
    "    for k in range(len(mpc_path)-1):\n",
    "        i=mpc_path[k]\n",
    "        j=mpc_path[k+1]\n",
    "        t1, t2 = requests[i, 0], requests[j, 0]\n",
    "        src1, dst1 = requests[i, 1], requests[i, 2]\n",
    "        src2, dst2 = requests[j, 1], requests[j, 2]\n",
    "        arriv_at_2 = t1+gcc_distances[src1][dst1]/60+gcc_distances[dst1][src2]/60\n",
    "        #print(arriv_at_2, t2+delta)\n",
    "        assert(arriv_at_2 <= t2+delta)\n",
    "        max_wait_time=max(max_wait_time, arriv_at_2-t2)\n",
    "    max_wait_times.append(max_wait_time)"
   ]
  },
  {
   "cell_type": "code",
   "execution_count": 281,
   "metadata": {},
   "outputs": [
    {
     "data": {
      "text/plain": [
       "4.9583333333332575"
      ]
     },
     "execution_count": 281,
     "metadata": {},
     "output_type": "execute_result"
    }
   ],
   "source": [
    "max(max_wait_times)"
   ]
  },
  {
   "cell_type": "code",
   "execution_count": 576,
   "metadata": {},
   "outputs": [
    {
     "data": {
      "image/png": "[encoded data removed]",
      "text/plain": [
       "<Figure size 432x288 with 1 Axes>"
      ]
     },
     "metadata": {
      "needs_background": "light"
     },
     "output_type": "display_data"
    }
   ],
   "source": [
    "plt.plot(max_wait_times, '-o')\n",
    "plt.ylim([min(max_wait_times)-1, delta+1])\n",
    "plt.yticks(range(int(min(max_wait_times)-1),delta+3, 2))\n",
    "plt.xlabel('Driver number')\n",
    "plt.ylabel('Maximum Wait Time in Path/ (min)')\n",
    "plt.ylim([-20, 7])\n",
    "# ticks=[*range(-60,11,10)]\n",
    "# ticks.append(5)\n",
    "# plt.yticks(ticks)\n",
    "plt.plot([0, 84],[5,5], '--r')\n",
    "plt.savefig('plots/hist_wait_times2.png', dpi=600, bbox_inches='tight')"
   ]
  },
  {
   "cell_type": "code",
   "execution_count": null,
   "metadata": {},
   "outputs": [],
   "source": []
  },
  {
   "cell_type": "markdown",
   "metadata": {},
   "source": [
    "### Subtask 3"
   ]
  },
  {
   "cell_type": "code",
   "execution_count": null,
   "metadata": {},
   "outputs": [],
   "source": []
  },
  {
   "cell_type": "code",
   "execution_count": 450,
   "metadata": {},
   "outputs": [],
   "source": [
    "D1=50"
   ]
  },
  {
   "cell_type": "code",
   "execution_count": 451,
   "metadata": {},
   "outputs": [],
   "source": [
    "n31=2002"
   ]
  },
  {
   "cell_type": "code",
   "execution_count": 487,
   "metadata": {},
   "outputs": [],
   "source": [
    "def edge_type(e):\n",
    "    i,j=e\n",
    "    if i==0:\n",
    "        return 'source'\n",
    "    elif j==2001:\n",
    "        return 'sink'\n",
    "    elif (j==i+1) and i%2==1:\n",
    "        return 'internal'\n",
    "    else:\n",
    "        return 'external'"
   ]
  },
  {
   "cell_type": "code",
   "execution_count": 453,
   "metadata": {},
   "outputs": [],
   "source": [
    "# g3_edges=[]\n",
    "# edge_id={}\n",
    "# for v in g1.vs():\n",
    "#     i=v.index\n",
    "#     if v.degree(mode='IN') == 0:\n",
    "#         g3_edges.append((0, i*2+1))\n",
    "#     if v.degree(mode='OUT') == 0:\n",
    "#         g3_edges.append((i*2+2, 2001))\n",
    "#     g3_edges.append((i*2+1, i*2+2))\n",
    "# for e in g1.es():\n",
    "#     i, j=e.source, e.target\n",
    "#     g3_edges.append((i*2+2, j*2+1))\n",
    "# g3_edges.append((2001,0))\n",
    "# for i, e in enumerate(g3_edges):\n",
    "#     edge_id[e]=i\n",
    "# e3=len(g3_edges)"
   ]
  },
  {
   "cell_type": "code",
   "execution_count": 456,
   "metadata": {},
   "outputs": [],
   "source": [
    "g3_edges1=[]\n",
    "edge_id1={}\n",
    "for v in g1.vs():\n",
    "    i=v.index\n",
    "    g3_edges1.append((0, i*2+1))\n",
    "    g3_edges1.append((i*2+2, 2001))\n",
    "    g3_edges1.append((i*2+1, i*2+2))\n",
    "for e in g1.es():\n",
    "    i, j=e.source, e.target\n",
    "    g3_edges1.append((i*2+2, j*2+1))\n",
    "g3_edges1.append((2001,0))\n",
    "for i, e in enumerate(g3_edges1):\n",
    "    edge_id1[e]=i\n",
    "e31=len(g3_edges1)"
   ]
  },
  {
   "cell_type": "code",
   "execution_count": 457,
   "metadata": {},
   "outputs": [],
   "source": [
    "M1=np.zeros((e31,n31))\n",
    "c1=np.ones((e31,1))\n",
    "c1[-1]=10000\n",
    "a1=np.zeros((e31,1))\n",
    "e_n1=np.zeros((e31,1))\n",
    "e_n1[-1]=1\n",
    "\n",
    "for i in range(1000):\n",
    "    a1[edge_id1[(i*2+1,i*2+2)]]=-1\n",
    "for i,e in enumerate(g3_edges1):\n",
    "    j, k=e\n",
    "    M1[i,j]=-1\n",
    "    M1[i,k]=1"
   ]
  },
  {
   "cell_type": "code",
   "execution_count": 458,
   "metadata": {},
   "outputs": [],
   "source": [
    "#import pickle"
   ]
  },
  {
   "cell_type": "code",
   "execution_count": 462,
   "metadata": {},
   "outputs": [
    {
     "name": "stdout",
     "output_type": "stream",
     "text": [
      "440605\n"
     ]
    }
   ],
   "source": [
    "print(e31)"
   ]
  },
  {
   "cell_type": "code",
   "execution_count": 463,
   "metadata": {},
   "outputs": [],
   "source": [
    "# g3_pickle={}\n",
    "# g3_pickle['n3']=n3\n",
    "# g3_pickle['e3']=e3\n",
    "# g3_pickle['edge_id']=edge_id\n",
    "# g3_pickle['g3_edges']=g3_edges\n",
    "# g3_pickle['c']=c\n",
    "# g3_pickle['a']=a\n",
    "# g3_pickle['e_n']=e_n\n",
    "# pickle.dump(g3_pickle, open(\"data/g3_1.pkl\", \"wb\" ))"
   ]
  },
  {
   "cell_type": "code",
   "execution_count": 464,
   "metadata": {},
   "outputs": [],
   "source": [
    "# f1 = cp.Variable((e31,1), integer=True)\n",
    "# constraints1 = [M1.T@f1<=0, f1>=0, e_n1.T@f1<=D1, e_n1.T@f1>=D1, f1<=c1]\n",
    "# obj1 = cp.Minimize(a1.T@f1)\n",
    "# prob1 = cp.Problem(obj1, constraints1)\n",
    "# prob1.solve(verbose=True)"
   ]
  },
  {
   "cell_type": "code",
   "execution_count": 465,
   "metadata": {},
   "outputs": [],
   "source": [
    "#f1.value"
   ]
  },
  {
   "cell_type": "code",
   "execution_count": null,
   "metadata": {},
   "outputs": [],
   "source": []
  },
  {
   "cell_type": "markdown",
   "metadata": {},
   "source": [
    "### To save time, the linear program was exported, solved in a UCLA server and loaded back to this program (server code is in Subtask3.ipynb)"
   ]
  },
  {
   "cell_type": "code",
   "execution_count": 484,
   "metadata": {},
   "outputs": [],
   "source": [
    "with open(\"data/g3_1_f.pkl\", \"rb\" ) as f:\n",
    "    f1_pickle=pickle.load(f)"
   ]
  },
  {
   "cell_type": "code",
   "execution_count": 491,
   "metadata": {},
   "outputs": [],
   "source": [
    "f1=f1_pickle['f'][:-1]"
   ]
  },
  {
   "cell_type": "code",
   "execution_count": 492,
   "metadata": {},
   "outputs": [
    {
     "data": {
      "text/plain": [
       "[<matplotlib.lines.Line2D at 0x27ee39f7dc8>]"
      ]
     },
     "execution_count": 492,
     "metadata": {},
     "output_type": "execute_result"
    },
    {
     "data": {
      "image/png": "[encoded data removed]",
      "text/plain": [
       "<Figure size 432x288 with 1 Axes>"
      ]
     },
     "metadata": {
      "needs_background": "light"
     },
     "output_type": "display_data"
    }
   ],
   "source": [
    "plt.plot(f1)"
   ]
  },
  {
   "cell_type": "code",
   "execution_count": null,
   "metadata": {},
   "outputs": [],
   "source": []
  },
  {
   "cell_type": "code",
   "execution_count": 493,
   "metadata": {},
   "outputs": [],
   "source": [
    "start_of_path3 = [True] * 1000\n",
    "mpc3={} \n",
    "for i in range(len(f1)):\n",
    "    flow=f1[i]\n",
    "    assert(flow==0 or flow==1)\n",
    "    if(flow==1 and edge_type(g3_edges1[i])=='external'):\n",
    "        e=g3_edges1[i]\n",
    "        src, dst =(e[0]-2)//2, (e[1]-1)//2\n",
    "        mpc3[src]=dst\n",
    "        start_of_path3[dst] = False"
   ]
  },
  {
   "cell_type": "code",
   "execution_count": 495,
   "metadata": {},
   "outputs": [
    {
     "data": {
      "text/plain": [
       "156"
      ]
     },
     "execution_count": 495,
     "metadata": {},
     "output_type": "execute_result"
    }
   ],
   "source": [
    "sum(start_of_path3)"
   ]
  },
  {
   "cell_type": "code",
   "execution_count": 499,
   "metadata": {},
   "outputs": [],
   "source": [
    "mpc_paths3 = []\n",
    "for i in range(1000):\n",
    "    if start_of_path3[i]:\n",
    "        curr = [i]\n",
    "        while curr[-1] in mpc3:\n",
    "            curr.append(mpc3[curr[-1]])\n",
    "        if(len(curr)>1):\n",
    "            mpc_paths3.append(curr)"
   ]
  },
  {
   "cell_type": "code",
   "execution_count": 500,
   "metadata": {},
   "outputs": [],
   "source": [
    "mpc_paths3 = np.array(mpc_paths3)"
   ]
  },
  {
   "cell_type": "code",
   "execution_count": 501,
   "metadata": {},
   "outputs": [
    {
     "data": {
      "text/plain": [
       "50"
      ]
     },
     "execution_count": 501,
     "metadata": {},
     "output_type": "execute_result"
    }
   ],
   "source": [
    "len(mpc_paths3)"
   ]
  },
  {
   "cell_type": "code",
   "execution_count": 502,
   "metadata": {},
   "outputs": [
    {
     "data": {
      "text/plain": [
       "array([list([0, 125, 195, 259, 337, 359, 452, 534, 604, 681, 767, 843, 914, 943, 979, 999]),\n",
       "       list([1, 96, 182, 260]), list([2, 92, 183, 266, 305]),\n",
       "       list([3, 162, 212, 326, 421, 522, 596, 656, 723, 815, 849, 902, 948]),\n",
       "       list([4, 161, 236, 318, 384, 462, 512, 561, 636, 743, 807, 835, 897, 922, 962]),\n",
       "       list([5, 146, 272, 369, 448, 540, 627, 700, 761]),\n",
       "       list([6, 158, 228, 303, 367, 501, 571, 618, 677, 708, 803, 862, 945, 981]),\n",
       "       list([7, 157, 232, 341, 445, 537, 573, 615, 670, 739]),\n",
       "       list([8, 156, 277, 364, 400, 493, 603, 680, 736, 793, 850, 905, 957]),\n",
       "       list([9, 149, 241, 316, 409, 446, 480, 517, 560, 606, 675, 702, 781, 836, 918, 959]),\n",
       "       list([10, 148, 242, 373, 422, 495, 587, 671, 712, 796, 854, 906]),\n",
       "       list([11, 140, 203, 283]), list([12, 139, 250]),\n",
       "       list([13, 129, 196, 264]),\n",
       "       list([14, 128, 207, 280, 360, 439, 539, 597, 646, 692, 772, 833, 876, 915, 947]),\n",
       "       list([15, 127, 218, 289, 349, 435, 503, 581, 630, 688, 738, 829, 888]),\n",
       "       list([16, 126, 223, 361, 444, 478, 527, 613, 666, 762]),\n",
       "       list([17, 123, 216, 288, 350, 412, 458, 542, 593, 676, 752, 805]),\n",
       "       list([18, 122, 205, 252, 336, 424, 474, 543, 659, 707, 774, 839, 855, 942, 984]),\n",
       "       list([19, 116, 220, 313, 362, 449, 484, 515, 570, 645, 695, 773, 824, 856, 910, 953]),\n",
       "       list([20, 114, 187, 269, 345, 399, 460, 523, 559, 647, 737, 798, 865, 903, 956]),\n",
       "       list([21, 113, 177, 276, 383, 423, 472, 545, 648, 714, 795, 840, 878, 944]),\n",
       "       list([22, 112, 197, 257, 290, 376, 413, 505, 578, 638, 721, 744, 821, 879, 933, 966]),\n",
       "       list([23, 107, 245, 324]),\n",
       "       list([24, 102, 200, 262, 354, 420, 468, 521, 610, 650, 706, 750, 812, 885, 929]),\n",
       "       list([25, 101, 238, 291, 353, 431, 499, 557, 611, 693, 770, 875, 924]),\n",
       "       list([26, 99, 208, 292, 398, 453, 496, 553, 631, 711, 777]),\n",
       "       list([27, 97, 173, 231, 375, 415, 457, 498, 601, 661, 720, 797, 852, 899]),\n",
       "       list([28, 93, 204, 278, 325, 388, 510, 575, 668, 734, 816, 887, 940, 967]),\n",
       "       list([29, 88, 163, 235, 297, 344, 396, 465, 524, 600, 678, 760, 799, 846, 870, 919, 935, 976, 991]),\n",
       "       list([30, 105, 225, 335, 404, 438, 502, 577, 665, 716, 759, 844, 901, 970, 985]),\n",
       "       list([31, 90, 159, 240, 327, 403, 440, 520, 567, 602, 655, 717, 763, 789, 819, 831, 883]),\n",
       "       list([32, 95, 143, 226, 300]),\n",
       "       list([33, 145, 253, 339, 426, 516, 582, 652, 709, 783]),\n",
       "       list([34, 87, 186, 299, 389, 491, 569, 634, 684, 731, 791, 822, 874, 931, 968, 990]),\n",
       "       list([35, 106, 199, 275, 392, 476, 546, 626, 696, 769, 838, 893, 938, 977, 994]),\n",
       "       list([36, 104, 170, 247, 293, 390, 456, 532, 591, 662, 746, 820, 892, 955]),\n",
       "       list([37, 103, 191, 261, 321, 386, 490, 556, 639, 664, 728, 778, 858, 934, 961, 982, 989, 993]),\n",
       "       list([38, 86, 160, 237, 309, 394, 466, 526, 608, 640, 713, 801, 866, 916, 952]),\n",
       "       list([39, 84, 151, 233, 315, 348, 380, 436, 486, 535, 599, 658, 733, 784, 825, 908, 946]),\n",
       "       list([40, 124, 192, 281, 351, 479, 566, 620, 685, 776]),\n",
       "       list([41, 94, 202, 298, 323, 405, 443, 485, 564, 623, 701, 729, 771, 826, 871]),\n",
       "       list([42, 79, 166, 270, 342, 379, 492, 555, 642, 715, 808, 869, 904, 949]),\n",
       "       list([43, 98, 198, 312, 370, 437, 482, 562, 616, 698, 764, 837, 882, 939, 975, 983, 995]),\n",
       "       list([44, 109, 165, 230, 307]),\n",
       "       list([45, 83, 155, 249, 332, 417, 470, 533, 635, 725, 785, 859]),\n",
       "       list([46, 121, 211, 308, 416, 488, 549, 619, 719, 802, 828, 868, 880]),\n",
       "       list([47, 110, 194, 285, 377, 454, 544, 612, 683, 775, 860, 907, 928, 980, 996]),\n",
       "       list([48, 138, 213, 304, 374, 487, 558, 607, 672, 726, 817]),\n",
       "       list([49, 137, 209, 294]),\n",
       "       list([50, 119, 181, 271, 347, 397, 455, 508, 588, 657, 727, 794, 867, 912, 936]),\n",
       "       list([51, 118, 217, 306, 357, 428, 514, 586, 621, 699, 765, 818, 873, 909, 963]),\n",
       "       list([52, 136, 193, 284, 340, 391, 450, 536, 580, 643, 779]),\n",
       "       list([53, 144, 190, 338, 407, 429, 483, 595, 679, 745, 800, 845, 920, 958]),\n",
       "       list([54, 100, 171, 254, 365, 425, 528, 605, 682, 749, 827, 864, 923, 960]),\n",
       "       list([55, 108, 167, 273, 366, 427, 500, 594, 629, 689, 730, 790, 848]),\n",
       "       list([56, 91, 184, 287, 343, 381, 477, 551, 644, 710, 782]),\n",
       "       list([57, 89, 150, 215, 334, 411, 473, 552, 660, 722, 792, 834, 881, 951, 972, 987, 998]),\n",
       "       list([58, 185, 263, 356, 406, 442, 509, 565, 667, 718, 787, 814, 847, 889, 921, 978, 992]),\n",
       "       list([59, 176, 255, 310, 355, 401, 459, 507, 589, 617, 687, 748, 806, 898, 932, 964]),\n",
       "       list([60, 154, 258, 322, 385, 447, 497, 579, 614, 704, 786]),\n",
       "       list([61, 141, 243, 329, 387, 430, 513, 585, 674, 740, 811, 872, 917, 969]),\n",
       "       list([62, 120, 224, 296]),\n",
       "       list([63, 115, 168, 229, 265, 331, 418, 518, 568, 669, 754, 804, 863, 913, 941]),\n",
       "       list([64, 189, 286, 358, 434, 481, 531, 548, 624, 686, 755]),\n",
       "       list([65, 133, 221, 330, 382, 464, 525, 574, 653, 742]),\n",
       "       list([66, 132, 219, 302, 395, 489, 572, 632, 690, 758, 841, 895, 937, 973, 988, 997]),\n",
       "       list([67, 153, 164, 234, 328, 408, 451, 538, 641, 735, 832, 853]),\n",
       "       list([68, 152, 188, 267, 319]),\n",
       "       list([69, 130, 222, 279, 378, 467, 590, 628, 694, 751, 830, 890, 930, 971]),\n",
       "       list([70, 117, 251, 371, 469, 550, 625, 703, 810, 894, 927, 974]),\n",
       "       list([71, 111, 175, 239, 333, 402, 463, 529, 576, 654, 757, 857, 900, 925, 954, 986]),\n",
       "       list([72, 147, 214, 317, 410, 475, 519, 583, 673, 756, 823, 877]),\n",
       "       list([73, 169, 201, 282, 346, 414, 461, 504, 592, 651, 705, 766]),\n",
       "       list([74, 172, 268, 368, 432, 471, 547, 649, 747, 813, 861, 886, 911, 926, 965]),\n",
       "       list([75, 142, 210, 274, 363, 433, 541, 563, 633, 724, 780, 851, 884]),\n",
       "       list([76, 135, 206, 295, 372, 506, 584, 637, 732, 788, 842, 896]),\n",
       "       list([77, 131, 227, 301]),\n",
       "       list([78, 178, 246, 314, 393, 494, 554, 622, 697, 768]),\n",
       "       list([80, 174, 256, 320, 419, 530, 598, 663, 741, 809, 891, 950]),\n",
       "       list([81, 134, 244, 311, 352, 441, 511, 609, 691, 753]),\n",
       "       list([82, 180]), list([85, 179, 248])], dtype=object)"
      ]
     },
     "execution_count": 502,
     "metadata": {},
     "output_type": "execute_result"
    }
   ],
   "source": [
    "mpc_paths"
   ]
  },
  {
   "cell_type": "code",
   "execution_count": 504,
   "metadata": {},
   "outputs": [
    {
     "name": "stdout",
     "output_type": "stream",
     "text": [
      "894\n",
      "[]\n"
     ]
    }
   ],
   "source": [
    "#sanity check\n",
    "mpc_union3=mpc_paths3[0]\n",
    "mpc_intersection3=mpc_paths3[0]\n",
    "for i, mpc_path3 in enumerate(mpc_paths3[1:]):\n",
    "    mpc_union3=np.union1d(mpc_union3, mpc_path3)\n",
    "    mpc_intersection3=np.intersect1d(mpc_intersection3, mpc_path3)\n",
    "print(len(mpc_union3))\n",
    "print(mpc_intersection3)"
   ]
  },
  {
   "cell_type": "code",
   "execution_count": 507,
   "metadata": {},
   "outputs": [],
   "source": [
    "with open('data/requests_multiple_paths_50_drivers.csv', 'w') as f:\n",
    "    f.write('Longitude, Latitude, Line Group (Path ID), Order of Points, Color, Covered \\n')\n",
    "    count=0\n",
    "    color=0\n",
    "    for i, mpc_path in enumerate(mpc_paths3):\n",
    "        count+=1\n",
    "        color+=1\n",
    "        for j, loc in enumerate(mpc_path):\n",
    "            _,l1,l2 = requests[loc]\n",
    "            locx = gcc.vs[l1]['location']\n",
    "            locy = gcc.vs[l2]['location']\n",
    "            f.write(str(locx[0]) + ', ' + str(locx[1]) + ', ' + str(count) + ', ' + str(2*j+1) + ', ' + str(color)+', ' + str(1)+' \\n')\n",
    "            f.write(str(locy[0]) + ', ' + str(locy[1]) + ', ' + str(count) + ', ' + str(2*j+2) + ', ' + str(color)+', ' + str(1)+' \\n')\n",
    "    for i,j,k in requests:\n",
    "        locx = gcc.vs[j]['location']\n",
    "        locy = gcc.vs[k]['location']\n",
    "        count+=1\n",
    "        f.write(str(locx[0]) + ', ' + str(locx[1]) + ', ' + str(count) + ', ' + str(1) + ', ' + str(color+1) + ', ' + str(2)+' \\n')\n",
    "        f.write(str(locy[0]) + ', ' + str(locy[1]) + ', ' + str(count) + ', ' + str(2) + ', ' + str(color+1) + ', ' + str(2)+' \\n')"
   ]
  },
  {
   "cell_type": "code",
   "execution_count": 578,
   "metadata": {},
   "outputs": [
    {
     "data": {
      "image/png": "[encoded data removed]",
      "text/plain": [
       "<Figure size 432x288 with 1 Axes>"
      ]
     },
     "metadata": {
      "needs_background": "light"
     },
     "output_type": "display_data"
    }
   ],
   "source": [
    "plt.plot([len(p) for p in mpc_paths3], '-o')\n",
    "plt.ylim([0, 28])\n",
    "plt.yticks([*range(0, 28, 2)])\n",
    "plt.xlabel('Driver number')\n",
    "plt.ylabel('Number of customers')\n",
    "plt.savefig('plots/50_drivers_customers.png', dpi=600, bbox_inches='tight')"
   ]
  },
  {
   "cell_type": "code",
   "execution_count": null,
   "metadata": {},
   "outputs": [],
   "source": []
  },
  {
   "cell_type": "code",
   "execution_count": null,
   "metadata": {},
   "outputs": [],
   "source": []
  },
  {
   "cell_type": "code",
   "execution_count": null,
   "metadata": {},
   "outputs": [],
   "source": []
  },
  {
   "cell_type": "code",
   "execution_count": 534,
   "metadata": {},
   "outputs": [],
   "source": [
    "with open(\"data/g3_f_pickle.pkl\", \"rb\" ) as f:\n",
    "    fseries_pickle=pickle.load(f)"
   ]
  },
  {
   "cell_type": "code",
   "execution_count": 535,
   "metadata": {},
   "outputs": [
    {
     "data": {
      "text/plain": [
       "dict_keys(['50', '55', '60', '65', '70', '75', '80', '81', '82', '83', '85', 'Ds', '50_v', '55_v', '60_v', '65_v', '70_v', '75_v', '80_v', '81_v', '82_v', '83_v', '85_v'])"
      ]
     },
     "execution_count": 535,
     "metadata": {},
     "output_type": "execute_result"
    }
   ],
   "source": [
    "fseries_pickle.keys()"
   ]
  },
  {
   "cell_type": "code",
   "execution_count": 584,
   "metadata": {},
   "outputs": [
    {
     "data": {
      "image/png": "[encoded data removed]",
      "text/plain": [
       "<Figure size 720x360 with 1 Axes>"
      ]
     },
     "metadata": {
      "needs_background": "light"
     },
     "output_type": "display_data"
    }
   ],
   "source": [
    "plt.figure(figsize=(10,5))\n",
    "n_covered_requests = [fseries_pickle[str(d)+'_v'] for d in fseries_pickle['Ds']]\n",
    "plt.plot(fseries_pickle['Ds'], n_covered_requests, '-o')\n",
    "plt.plot([50,85],[1000,1000],'--g')\n",
    "plt.plot([83,83],[800,1000],'--', color='orange')\n",
    "plt.ylim([890, 1010])\n",
    "plt.xlabel('No. of Available Drivers', fontsize='15')\n",
    "plt.ylabel('No. of Requests Satisfiable', fontsize='15')\n",
    "plt.xticks(np.concatenate([np.arange(50,81,5), [81,82,83,85]]))\n",
    "plt.savefig('plots/n_requests_n_drivers.png', dpi=600, bbox_inches='tight')"
   ]
  },
  {
   "cell_type": "code",
   "execution_count": null,
   "metadata": {},
   "outputs": [],
   "source": []
  }
 ],
 "metadata": {
  "kernelspec": {
   "display_name": "Python 3",
   "language": "python",
   "name": "python3"
  },
  "language_info": {
   "codemirror_mode": {
    "name": "ipython",
    "version": 3
   },
   "file_extension": ".py",
   "mimetype": "text/x-python",
   "name": "python",
   "nbconvert_exporter": "python",
   "pygments_lexer": "ipython3",
   "version": "3.7.5"
  }
 },
 "nbformat": 4,
 "nbformat_minor": 4
}
