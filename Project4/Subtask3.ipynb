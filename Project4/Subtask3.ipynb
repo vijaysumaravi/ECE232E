{
 "cells": [
  {
   "cell_type": "code",
   "execution_count": 1,
   "metadata": {},
   "outputs": [],
   "source": [
    "import pickle\n",
    "import cvxpy as cp\n",
    "import numpy as np\n",
    "import cvxopt"
   ]
  },
  {
   "cell_type": "code",
   "execution_count": 2,
   "metadata": {},
   "outputs": [],
   "source": [
    "with open('data/g3_1.pkl', 'rb') as f:\n",
    "    g3_pickle=pickle.load(f)"
   ]
  },
  {
   "cell_type": "code",
   "execution_count": 3,
   "metadata": {},
   "outputs": [],
   "source": [
    "n3=g3_pickle['n3']\n",
    "e3=g3_pickle['e3']\n",
    "edge_id=g3_pickle['edge_id']\n",
    "g3_edges=g3_pickle['g3_edges']\n",
    "c=g3_pickle['c']\n",
    "a=g3_pickle['a']\n",
    "e_n=g3_pickle['e_n']"
   ]
  },
  {
   "cell_type": "code",
   "execution_count": 4,
   "metadata": {},
   "outputs": [],
   "source": [
    "M=np.zeros((e3,n3))\n",
    "c=np.ones((e3,1))\n",
    "c[-1]=1000\n",
    "a=np.zeros((e3,1))\n",
    "e_n=np.zeros((e3,1))\n",
    "e_n[-1]=1\n",
    "\n",
    "for i in range(1000):\n",
    "    a[edge_id[(i*2+1,i*2+2)]]=-1\n",
    "for i,e in enumerate(g3_edges):\n",
    "    j, k=e\n",
    "    M[i,j]=-1\n",
    "    M[i,k]=1"
   ]
  },
  {
   "cell_type": "code",
   "execution_count": 5,
   "metadata": {},
   "outputs": [],
   "source": [
    "D=50"
   ]
  },
  {
   "cell_type": "code",
   "execution_count": 8,
   "metadata": {},
   "outputs": [
    {
     "data": {
      "text/plain": [
       "-894.0"
      ]
     },
     "execution_count": 8,
     "metadata": {},
     "output_type": "execute_result"
    }
   ],
   "source": [
    "f = cp.Variable((e3,1), integer=True)\n",
    "constraints = [M.T@f<=0, f>=0, e_n.T@f<=D, e_n.T@f>=D, f<=c]\n",
    "obj = cp.Minimize(a.T@f)\n",
    "prob = cp.Problem(obj, constraints)\n",
    "prob.solve(verbose=True)"
   ]
  },
  {
   "cell_type": "code",
   "execution_count": 21,
   "metadata": {},
   "outputs": [
    {
     "data": {
      "text/plain": [
       "array([[ 1.],\n",
       "       [ 0.],\n",
       "       [ 1.],\n",
       "       ...,\n",
       "       [ 1.],\n",
       "       [ 0.],\n",
       "       [50.]])"
      ]
     },
     "execution_count": 21,
     "metadata": {},
     "output_type": "execute_result"
    }
   ],
   "source": [
    "f.value"
   ]
  },
  {
   "cell_type": "code",
   "execution_count": 19,
   "metadata": {},
   "outputs": [],
   "source": [
    "fv=f.value"
   ]
  },
  {
   "cell_type": "code",
   "execution_count": 14,
   "metadata": {},
   "outputs": [],
   "source": [
    "g3_1_f={'f':f.value}\n",
    "pickle.dump(g3_1_f, open('data/g3_1_f.pkl', 'wb'))"
   ]
  },
  {
   "cell_type": "code",
   "execution_count": 26,
   "metadata": {},
   "outputs": [
    {
     "data": {
      "text/plain": [
       "440605"
      ]
     },
     "execution_count": 26,
     "metadata": {},
     "output_type": "execute_result"
    }
   ],
   "source": [
    "len(fv)"
   ]
  },
  {
   "cell_type": "code",
   "execution_count": null,
   "metadata": {},
   "outputs": [],
   "source": []
  },
  {
   "cell_type": "code",
   "execution_count": 18,
   "metadata": {},
   "outputs": [
    {
     "data": {
      "text/plain": [
       "array([50, 55, 60, 65, 70, 75, 80, 81, 82, 83, 85])"
      ]
     },
     "execution_count": 18,
     "metadata": {},
     "output_type": "execute_result"
    }
   ],
   "source": [
    "Ds=np.concatenate([np.arange(50,81,5), [81, 82, 83, 85]])\n",
    "Ds"
   ]
  },
  {
   "cell_type": "code",
   "execution_count": 27,
   "metadata": {},
   "outputs": [
    {
     "name": "stdout",
     "output_type": "stream",
     "text": [
      "-894.0\n",
      "-926.0\n",
      "-952.0\n",
      "-973.0\n",
      "-987.0\n",
      "-992.0\n",
      "-997.0\n",
      "-998.0\n",
      "-999.0\n",
      "-1000.0\n",
      "-1000.0\n"
     ]
    }
   ],
   "source": [
    "g3_f_pickle={}\n",
    "for d in Ds:\n",
    "    f = cp.Variable((e3,1), integer=True)\n",
    "    constraints = [M.T@f<=0, f>=0, e_n.T@f<=d, e_n.T@f>=d, f<=c]\n",
    "    obj = cp.Minimize(a.T@f)\n",
    "    prob = cp.Problem(obj, constraints)\n",
    "    prob.solve(verbose=True)\n",
    "    print(prob.value)\n",
    "    g3_f_pickle[str(d)]=f.value\n",
    "pickle.dump(g3_f_pickle, open('data/g3_f_pickle.pkl', 'wb'))"
   ]
  },
  {
   "cell_type": "code",
   "execution_count": 33,
   "metadata": {},
   "outputs": [],
   "source": [
    "g3_f_pickle['Ds']=Ds\n",
    "p_values=[894,926,952,973,987,992,997,998,999,1000,1000]\n",
    "for i,d in enumerate(Ds):\n",
    "    g3_f_pickle[str(d)+'_v']=p_values[i]"
   ]
  },
  {
   "cell_type": "code",
   "execution_count": 34,
   "metadata": {},
   "outputs": [
    {
     "data": {
      "text/plain": [
       "dict_keys(['50', '55', '60', '65', '70', '75', '80', '81', '82', '83', '85', 'Ds', '50_v', '55_v', '60_v', '65_v', '70_v', '75_v', '80_v', '81_v', '82_v', '83_v', '85_v'])"
      ]
     },
     "execution_count": 34,
     "metadata": {},
     "output_type": "execute_result"
    }
   ],
   "source": [
    "g3_f_pickle.keys()"
   ]
  },
  {
   "cell_type": "code",
   "execution_count": 35,
   "metadata": {},
   "outputs": [],
   "source": [
    "pickle.dump(g3_f_pickle, open('data/g3_f_pickle.pkl', 'wb'))"
   ]
  },
  {
   "cell_type": "code",
   "execution_count": null,
   "metadata": {},
   "outputs": [],
   "source": []
  },
  {
   "cell_type": "code",
   "execution_count": null,
   "metadata": {},
   "outputs": [],
   "source": []
  },
  {
   "cell_type": "code",
   "execution_count": null,
   "metadata": {},
   "outputs": [],
   "source": []
  },
  {
   "cell_type": "code",
   "execution_count": 54,
   "metadata": {},
   "outputs": [],
   "source": [
    "with open('data/g3.pkl', 'rb') as f:\n",
    "    g3_pickle=pickle.load(f)"
   ]
  },
  {
   "cell_type": "code",
   "execution_count": 55,
   "metadata": {},
   "outputs": [],
   "source": [
    "n3=g3_pickle['n3']\n",
    "e3=g3_pickle['e3']\n",
    "edge_id=g3_pickle['edge_id']\n",
    "g3_edges=g3_pickle['g3_edges']\n",
    "c=g3_pickle['c']\n",
    "a=g3_pickle['a']\n",
    "e_n=g3_pickle['e_n']"
   ]
  },
  {
   "cell_type": "code",
   "execution_count": 56,
   "metadata": {},
   "outputs": [],
   "source": [
    "M=np.zeros((e3,n3))\n",
    "c=np.ones((e3,1))\n",
    "c[-1]=1000\n",
    "a=np.zeros((e3,1))\n",
    "e_n=np.zeros((e3,1))\n",
    "e_n[-1]=1\n",
    "\n",
    "for i in range(1000):\n",
    "    a[edge_id[(i*2+1,i*2+2)]]=-1\n",
    "for i,e in enumerate(g3_edges):\n",
    "    j, k=e\n",
    "    M[i,j]=-1\n",
    "    M[i,k]=1"
   ]
  },
  {
   "cell_type": "code",
   "execution_count": 57,
   "metadata": {},
   "outputs": [],
   "source": [
    "D=50"
   ]
  },
  {
   "cell_type": "code",
   "execution_count": 58,
   "metadata": {},
   "outputs": [
    {
     "name": "stdout",
     "output_type": "stream",
     "text": [
      "\n",
      "ECOS 2.0.7 - (C) embotech GmbH, Zurich Switzerland, 2012-15. Web: www.embotech.com/ECOS\n",
      "\n",
      "It     pcost       dcost      gap   pres   dres    k/t    mu     step   sigma     IR    |   BT\n",
      " 0  -1.037e+03  -6.595e+05  +2e+08  1e+00  8e-10  1e+00  3e+02    ---    ---    1  1  - |  -  - \n",
      " 1  -2.056e+03  -5.628e+05  +2e+08  8e-01  3e-09  3e+00  3e+02  0.0069  8e-01   0  0  0 |  0  0\n",
      " 2  -2.310e+03  -4.630e+05  +2e+08  7e-01  6e-09  5e+00  3e+02  0.0099  1e+00   0  0  0 |  0  0\n",
      " 3  -2.625e+03  -2.761e+05  +2e+08  4e-01  7e-09  1e+01  3e+02  0.0331  9e-01   0  0  0 |  0  0\n",
      " 4  -4.736e+03  -8.001e+04  +2e+08  1e-01  7e-09  2e+01  2e+02  0.1282  7e-01   0  0  0 |  0  0\n",
      " 5  -4.464e+03  -7.629e+04  +2e+08  1e-01  7e-09  2e+01  2e+02  0.0056  9e-01   0  0  0 |  0  0\n",
      " 6  -4.046e+03  -7.531e+04  +2e+08  1e-01  6e-09  2e+01  2e+02  0.0051  9e-01   0  0  0 |  0  0\n",
      " 7  +1.799e+04  -2.136e+05  +2e+08  4e-01  8e-09  1e+02  2e+02  0.0345  9e-01   1  1  1 |  0  0\n",
      " 8  -2.764e+03  -9.635e+04  +2e+08  1e-01  8e-10  1e+01  2e+02  0.0984  1e+00   1  1  0 |  0  0\n",
      " 9  +4.862e+03  -7.064e+04  +2e+08  1e-01  1e-09  2e+01  2e+02  0.0687  9e-01   0  0  0 |  0  0\n",
      "10  +7.783e+03  -3.927e+05  +2e+08  8e-01  2e-09  1e+02  2e+02  0.7633  7e-01   1  0  0 |  0  0\n",
      "11  +2.725e+06  -3.168e+07  +1e+08  8e+01  4e-07  4e+04  2e+02  0.2109  3e-01   0  1  0 |  0  0\n",
      "12  +8.515e+04  -9.093e+05  +1e+08  3e+00  1e-08  2e+05  2e+02  0.0333  1e+00   0  1  0 |  0  0\n",
      "13  +3.331e+04  -4.014e+05  +1e+08  2e+00  3e-09  1e+05  1e+02  0.1935  3e-01   0  0  0 |  0  0\n",
      "14  +1.471e+03  -1.107e+05  +9e+07  6e-01  1e-09  4e+04  1e+02  0.5771  5e-01   0  0  0 |  0  0\n",
      "15  +8.010e+04  +1.619e+05  +2e+07  6e+00  5e-09  4e+05  2e+01  0.8329  3e-02   0  0  0 |  0  0\n",
      "16  +6.752e+04  +1.646e+07  +3e+05  5e+01  3e-07  2e+07  3e-01  0.9826  2e-04   1  1  1 |  0  0\n",
      "17  +6.570e+04  +1.465e+09  +3e+03  5e+01  9e-07  1e+09  4e-03  0.9890  1e-04   2  1  1 |  0  0\n",
      "18  +6.413e+04  +1.296e+11  +4e+01  5e+01  1e-06  1e+11  4e-05  0.9890  1e-04   2  1  2 |  0  0\n",
      "\n",
      "PRIMAL INFEASIBLE (within feastol=5.4e-10).\n",
      "Runtime: 13.616147 seconds.\n",
      "\n"
     ]
    },
    {
     "data": {
      "text/plain": [
       "inf"
      ]
     },
     "execution_count": 58,
     "metadata": {},
     "output_type": "execute_result"
    }
   ],
   "source": [
    "f2 = cp.Variable((e3,1))\n",
    "constraints = [M.T@f2<=0, f2>=0, e_n.T@f2<=D, e_n.T@f2>=D, f2<=c]\n",
    "obj = cp.Minimize(a.T@f2)\n",
    "prob = cp.Problem(obj, constraints)\n",
    "prob.solve(verbose=True)"
   ]
  },
  {
   "cell_type": "code",
   "execution_count": 40,
   "metadata": {},
   "outputs": [],
   "source": [
    "f2_v=np.around(f2.value)"
   ]
  },
  {
   "cell_type": "code",
   "execution_count": 45,
   "metadata": {},
   "outputs": [
    {
     "data": {
      "text/plain": [
       "440605"
      ]
     },
     "execution_count": 45,
     "metadata": {},
     "output_type": "execute_result"
    }
   ],
   "source": [
    "len(f2_v)"
   ]
  },
  {
   "cell_type": "code",
   "execution_count": 53,
   "metadata": {},
   "outputs": [
    {
     "data": {
      "text/plain": [
       "440605"
      ]
     },
     "execution_count": 53,
     "metadata": {},
     "output_type": "execute_result"
    }
   ],
   "source": [
    "len(np.where(f2_v>0.999999)[0])+len(np.where(f2_v<=0.000001)[0])"
   ]
  }
 ],
 "metadata": {
  "kernelspec": {
   "display_name": "Python 3",
   "language": "python",
   "name": "python3"
  },
  "language_info": {
   "codemirror_mode": {
    "name": "ipython",
    "version": 3
   },
   "file_extension": ".py",
   "mimetype": "text/x-python",
   "name": "python",
   "nbconvert_exporter": "python",
   "pygments_lexer": "ipython3",
   "version": "3.7.5"
  }
 },
 "nbformat": 4,
 "nbformat_minor": 4
}
