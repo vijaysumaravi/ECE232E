{
 "cells": [
  {
   "cell_type": "markdown",
   "metadata": {},
   "source": [
    "# Project 2 - Social Network Mining\n",
    "\n",
    "## Part 1 - Facebook network"
   ]
  },
  {
   "cell_type": "code",
   "execution_count": 2,
   "metadata": {},
   "outputs": [
    {
     "name": "stderr",
     "output_type": "stream",
     "text": [
      "\n",
      "Attaching package: ‘igraph’\n",
      "\n",
      "\n",
      "The following objects are masked from ‘package:stats’:\n",
      "\n",
      "    decompose, spectrum\n",
      "\n",
      "\n",
      "The following object is masked from ‘package:base’:\n",
      "\n",
      "    union\n",
      "\n",
      "\n",
      "\n",
      "Attaching package: ‘pracma’\n",
      "\n",
      "\n",
      "The following objects are masked from ‘package:Matrix’:\n",
      "\n",
      "    expm, lu, tril, triu\n",
      "\n",
      "\n",
      "\n",
      "Attaching package: ‘infotheo’\n",
      "\n",
      "\n",
      "The following objects are masked from ‘package:entropy’:\n",
      "\n",
      "    discretize, entropy\n",
      "\n",
      "\n"
     ]
    }
   ],
   "source": [
    "# # Install Necessary Packages\n",
    "# install.packages(\"igraph\")\n",
    "# install.packages(\"Matrix\")\n",
    "# install.packages(\"pracma\")\n",
    "# install.packages(\"entropy\")\n",
    "# install.packages('infotheo')\n",
    "\n",
    "# Load Packages \n",
    "library('igraph')\n",
    "library('Matrix')\n",
    "library('pracma')\n",
    "library('igraph')\n",
    "library('entropy')\n",
    "library('infotheo')"
   ]
  },
  {
   "cell_type": "code",
   "execution_count": 20,
   "metadata": {},
   "outputs": [],
   "source": [
    "# Load the facebook network graph\n",
    "data_frame_fb_network = as.matrix(read.table('data/facebook_combined.txt', header = FALSE, sep = \" \")) + 1\n",
    "graph_fb_network = graph_from_edgelist(data_frame_fb, directed = FALSE)"
   ]
  },
  {
   "cell_type": "markdown",
   "metadata": {},
   "source": [
    "**QUESTION 16:** What is |Nr|, i.e. the length of the list Nr?"
   ]
  },
  {
   "cell_type": "code",
   "execution_count": 45,
   "metadata": {},
   "outputs": [
    {
     "name": "stdout",
     "output_type": "stream",
     "text": [
      "[1] \"Number of users with degree 24 : \"\n"
     ]
    },
    {
     "data": {
      "text/html": [
       "11"
      ],
      "text/latex": [
       "11"
      ],
      "text/markdown": [
       "11"
      ],
      "text/plain": [
       "[1] 11"
      ]
     },
     "metadata": {},
     "output_type": "display_data"
    },
    {
     "name": "stdout",
     "output_type": "stream",
     "text": [
      "[1] \"Users of node 415 with degree 24 : \"\n"
     ]
    },
    {
     "data": {
      "text/html": [
       "<style>\n",
       ".list-inline {list-style: none; margin:0; padding: 0}\n",
       ".list-inline>li {display: inline-block}\n",
       ".list-inline>li:not(:last-child)::after {content: \"\\00b7\"; padding: 0 .5ex}\n",
       "</style>\n",
       "<ol class=list-inline><li>31</li><li>53</li><li>75</li><li>90</li><li>93</li><li>102</li><li>118</li><li>133</li><li>134</li><li>136</li><li>137</li></ol>\n"
      ],
      "text/latex": [
       "\\begin{enumerate*}\n",
       "\\item 31\n",
       "\\item 53\n",
       "\\item 75\n",
       "\\item 90\n",
       "\\item 93\n",
       "\\item 102\n",
       "\\item 118\n",
       "\\item 133\n",
       "\\item 134\n",
       "\\item 136\n",
       "\\item 137\n",
       "\\end{enumerate*}\n"
      ],
      "text/markdown": [
       "1. 31\n",
       "2. 53\n",
       "3. 75\n",
       "4. 90\n",
       "5. 93\n",
       "6. 102\n",
       "7. 118\n",
       "8. 133\n",
       "9. 134\n",
       "10. 136\n",
       "11. 137\n",
       "\n",
       "\n"
      ],
      "text/plain": [
       " [1]  31  53  75  90  93 102 118 133 134 136 137"
      ]
     },
     "metadata": {},
     "output_type": "display_data"
    }
   ],
   "source": [
    "# get neighbors of node ID 415\n",
    "neighbor_ids = as_ids(neighbors(graph_fb_network, 415, mode = \"all\"))\n",
    "neighbor_ids = append(neighbor_ids, 415)\n",
    "\n",
    "# create a sub-graph\n",
    "node_415_sub_graph = induced_subgraph(graph_fb_network, neighbor_ids)\n",
    "\n",
    "# get users with degree greater than 24. \n",
    "degree_list_all = degree(node_415_sub_graph, mode = \"all\")\n",
    "degree_list_24 = which(degree_list_all == 24)\n",
    "N_r = length(degree_list_24)\n",
    "\n",
    "# print Nr\n",
    "print(\"Number of users with degree 24 : \")\n",
    "N_r\n",
    "print(\"Users of node 415 with degree 24 : \")\n",
    "degree_list_24\n"
   ]
  },
  {
   "cell_type": "markdown",
   "metadata": {},
   "source": [
    "**QUESTION 17:** Compute the average accuracy of the friend recommendation algorithm that\n",
    "uses:\n",
    "\n",
    "• Common Neighbors measure\n",
    "\n",
    "• Jaccard measure\n",
    "\n",
    "• Adamic Adar measure\n",
    "\n",
    "Based on the average accuracy values, which friend recommendation algorithm is the best?\n",
    "\n",
    "Hint Useful function(s): similarity"
   ]
  },
  {
   "cell_type": "code",
   "execution_count": 59,
   "metadata": {},
   "outputs": [
    {
     "name": "stdout",
     "output_type": "stream",
     "text": [
      "[1] \"Average accuarcy of Commmon neighbors measure recommendation for user 31 is 0.47486291\"\n",
      "[1] \"Average accuarcy of Commmon neighbors measure recommendation for user 53 is 1.00000000\"\n",
      "[1] \"Average accuarcy of Commmon neighbors measure recommendation for user 75 is 0.92250000\"\n",
      "[1] \"Average accuarcy of Commmon neighbors measure recommendation for user 90 is 0.79916667\"\n",
      "[1] \"Average accuarcy of Commmon neighbors measure recommendation for user 93 is 0.43107143\"\n",
      "[1] \"Average accuarcy of Commmon neighbors measure recommendation for user 102 is 1.00000000\"\n",
      "[1] \"Average accuarcy of Commmon neighbors measure recommendation for user 118 is 0.92543651\"\n",
      "[1] \"Average accuarcy of Commmon neighbors measure recommendation for user 133 is 1.00000000\"\n",
      "[1] \"Average accuarcy of Commmon neighbors measure recommendation for user 134 is 0.98888889\"\n",
      "[1] \"Average accuarcy of Commmon neighbors measure recommendation for user 136 is 0.90119048\"\n",
      "[1] \"Average accuarcy of Commmon neighbors measure recommendation for user 137 is 0.96904762\"\n",
      "\n",
      "[1] \"Average accuarcy of Commmon neighbors measure is 0.85565132\"\n"
     ]
    }
   ],
   "source": [
    "# Average Accuracy of Common Neighbors measure\n",
    "avg_accuracy_users = c()\n",
    "max_steps = 10\n",
    "for(node_i in degree_list_24){\n",
    "    \n",
    "    iteration_accuracy = c()\n",
    "    for (step in c(1:max_steps)){\n",
    "        \n",
    "        iteration_graph = node_415_sub_graph\n",
    "        R_i = c() # list of friends deleted\n",
    "        neighbors_of_node_i = as_ids(neighbors(iteration_graph, node_i, mode = \"all\"))\n",
    "        for (node in neighbors_of_node_i){\n",
    "            \n",
    "            if (runif(1, 0, 1) <= 0.25){\n",
    "                \n",
    "                iteration_graph = delete_edges(iteration_graph, edge(node, node_i)) # delete nodes at ranodom. \n",
    "                R_i = append(R_i, node)\n",
    "            }\n",
    "        }\n",
    "        node_i_current_nighbors = setdiff(neighbors_of_node_i, R_i)\n",
    "        node_i_current_nighbors = append(node_i_current_nighbors, node_i)\n",
    "        node_i_neighbors_compliment = setdiff(V(iteration_graph), node_i_current_nighbors)\n",
    "        common_neighbors_measure = c()\n",
    "        for (node_j in node_i_neighbors_compliment){\n",
    "            \n",
    "            neighbors_of_node_j = as_ids(neighbors(iteration_graph, node_j, mode = \"all\"))\n",
    "            common_neighbors_nodei_nodej = intersect(node_i_current_nighbors, neighbors_of_node_j)\n",
    "            common_neighbors_measure = c(common_neighbors_measure, length(common_neighbors_nodei_nodej))\n",
    "        }\n",
    "        index = sort(common_neighbors_measure,decreasing=TRUE, index.return=TRUE)$ix\n",
    "        P_i = node_i_neighbors_compliment[index[1:length(R_i)]] # get the top |R_i| recommendations. \n",
    "        Pi_intersect_Ri = intersect(R_i, P_i) # P_i intersect R_i\n",
    "        iteration_accuracy = append(iteration_accuracy, length(Pi_intersect_Ri)/length(R_i)) # accuracy of prediction for user i in one iterartion\n",
    "\n",
    "    }\n",
    "    avg_accuracy_users = append(avg_accuracy_users,mean(iteration_accuracy)) # average accuracy of prediction for user i\n",
    "    print(sprintf(\"Average accuarcy of Commmon neighbors measure recommendation for user %d is %3.8f\", node_i,mean(iteration_accuracy)))  \n",
    "}\n",
    "avg_accuracy_common_neighbours_measure = mean(avg_accuracy_users) # average accuracy of prediction for the recommendation algorithm. \n",
    "cat(\"\\n\")\n",
    "print(sprintf(\"Average accuarcy of Commmon neighbors measure is %3.8f\",avg_accuracy_common_neighbours_measure))\n",
    "\n"
   ]
  },
  {
   "cell_type": "code",
   "execution_count": 62,
   "metadata": {},
   "outputs": [
    {
     "name": "stdout",
     "output_type": "stream",
     "text": [
      "[1] \"Average accuarcy of Jaccard measure recommendation for user 31 is 0.26323593\"\n",
      "[1] \"Average accuarcy of Jaccard measure recommendation for user 53 is 0.98333333\"\n",
      "[1] \"Average accuarcy of Jaccard measure recommendation for user 75 is 0.85884560\"\n",
      "[1] \"Average accuarcy of Jaccard measure recommendation for user 90 is 0.80321429\"\n",
      "[1] \"Average accuarcy of Jaccard measure recommendation for user 93 is 0.65884921\"\n",
      "[1] \"Average accuarcy of Jaccard measure recommendation for user 102 is 0.94722222\"\n",
      "[1] \"Average accuarcy of Jaccard measure recommendation for user 118 is 0.88960317\"\n",
      "[1] \"Average accuarcy of Jaccard measure recommendation for user 133 is 0.96571429\"\n",
      "[1] \"Average accuarcy of Jaccard measure recommendation for user 134 is 0.91666667\"\n",
      "[1] \"Average accuarcy of Jaccard measure recommendation for user 136 is 0.89626984\"\n",
      "[1] \"Average accuarcy of Jaccard measure recommendation for user 137 is 0.96888889\"\n",
      "\n",
      "[1] \"Average accuarcy of Jaccard measure is 0.83198577\"\n"
     ]
    }
   ],
   "source": [
    "# Average Accuracy of Jaccard Measure measure\n",
    "avg_accuracy_users = c()\n",
    "max_steps = 10\n",
    "for(node_i in degree_list_24){\n",
    "    \n",
    "    iteration_accuracy = c()\n",
    "    for (step in c(1:max_steps)){\n",
    "        \n",
    "        iteration_graph = node_415_sub_graph\n",
    "        R_i = c() # list of friends deleted\n",
    "        neighbors_of_node_i = as_ids(neighbors(iteration_graph, node_i, mode = \"all\"))\n",
    "        for (node in neighbors_of_node_i){\n",
    "            if (runif(1, 0, 1) <= 0.25){\n",
    "                iteration_graph = delete_edges(iteration_graph, edge(node, node_i)) # delete nodes at ranodom.\n",
    "                R_i = append(R_i, node)\n",
    "            }\n",
    "        }\n",
    "        node_i_current_nighbors = setdiff(neighbors_of_node_i, R_i)\n",
    "        node_i_current_nighbors = append(node_i_current_nighbors, node_i)\n",
    "        node_i_neighbors_compliment = setdiff(V(iteration_graph), node_i_current_nighbors)\n",
    "        jaccard_measure = c()\n",
    "        for (node_j in node_i_neighbors_compliment){\n",
    "            \n",
    "            neighbors_of_node_j = as_ids(neighbors(iteration_graph, node_j, mode = \"all\"))\n",
    "            common_neighbors_nodei_nodej = intersect(node_i_current_nighbors, neighbors_of_node_j)\n",
    "            all_neighbors_nodei_nodej = union_common_neighbours = union(node_i_current_nighbors, neighbors_of_node_j)\n",
    "            jaccard_measure = c(jaccard_measure, length(common_neighbors_nodei_nodej)/length(all_neighbors_nodei_nodej))\n",
    "        }\n",
    "        index = sort(jaccard_measure,decreasing=TRUE, index.return=TRUE)$ix\n",
    "        P_i = node_i_neighbors_compliment[index[1:length(R_i)]] # get the top |R_i| recommendations. \n",
    "        Pi_intersect_Ri = intersect(R_i, P_i) # P_i intersect R_i\n",
    "        iteration_accuracy = append(iteration_accuracy, length(Pi_intersect_Ri)/length(R_i)) # accuracy of prediction for user i in one iterartion\n",
    "        #     print(length(R_i))\n",
    "    }\n",
    "    avg_accuracy_users = append(avg_accuracy_users,mean(iteration_accuracy)) # average accuracy of prediction for user i\n",
    "    print(sprintf(\"Average accuarcy of Jaccard measure recommendation for user %d is %3.8f\", node_i,mean(iteration_accuracy)))  \n",
    "}\n",
    "avg_accuracy_jaccard_measure = mean(avg_accuracy_users) # average accuracy of prediction for the recommendation algorithm. \n",
    "cat(\"\\n\")\n",
    "print(sprintf(\"Average accuarcy of Jaccard measure is %3.8f\",avg_accuracy_jaccard_measure))\n",
    "\n"
   ]
  },
  {
   "cell_type": "code",
   "execution_count": 63,
   "metadata": {},
   "outputs": [
    {
     "name": "stdout",
     "output_type": "stream",
     "text": [
      "[1] \"Average accuarcy of Adamic-Adar measure recommendation for user 31 is 0.47460317\"\n",
      "[1] \"Average accuarcy of Adamic-Adar measure recommendation for user 53 is 0.99000000\"\n",
      "[1] \"Average accuarcy of Adamic-Adar measure recommendation for user 75 is 0.93555556\"\n",
      "[1] \"Average accuarcy of Adamic-Adar measure recommendation for user 90 is 0.83849206\"\n",
      "[1] \"Average accuarcy of Adamic-Adar measure recommendation for user 93 is 0.39285714\"\n",
      "[1] \"Average accuarcy of Adamic-Adar measure recommendation for user 102 is 0.99000000\"\n",
      "[1] \"Average accuarcy of Adamic-Adar measure recommendation for user 118 is 0.90158730\"\n",
      "[1] \"Average accuarcy of Adamic-Adar measure recommendation for user 133 is 1.00000000\"\n",
      "[1] \"Average accuarcy of Adamic-Adar measure recommendation for user 134 is 1.00000000\"\n",
      "[1] \"Average accuarcy of Adamic-Adar measure recommendation for user 136 is 0.86472222\"\n",
      "[1] \"Average accuarcy of Adamic-Adar measure recommendation for user 137 is 0.97083333\"\n",
      "\n",
      "[1] \"Average accuarcy of Adamic-Adar measure is 0.85078644\"\n"
     ]
    }
   ],
   "source": [
    "# Average Accuracy of Adamic-Adar Measure measure\n",
    "avg_accuracy_users = c()\n",
    "max_steps = 10\n",
    "for(node_i in degree_list_24){\n",
    "    \n",
    "    iteration_accuracy = c()\n",
    "    for (step in c(1:max_steps)){\n",
    "        \n",
    "        iteration_graph = node_415_sub_graph\n",
    "        R_i = c() # list of friends deleted\n",
    "        neighbors_of_node_i = as_ids(neighbors(iteration_graph, node_i, mode = \"all\"))\n",
    "        for (node in neighbors_of_node_i){\n",
    "            \n",
    "            if (runif(1, 0, 1) <= 0.25){\n",
    "                \n",
    "                iteration_graph = delete_edges(iteration_graph, edge(node, node_i)) # delete nodes at ranodom.\n",
    "                R_i = append(R_i, node)\n",
    "            }\n",
    "        }\n",
    "        node_i_current_nighbors = setdiff(neighbors_of_node_i, R_i)\n",
    "        node_i_current_nighbors = append(node_i_current_nighbors, node_i)\n",
    "        node_i_neighbors_compliment = setdiff(V(iteration_graph), node_i_current_nighbors)\n",
    "        adamic_adar_measure = c()\n",
    "        for (node_j in node_i_neighbors_compliment){\n",
    "            \n",
    "            neighbors_of_node_j = as_ids(neighbors(iteration_graph, node_j, mode = \"all\"))\n",
    "            common_neighbors_nodei_nodej = intersect(node_i_current_nighbors, neighbors_of_node_j)\n",
    "            log_term_k = 0\n",
    "            for (neighbour_k in common_neighbors_nodei_nodej){\n",
    "                \n",
    "                neighbour_size_k = length(neighbors(iteration_graph, neighbour_k, mode = \"all\"))\n",
    "                log_term_k = log_term_k + 1/log10(neighbour_size_k)\n",
    "            }\n",
    "            adamic_adar_measure = c(adamic_adar_measure, log_term_k)\n",
    "        }\n",
    "        index = sort(adamic_adar_measure,decreasing=TRUE, index.return=TRUE)$ix\n",
    "        P_i = node_i_neighbors_compliment[index[1:length(R_i)]] # get the top |R_i| recommendations. \n",
    "        Pi_intersect_Ri = intersect(R_i, P_i) # P_i intersect R_i\n",
    "        iteration_accuracy = append(iteration_accuracy, length(Pi_intersect_Ri)/length(R_i)) # accuracy of prediction for user i in one iterartion\n",
    "        #     print(length(R_i))\n",
    "    }\n",
    "    avg_accuracy_users = append(avg_accuracy_users,mean(iteration_accuracy)) # average accuracy of prediction for user i\n",
    "    print(sprintf(\"Average accuarcy of Adamic-Adar measure recommendation for user %d is %3.8f\", node_i,mean(iteration_accuracy)))  \n",
    "}\n",
    "avg_accuracy_adamic_adar_measure = mean(avg_accuracy_users) # average accuracy of prediction for the recommendation algorithm. \n",
    "cat(\"\\n\")\n",
    "print(sprintf(\"Average accuarcy of Adamic-Adar measure is %3.8f\",avg_accuracy_adamic_adar_measure))\n",
    "\n"
   ]
  }
 ],
 "metadata": {
  "kernelspec": {
   "display_name": "R",
   "language": "R",
   "name": "ir"
  },
  "language_info": {
   "codemirror_mode": "r",
   "file_extension": ".r",
   "mimetype": "text/x-r-source",
   "name": "R",
   "pygments_lexer": "r",
   "version": "4.0.0"
  }
 },
 "nbformat": 4,
 "nbformat_minor": 2
}
