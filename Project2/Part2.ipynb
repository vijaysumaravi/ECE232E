{
 "cells": [
  {
   "cell_type": "markdown",
   "metadata": {},
   "source": [
    "# Google+ Network"
   ]
  },
  {
   "cell_type": "code",
   "execution_count": 3,
   "metadata": {},
   "outputs": [],
   "source": [
    "# # Install Necessary Packages\n",
    "# install.packages(\"igraph\")\n",
    "# install.packages(\"Matrix\")\n",
    "# install.packages(\"pracma\")\n",
    "# install.packages(\"entropy\")\n",
    "# install.packages('infotheo')\n",
    "\n",
    "# Load Packages \n",
    "library('igraph')\n",
    "library('Matrix')\n",
    "library('pracma')\n",
    "library('igraph')\n",
    "library('entropy')\n",
    "library('infotheo')"
   ]
  },
  {
   "cell_type": "markdown",
   "metadata": {},
   "source": [
    "**QUESTION 18:** Create directed personal networks for users who have more than 2 circles. The data required to create such personal networks can be found in the file named gplus.tar.gz. How many personal networks are there?"
   ]
  },
  {
   "cell_type": "code",
   "execution_count": 10,
   "metadata": {},
   "outputs": [
    {
     "data": {
      "text/html": [
       "'Number of Personalized Networks with more than 2 circles is 57'"
      ],
      "text/latex": [
       "'Number of Personalized Networks with more than 2 circles is 57'"
      ],
      "text/markdown": [
       "'Number of Personalized Networks with more than 2 circles is 57'"
      ],
      "text/plain": [
       "[1] \"Number of Personalized Networks with more than 2 circles is 57\""
      ]
     },
     "metadata": {},
     "output_type": "display_data"
    }
   ],
   "source": [
    "all_files = list.files(path=\"data/gplus\", pattern=\"*.circles\")\n",
    "count = 0\n",
    "for (file in all_files){\n",
    "  circle_file = paste(\"data/gplus/\", file, sep=\"\")\n",
    "  if (length(readLines(circle_file)) > 2){\n",
    "    count = count + 1\n",
    "  }\n",
    "}\n",
    "sprintf(\"Number of Personalized Networks with more than 2 circles is %d\",count)"
   ]
  },
  {
   "cell_type": "markdown",
   "metadata": {},
   "source": [
    "**QUESTION 19:** For the 3 personal networks (node ID given below), plot the in-degree and outdegree distribution of these personal networks. Do the personal networks have a similar in and out degree distribution? In this question, you should have 6 plots.\n",
    "\n",
    "• 109327480479767108490\n",
    "\n",
    "• 115625564993990145546\n",
    "\n",
    "• 101373961279443806744"
   ]
  },
  {
   "cell_type": "code",
   "execution_count": 31,
   "metadata": {
    "scrolled": false
   },
   "outputs": [
    {
     "name": "stdout",
     "output_type": "stream",
     "text": [
      "[1] \"Node ID: 109327480479767108490\"\n",
      "[1] \"For the in-degree : mean=14.062, Variance=96.001\"\n",
      "[1] \"For the out-degree : mean=14.062, Variance=4588.177\"\n",
      "[1] \"Node ID: 115625564993990145546\"\n",
      "[1] \"For the in-degree : mean=43.640, Variance=1020.621\"\n",
      "[1] \"For the out-degree : mean=43.640, Variance=9351.303\"\n",
      "[1] \"Node ID: 101373961279443806744\"\n",
      "[1] \"For the in-degree : mean=298.118, Variance=86408.770\"\n",
      "[1] \"For the out-degree : mean=298.118, Variance=166186.737\"\n"
     ]
    }
   ],
   "source": [
    "# list of nodes.\n",
    "nodes_list = c(\"109327480479767108490\",\"115625564993990145546\",\"101373961279443806744\")\n",
    "for (node in nodes_list){\n",
    "    print(sprintf(\"Node ID: %s\",node))\n",
    "    node_file = paste(\"data/gplus/\", node, \".edges\", sep = \"\")\n",
    "    node_graph = read_graph(node_file, format=\"ncol\", directed=TRUE)\n",
    "    node_graph = add.vertices(node_graph, nv = 1, name = node)\n",
    "    \n",
    "    \n",
    "    index = which(V(node_graph)$name==node) \n",
    "  \n",
    "    el = c()\n",
    "    for (vertex in 1:(vcount(node_graph) - 1)) {\n",
    "        el = c(el, c(index, vertex))\n",
    "    }\n",
    "    node_graph = add_edges(node_graph, el)\n",
    "    \n",
    "    \n",
    "    print(sprintf(\"For the in-degree : mean=%5.3f, Variance=%5.3f\", mean(degree(node_graph,mode=\"in\")), var(degree(node_graph,mode=\"in\"))))\n",
    "    pdf(sprintf(\"plots/part2/q19_%s_in_degree.pdf\",node))\n",
    "    hist(degree(node_graph,mode=\"in\"),main= paste(\"In-degree Distribution of Node ID \",node),xlab=\"Degree\")\n",
    "    dev.off()\n",
    "    \n",
    "    print(sprintf(\"For the out-degree : mean=%5.3f, Variance=%5.3f\", mean(degree(node_graph,mode=\"out\")), var(degree(node_graph,mode=\"out\"))))\n",
    "    pdf(sprintf(\"plots/part2/q19_%s_out_degree.pdf\",node))\n",
    "    hist(degree(node_graph,mode=\"out\"),main= paste(\"Out-degree Distribution of Node ID \",node),xlab=\"Degree\")\n",
    "    dev.off()\n",
    "}"
   ]
  },
  {
   "cell_type": "markdown",
   "metadata": {},
   "source": [
    "**QUESTION 20:** For the 3 personal networks picked in Question 19, extract the community\n",
    "structure of each personal network using Walktrap community detection algorithm. Report the\n",
    "modularity scores and plot the communities using colors. Are the modularity scores similar? In this\n",
    "question, you should have 3 plots."
   ]
  },
  {
   "cell_type": "code",
   "execution_count": 32,
   "metadata": {},
   "outputs": [
    {
     "name": "stdout",
     "output_type": "stream",
     "text": [
      "[1] \"Node ID: 109327480479767108490\"\n",
      "[1] \"Modularity of Node ID 109327480479767108490 is 0.252765\"\n",
      "[1] \"Node ID: 115625564993990145546\"\n",
      "[1] \"Modularity of Node ID 115625564993990145546 is 0.319473\"\n",
      "[1] \"Node ID: 101373961279443806744\"\n",
      "[1] \"Modularity of Node ID 101373961279443806744 is 0.191090\"\n"
     ]
    }
   ],
   "source": [
    "# list of nodes.\n",
    "nodes_list = c(\"109327480479767108490\",\"115625564993990145546\",\"101373961279443806744\")\n",
    "for (node in nodes_list){\n",
    "    print(sprintf(\"Node ID: %s\",node))\n",
    "    node_file = paste(\"data/gplus/\", node, \".edges\", sep = \"\")\n",
    "    node_graph = read_graph(node_file, format=\"ncol\", directed=TRUE)\n",
    "    node_graph = add.vertices(node_graph, nv = 1, name = node)\n",
    "    \n",
    "    \n",
    "    index = which(V(node_graph)$name==node) \n",
    "  \n",
    "    el = c()\n",
    "    for (vertex in 1:(vcount(node_graph) - 1)) {\n",
    "        el = c(el, c(index, vertex))\n",
    "    }\n",
    "    node_graph = add_edges(node_graph, el)\n",
    "    \n",
    "    node_community  = walktrap.community(node_graph)\n",
    "    node_modularity = modularity(node_community)\n",
    "    print(sprintf(\"Modularity of Node ID %s is %2.6f\",node, node_modularity))\n",
    "    \n",
    "\n",
    "    pdf(sprintf(\"plots/part2/q20_%s_community_structure.pdf\",node))\n",
    "    plot(node_community, node_graph, main=sprintf(\"Community Structure (node ID =%s)\",node),vertex.size=5, vertex.label=NA, edge.color = \"grey\", layout=layout.fruchterman.reingold)\n",
    "    dev.off()\n",
    "    \n",
    "\n",
    "}"
   ]
  },
  {
   "cell_type": "markdown",
   "metadata": {},
   "source": [
    "**QUESTION 21:** Based on the expression for h and c, explain the meaning of homogeneity and\n",
    "completeness in words."
   ]
  },
  {
   "cell_type": "code",
   "execution_count": null,
   "metadata": {},
   "outputs": [],
   "source": [
    "# Answer in the report"
   ]
  },
  {
   "cell_type": "markdown",
   "metadata": {},
   "source": [
    "\n",
    "**QUESTION 22:** Compute the h and c values for the community structures of the 3 personal\n",
    "network (same nodes as Question 19). Interpret the values and provide a detailed explanation. Are\n",
    "there negative values? Why?"
   ]
  },
  {
   "cell_type": "code",
   "execution_count": 59,
   "metadata": {},
   "outputs": [
    {
     "name": "stdout",
     "output_type": "stream",
     "text": [
      "[1] \"Node ID: 109327480479767108490\"\n",
      "[1] \"Entropy H(C) = 0.45634767\"\n",
      "[1] \"Entropy H(K) = 0.43655637\"\n",
      "[1] \"Conditional Entropy H(C|K) = 0.06759188\"\n",
      "[1] \"Conditional Entropy H(K|C) = 0.29254781\"\n",
      "[1] \"Homogeneity h= 0.85188512\"\n",
      "[1] \"Completeness c= 0.32987391\"\n",
      "[1] \"V-measure V= 0.47558710\"\n",
      "\n",
      "[1] \"Node ID: 115625564993990145546\"\n",
      "[1] \"Entropy H(C) = 3.67636649\"\n",
      "[1] \"Entropy H(K) = 0.46955527\"\n",
      "[1] \"Conditional Entropy H(C|K) = 2.01505212\"\n",
      "[1] \"Conditional Entropy H(K|C) = 2.07729483\"\n",
      "[1] \"Homogeneity h= 0.45189030\"\n",
      "[1] \"Completeness c= -3.42396235\"\n",
      "[1] \"V-measure V= 1.04119642\"\n",
      "\n",
      "[1] \"Node ID: 101373961279443806744\"\n",
      "[1] \"Entropy H(C) = 0.16690804\"\n",
      "[1] \"Entropy H(K) = 0.21425076\"\n",
      "[1] \"Conditional Entropy H(C|K) = 0.16626265\"\n",
      "[1] \"Conditional Entropy H(K|C) = 0.53653499\"\n",
      "[1] \"Homogeneity h= 0.00386671\"\n",
      "[1] \"Completeness c= -1.50423839\"\n",
      "[1] \"V-measure V= 0.00775334\"\n",
      "\n"
     ]
    }
   ],
   "source": [
    "# list of nodes.\n",
    "nodes_list = c(\"109327480479767108490\",\"115625564993990145546\",\"101373961279443806744\")\n",
    "for (node in nodes_list){\n",
    "    strrep('**',75)\n",
    "    print(sprintf(\"Node ID: %s\",node))\n",
    "    node_circles_file_name = paste(\"data/gplus/\",node, \".circles\", sep=\"\")\n",
    "    node_circles_file_content = readLines(file(node_circles_file_name, open=\"r\"))\n",
    "    \n",
    "    # Get the circles for this node ID. \n",
    "    circles = list()\n",
    "    for (var in 1:length(node_circles_file_content)) {\n",
    "        circle_nodes = strsplit(node_circles_file_content[var],\"\\t\")\n",
    "        circles = c(circles, list(circle_nodes[[1]][-1]))\n",
    "    }\n",
    "    \n",
    "    # Calculate the 'N' term.\n",
    "    all_circles=c()\n",
    "    for ( circle in circles)\n",
    "        all_circles=c(all_circles,circle)\n",
    "    all_circle=unique(all_circles)\n",
    "    N=length(all_circle)\n",
    "    \n",
    "    # Calculating H(C) term. \n",
    "    h_c =0\n",
    "    for (circle in circles){\n",
    "        a_i = length(circle)\n",
    "        h_c=h_c-((a_i/N)* log10(a_i/N))\n",
    "        \n",
    "    }\n",
    "\n",
    "    # Find the community structure\n",
    "    node_edges_file = paste(\"data/gplus/\", node, \".edges\", sep = \"\")\n",
    "    node_graph = read_graph(node_edges_file, format=\"ncol\", directed=TRUE)\n",
    "    node_graph = add.vertices(node_graph, nv = 1, name = node)\n",
    "    index = which(V(node_graph)$name==node) \n",
    "    el = c()\n",
    "    for (vertex in 1:(vcount(node_graph) - 1)) {\n",
    "        el = c(el, c(index, vertex))\n",
    "    }\n",
    "    node_graph = add_edges(node_graph, el)\n",
    "    node_community  = walktrap.community(node_graph)\n",
    "    \n",
    "    #Find Community related entropy terms H(K) and conditional terms H(C|K) and H(K|C). \n",
    "    \n",
    "    h_ck=0\n",
    "    h_kc=0\n",
    "    h_k=0\n",
    "    \n",
    "    # check percentage of match for walktrap community \n",
    "    for(m in 1:max(node_community$membership)){\n",
    "\n",
    "        community_nodes = V(node_graph)$name[which(node_community$membership == m)]\n",
    "        b_i=length(intersect(community_nodes,all_circle))\n",
    "        if(b_i!=0) {\n",
    "            h_k<- h_k - ((b_i/N) * log10(b_i/N))\n",
    "            for (n in 1:length(circles)) {\n",
    "                common_nodes = intersect(community_nodes, circles[[n]])\n",
    "                c_ij<-length(unique(common_nodes))\n",
    "                A_i<-length(circles[[n]])\n",
    "                if(c_ij!=0){\n",
    "                    h_ck=h_ck- ((c_ij/N)*log10(c_ij/b_i))\n",
    "                    h_kc = h_kc - ((c_ij/N)*log10(c_ij/A_i))\n",
    "                }\n",
    "            }\n",
    "        }\n",
    "    }\n",
    "    \n",
    "    # Calculate homogenity, completeness and V-measure. \n",
    "    \n",
    "    homogenity =  1-(h_ck/h_c)\n",
    "    completeness = 1- (h_kc/h_k)\n",
    "    v_measure = 2*(homogenity*completeness)/(homogenity+completeness)\n",
    "    \n",
    "    print(sprintf(\"Entropy H(C) = %5.8f\",h_c))\n",
    "    print(sprintf(\"Entropy H(K) = %5.8f\",h_k))\n",
    "    print(sprintf(\"Conditional Entropy H(C|K) = %5.8f\",h_ck))\n",
    "    print(sprintf(\"Conditional Entropy H(K|C) = %5.8f\",h_kc))\n",
    "    \n",
    "    print(sprintf(\"Homogeneity h= %5.8f\", homogenity))\n",
    "    print(sprintf(\"Completeness c= %5.8f\", completeness))\n",
    "    \n",
    "    print(sprintf(\"V-measure V= %5.8f\", v_measure))\n",
    "    cat(\"\\n\")\n",
    "}\n"
   ]
  }
 ],
 "metadata": {
  "kernelspec": {
   "display_name": "R",
   "language": "R",
   "name": "ir"
  },
  "language_info": {
   "codemirror_mode": "r",
   "file_extension": ".r",
   "mimetype": "text/x-r-source",
   "name": "R",
   "pygments_lexer": "r",
   "version": "4.0.0"
  }
 },
 "nbformat": 4,
 "nbformat_minor": 2
}
